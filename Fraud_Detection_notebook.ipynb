{
 "cells": [
  {
   "cell_type": "markdown",
   "metadata": {},
   "source": [
    "## Business Case\n",
    "\n",
    "For this case you will try to find fraudulent cases in the Database with Historical Claims of our customer “Farid Insurances”, by using Python as your programming language. Farid Insurances is using only one Line of Business, which is Motor. This means that every claim in the Database will contain an object, which is a car.\n",
    "\n",
    "There are three CSV files needed for the case, called “fraud_cases.csv”, “ClaimHistory_training.csv” and “ClaimHistory_validation.csv”. Note that each row in the data represents a claim and each column in the data represents a variable belonging to the claim. \n",
    "\n",
    "1)\tFind out which of the 80.000 cases in the training data are fraudulent cases, by mapping the file “fraud_cases.csv” to the training data. How many fraud cases can you find?\n",
    "\n",
    "2)\tThe customer wants to know when the number of days between the occurrence of the claim and the report date of the claim is high. Based on this information, an indicator at Farid can be made. Explain what you think is a high number, based on the training data.\n",
    "\n",
    "3)\tClean the data by removing irrelevant features, cleaning up features and by engineering any useful new feature that you might think of.\n",
    "\n",
    "4)\tTrain a model based on the training data and the responding fraud cases. Choose any model you like. Keep in mind that the data is very imbalanced and you should be able to explain your model to business!\n",
    "\n",
    "5)\tClassify the validation set (20.000 cases)\n",
    "\n",
    "6)\tReport the results in confusion matrix.\n",
    "\n",
    "## Feature names: \n",
    "\n",
    "#### 'sys_sector' - Sector in which the claim occured\n",
    "#### 'sys_process' -\n",
    "#### 'sys_product'- \n",
    "#### 'sys_dataspecification_version' \n",
    "#### 'sys_claimid'- Claim ID\n",
    "#### 'sys_currency_code'- Currency code of the payment.\n",
    "#### 'claim_amount_claimed_total' - Total Amount for which the claim was made.\n",
    "#### 'claim_causetype' - Cause of the accident.\n",
    "#### 'claim_date_occurred' - The date at which accident occured.\n",
    "#### 'claim_date_reported' - The date at which claim was reported.\n",
    "#### 'claim_location_urban_area', - The area in which claim happened is urban or not. (1 - Urban)\n",
    "#### 'object_make' - The make of motor insured.\n",
    "#### 'object_year_construction'- Manufacturing year of motor.\n",
    "#### 'ph_firstname'- Policy holder's first name.\n",
    "#### 'ph_gender' - Policy holder's gender.\n",
    "#### 'ph_name' - Policy holder's  name.\n",
    "#### 'policy_fleet_flag' - Is the policy taken for fleet or individual motor. (1- Fleet motor)\n",
    "#### 'policy_insured_amount' - Insured amount of policy.\n",
    "####  'policy_profitability' -  profitable category for insurance policy.\n"
   ]
  },
  {
   "cell_type": "markdown",
   "metadata": {},
   "source": [
    "## Importing Libraries"
   ]
  },
  {
   "cell_type": "code",
   "execution_count": 1,
   "metadata": {},
   "outputs": [],
   "source": [
    "import pandas as pd\n",
    "import matplotlib\n",
    "import matplotlib.pyplot as plt\n",
    "import seaborn as sns\n",
    "import numpy as np\n",
    "sns.set_style(\"whitegrid\")\n",
    "from sklearn.model_selection import train_test_split\n",
    "from sklearn.linear_model import LogisticRegression\n",
    "from sklearn.metrics import accuracy_score\n",
    "from sklearn.metrics import confusion_matrix\n",
    "from sklearn.metrics import plot_confusion_matrix\n",
    "from sklearn.metrics import cohen_kappa_score"
   ]
  },
  {
   "cell_type": "markdown",
   "metadata": {},
   "source": [
    "## Loading the databases"
   ]
  },
  {
   "cell_type": "code",
   "execution_count": 2,
   "metadata": {},
   "outputs": [
    {
     "data": {
      "text/html": [
       "<div>\n",
       "<style scoped>\n",
       "    .dataframe tbody tr th:only-of-type {\n",
       "        vertical-align: middle;\n",
       "    }\n",
       "\n",
       "    .dataframe tbody tr th {\n",
       "        vertical-align: top;\n",
       "    }\n",
       "\n",
       "    .dataframe thead th {\n",
       "        text-align: right;\n",
       "    }\n",
       "</style>\n",
       "<table border=\"1\" class=\"dataframe\">\n",
       "  <thead>\n",
       "    <tr style=\"text-align: right;\">\n",
       "      <th></th>\n",
       "      <th>ClaimID</th>\n",
       "      <th>Date_Occurred</th>\n",
       "    </tr>\n",
       "  </thead>\n",
       "  <tbody>\n",
       "    <tr>\n",
       "      <th>0</th>\n",
       "      <td>768000066</td>\n",
       "      <td>20120707</td>\n",
       "    </tr>\n",
       "    <tr>\n",
       "      <th>1</th>\n",
       "      <td>709296250</td>\n",
       "      <td>20120711</td>\n",
       "    </tr>\n",
       "    <tr>\n",
       "      <th>2</th>\n",
       "      <td>726714358</td>\n",
       "      <td>20120712</td>\n",
       "    </tr>\n",
       "    <tr>\n",
       "      <th>3</th>\n",
       "      <td>520593970</td>\n",
       "      <td>20120716</td>\n",
       "    </tr>\n",
       "    <tr>\n",
       "      <th>4</th>\n",
       "      <td>102695400</td>\n",
       "      <td>20120726</td>\n",
       "    </tr>\n",
       "  </tbody>\n",
       "</table>\n",
       "</div>"
      ],
      "text/plain": [
       "     ClaimID  Date_Occurred\n",
       "0  768000066       20120707\n",
       "1  709296250       20120711\n",
       "2  726714358       20120712\n",
       "3  520593970       20120716\n",
       "4  102695400       20120726"
      ]
     },
     "execution_count": 2,
     "metadata": {},
     "output_type": "execute_result"
    }
   ],
   "source": [
    "data1 = pd.read_csv('fraud_cases.csv')\n",
    "data1.head()"
   ]
  },
  {
   "cell_type": "code",
   "execution_count": 3,
   "metadata": {},
   "outputs": [
    {
     "data": {
      "text/html": [
       "<div>\n",
       "<style scoped>\n",
       "    .dataframe tbody tr th:only-of-type {\n",
       "        vertical-align: middle;\n",
       "    }\n",
       "\n",
       "    .dataframe tbody tr th {\n",
       "        vertical-align: top;\n",
       "    }\n",
       "\n",
       "    .dataframe thead th {\n",
       "        text-align: right;\n",
       "    }\n",
       "</style>\n",
       "<table border=\"1\" class=\"dataframe\">\n",
       "  <thead>\n",
       "    <tr style=\"text-align: right;\">\n",
       "      <th></th>\n",
       "      <th>sys_sector</th>\n",
       "      <th>sys_process</th>\n",
       "      <th>sys_product</th>\n",
       "      <th>sys_dataspecification_version</th>\n",
       "      <th>sys_claimid</th>\n",
       "      <th>sys_currency_code</th>\n",
       "      <th>claim_amount_claimed_total</th>\n",
       "      <th>claim_causetype</th>\n",
       "      <th>claim_date_occurred</th>\n",
       "      <th>claim_date_reported</th>\n",
       "      <th>claim_location_urban_area</th>\n",
       "      <th>object_make</th>\n",
       "      <th>object_year_construction</th>\n",
       "      <th>ph_firstname</th>\n",
       "      <th>ph_gender</th>\n",
       "      <th>ph_name</th>\n",
       "      <th>policy_fleet_flag</th>\n",
       "      <th>policy_insured_amount</th>\n",
       "      <th>policy_profitability</th>\n",
       "    </tr>\n",
       "  </thead>\n",
       "  <tbody>\n",
       "    <tr>\n",
       "      <th>0</th>\n",
       "      <td>Private NonLife</td>\n",
       "      <td>Claims_initial_load</td>\n",
       "      <td>MOTOR</td>\n",
       "      <td>4.5</td>\n",
       "      <td>MTR-338957796-02</td>\n",
       "      <td>EUR</td>\n",
       "      <td>2433.0</td>\n",
       "      <td>Collision</td>\n",
       "      <td>20121022</td>\n",
       "      <td>20121127</td>\n",
       "      <td>1</td>\n",
       "      <td>VOLKSWAGEN</td>\n",
       "      <td>2008.0</td>\n",
       "      <td>Teresita</td>\n",
       "      <td>F</td>\n",
       "      <td>Sanchez</td>\n",
       "      <td>0</td>\n",
       "      <td>74949.0</td>\n",
       "      <td>Low</td>\n",
       "    </tr>\n",
       "    <tr>\n",
       "      <th>1</th>\n",
       "      <td>Private NonLife</td>\n",
       "      <td>Claims_initial_load</td>\n",
       "      <td>MOTOR</td>\n",
       "      <td>4.5</td>\n",
       "      <td>MTR-434911509-02</td>\n",
       "      <td>EUR</td>\n",
       "      <td>3791.0</td>\n",
       "      <td>Collision</td>\n",
       "      <td>20140612</td>\n",
       "      <td>20140618</td>\n",
       "      <td>1</td>\n",
       "      <td>CITROEN</td>\n",
       "      <td>2003.0</td>\n",
       "      <td>Charanaka</td>\n",
       "      <td>M</td>\n",
       "      <td>Yim</td>\n",
       "      <td>0</td>\n",
       "      <td>100648.0</td>\n",
       "      <td>Very low</td>\n",
       "    </tr>\n",
       "    <tr>\n",
       "      <th>2</th>\n",
       "      <td>Private NonLife</td>\n",
       "      <td>Claims_initial_load</td>\n",
       "      <td>MOTOR</td>\n",
       "      <td>4.5</td>\n",
       "      <td>MTR-615568027-02</td>\n",
       "      <td>EUR</td>\n",
       "      <td>452.0</td>\n",
       "      <td>Collision</td>\n",
       "      <td>20130506</td>\n",
       "      <td>20130923</td>\n",
       "      <td>1</td>\n",
       "      <td>RENAULT</td>\n",
       "      <td>2001.0</td>\n",
       "      <td>Wisaam</td>\n",
       "      <td>L</td>\n",
       "      <td>el-Kalil</td>\n",
       "      <td>0</td>\n",
       "      <td>NaN</td>\n",
       "      <td>Low</td>\n",
       "    </tr>\n",
       "    <tr>\n",
       "      <th>3</th>\n",
       "      <td>Private NonLife</td>\n",
       "      <td>Claims_initial_load</td>\n",
       "      <td>MOTOR</td>\n",
       "      <td>4.5</td>\n",
       "      <td>MTR-917387010-02</td>\n",
       "      <td>EUR</td>\n",
       "      <td>555.0</td>\n",
       "      <td>Collision</td>\n",
       "      <td>20171112</td>\n",
       "      <td>20171206</td>\n",
       "      <td>1</td>\n",
       "      <td>RENAULT</td>\n",
       "      <td>2017.0</td>\n",
       "      <td>Dillon</td>\n",
       "      <td>M</td>\n",
       "      <td>Hilfiker</td>\n",
       "      <td>0</td>\n",
       "      <td>121081.0</td>\n",
       "      <td>High</td>\n",
       "    </tr>\n",
       "    <tr>\n",
       "      <th>4</th>\n",
       "      <td>Private NonLife</td>\n",
       "      <td>Claims_initial_load</td>\n",
       "      <td>MOTOR</td>\n",
       "      <td>4.5</td>\n",
       "      <td>MTR-281513737-02</td>\n",
       "      <td>EUR</td>\n",
       "      <td>382.0</td>\n",
       "      <td>Collision</td>\n",
       "      <td>20151021</td>\n",
       "      <td>20151202</td>\n",
       "      <td>1</td>\n",
       "      <td>BMW</td>\n",
       "      <td>2011.0</td>\n",
       "      <td>Carmen</td>\n",
       "      <td>F</td>\n",
       "      <td>Lovelace</td>\n",
       "      <td>0</td>\n",
       "      <td>94538.0</td>\n",
       "      <td>Very high</td>\n",
       "    </tr>\n",
       "  </tbody>\n",
       "</table>\n",
       "</div>"
      ],
      "text/plain": [
       "        sys_sector          sys_process sys_product  \\\n",
       "0  Private NonLife  Claims_initial_load       MOTOR   \n",
       "1  Private NonLife  Claims_initial_load       MOTOR   \n",
       "2  Private NonLife  Claims_initial_load       MOTOR   \n",
       "3  Private NonLife  Claims_initial_load       MOTOR   \n",
       "4  Private NonLife  Claims_initial_load       MOTOR   \n",
       "\n",
       "   sys_dataspecification_version       sys_claimid sys_currency_code  \\\n",
       "0                            4.5  MTR-338957796-02               EUR   \n",
       "1                            4.5  MTR-434911509-02               EUR   \n",
       "2                            4.5  MTR-615568027-02               EUR   \n",
       "3                            4.5  MTR-917387010-02               EUR   \n",
       "4                            4.5  MTR-281513737-02               EUR   \n",
       "\n",
       "   claim_amount_claimed_total claim_causetype  claim_date_occurred  \\\n",
       "0                      2433.0       Collision             20121022   \n",
       "1                      3791.0       Collision             20140612   \n",
       "2                       452.0       Collision             20130506   \n",
       "3                       555.0       Collision             20171112   \n",
       "4                       382.0       Collision             20151021   \n",
       "\n",
       "   claim_date_reported  claim_location_urban_area object_make  \\\n",
       "0             20121127                          1  VOLKSWAGEN   \n",
       "1             20140618                          1     CITROEN   \n",
       "2             20130923                          1     RENAULT   \n",
       "3             20171206                          1     RENAULT   \n",
       "4             20151202                          1         BMW   \n",
       "\n",
       "   object_year_construction ph_firstname ph_gender   ph_name  \\\n",
       "0                    2008.0     Teresita         F   Sanchez   \n",
       "1                    2003.0    Charanaka         M       Yim   \n",
       "2                    2001.0       Wisaam         L  el-Kalil   \n",
       "3                    2017.0       Dillon         M  Hilfiker   \n",
       "4                    2011.0       Carmen         F  Lovelace   \n",
       "\n",
       "   policy_fleet_flag  policy_insured_amount policy_profitability  \n",
       "0                  0                74949.0                  Low  \n",
       "1                  0               100648.0             Very low  \n",
       "2                  0                    NaN                  Low  \n",
       "3                  0               121081.0                 High  \n",
       "4                  0                94538.0            Very high  "
      ]
     },
     "execution_count": 3,
     "metadata": {},
     "output_type": "execute_result"
    }
   ],
   "source": [
    "## This data will be used for training the model\n",
    "data2 = pd.read_csv('ClaimHistory_training.csv')\n",
    "data2.head()"
   ]
  },
  {
   "cell_type": "code",
   "execution_count": 4,
   "metadata": {},
   "outputs": [
    {
     "data": {
      "text/html": [
       "<div>\n",
       "<style scoped>\n",
       "    .dataframe tbody tr th:only-of-type {\n",
       "        vertical-align: middle;\n",
       "    }\n",
       "\n",
       "    .dataframe tbody tr th {\n",
       "        vertical-align: top;\n",
       "    }\n",
       "\n",
       "    .dataframe thead th {\n",
       "        text-align: right;\n",
       "    }\n",
       "</style>\n",
       "<table border=\"1\" class=\"dataframe\">\n",
       "  <thead>\n",
       "    <tr style=\"text-align: right;\">\n",
       "      <th></th>\n",
       "      <th>sys_sector</th>\n",
       "      <th>sys_process</th>\n",
       "      <th>sys_product</th>\n",
       "      <th>sys_dataspecification_version</th>\n",
       "      <th>sys_claimid</th>\n",
       "      <th>sys_currency_code</th>\n",
       "      <th>claim_amount_claimed_total</th>\n",
       "      <th>claim_causetype</th>\n",
       "      <th>claim_date_occurred</th>\n",
       "      <th>claim_date_reported</th>\n",
       "      <th>claim_location_urban_area</th>\n",
       "      <th>object_make</th>\n",
       "      <th>object_year_construction</th>\n",
       "      <th>ph_firstname</th>\n",
       "      <th>ph_gender</th>\n",
       "      <th>ph_name</th>\n",
       "      <th>policy_fleet_flag</th>\n",
       "      <th>policy_insured_amount</th>\n",
       "      <th>policy_profitability</th>\n",
       "      <th>sys_fraud</th>\n",
       "    </tr>\n",
       "  </thead>\n",
       "  <tbody>\n",
       "    <tr>\n",
       "      <th>0</th>\n",
       "      <td>Private NonLife</td>\n",
       "      <td>Claims_initial_load</td>\n",
       "      <td>MOTOR</td>\n",
       "      <td>4.5</td>\n",
       "      <td>MTR-666202639-02</td>\n",
       "      <td>EUR</td>\n",
       "      <td>2627.0</td>\n",
       "      <td>Collision</td>\n",
       "      <td>20150521</td>\n",
       "      <td>20160916</td>\n",
       "      <td>0</td>\n",
       "      <td>OTHER</td>\n",
       "      <td>2014.0</td>\n",
       "      <td>Shishan</td>\n",
       "      <td>F</td>\n",
       "      <td>Lor</td>\n",
       "      <td>0</td>\n",
       "      <td>114718.0</td>\n",
       "      <td>Very low</td>\n",
       "      <td>0</td>\n",
       "    </tr>\n",
       "    <tr>\n",
       "      <th>1</th>\n",
       "      <td>Private NonLife</td>\n",
       "      <td>Claims_initial_load</td>\n",
       "      <td>MOTOR</td>\n",
       "      <td>4.5</td>\n",
       "      <td>MTR-258901077-02</td>\n",
       "      <td>EUR</td>\n",
       "      <td>269.0</td>\n",
       "      <td>Other</td>\n",
       "      <td>20130302</td>\n",
       "      <td>20130304</td>\n",
       "      <td>0</td>\n",
       "      <td>AUDI</td>\n",
       "      <td>1999.0</td>\n",
       "      <td>Dominic</td>\n",
       "      <td>M</td>\n",
       "      <td>Purnell</td>\n",
       "      <td>0</td>\n",
       "      <td>117522.0</td>\n",
       "      <td>Neutral</td>\n",
       "      <td>0</td>\n",
       "    </tr>\n",
       "    <tr>\n",
       "      <th>2</th>\n",
       "      <td>Private NonLife</td>\n",
       "      <td>Claims_initial_load</td>\n",
       "      <td>MOTOR</td>\n",
       "      <td>4.5</td>\n",
       "      <td>MTR-547929317-02</td>\n",
       "      <td>EUR</td>\n",
       "      <td>157.0</td>\n",
       "      <td>Collision</td>\n",
       "      <td>20121030</td>\n",
       "      <td>20121127</td>\n",
       "      <td>1</td>\n",
       "      <td>RENAULT</td>\n",
       "      <td>2009.0</td>\n",
       "      <td>Katalina</td>\n",
       "      <td>F</td>\n",
       "      <td>Shea</td>\n",
       "      <td>0</td>\n",
       "      <td>72287.0</td>\n",
       "      <td>Low</td>\n",
       "      <td>0</td>\n",
       "    </tr>\n",
       "    <tr>\n",
       "      <th>3</th>\n",
       "      <td>Private NonLife</td>\n",
       "      <td>Claims_initial_load</td>\n",
       "      <td>MOTOR</td>\n",
       "      <td>4.5</td>\n",
       "      <td>MTR-745856657-02</td>\n",
       "      <td>EUR</td>\n",
       "      <td>299.0</td>\n",
       "      <td>Collision</td>\n",
       "      <td>20150824</td>\n",
       "      <td>20150826</td>\n",
       "      <td>0</td>\n",
       "      <td>BMW</td>\n",
       "      <td>2008.0</td>\n",
       "      <td>Ebonee</td>\n",
       "      <td>F</td>\n",
       "      <td>Ryan</td>\n",
       "      <td>0</td>\n",
       "      <td>112630.0</td>\n",
       "      <td>Low</td>\n",
       "      <td>0</td>\n",
       "    </tr>\n",
       "    <tr>\n",
       "      <th>4</th>\n",
       "      <td>Private NonLife</td>\n",
       "      <td>Claims_initial_load</td>\n",
       "      <td>MOTOR</td>\n",
       "      <td>4.5</td>\n",
       "      <td>MTR-686506389-02</td>\n",
       "      <td>EUR</td>\n",
       "      <td>211.0</td>\n",
       "      <td>Theft</td>\n",
       "      <td>20141126</td>\n",
       "      <td>20141226</td>\n",
       "      <td>0</td>\n",
       "      <td>OTHER</td>\n",
       "      <td>2000.0</td>\n",
       "      <td>Emonie</td>\n",
       "      <td>F</td>\n",
       "      <td>Hester</td>\n",
       "      <td>0</td>\n",
       "      <td>104030.0</td>\n",
       "      <td>Neutral</td>\n",
       "      <td>0</td>\n",
       "    </tr>\n",
       "  </tbody>\n",
       "</table>\n",
       "</div>"
      ],
      "text/plain": [
       "        sys_sector          sys_process sys_product  \\\n",
       "0  Private NonLife  Claims_initial_load       MOTOR   \n",
       "1  Private NonLife  Claims_initial_load       MOTOR   \n",
       "2  Private NonLife  Claims_initial_load       MOTOR   \n",
       "3  Private NonLife  Claims_initial_load       MOTOR   \n",
       "4  Private NonLife  Claims_initial_load       MOTOR   \n",
       "\n",
       "   sys_dataspecification_version       sys_claimid sys_currency_code  \\\n",
       "0                            4.5  MTR-666202639-02               EUR   \n",
       "1                            4.5  MTR-258901077-02               EUR   \n",
       "2                            4.5  MTR-547929317-02               EUR   \n",
       "3                            4.5  MTR-745856657-02               EUR   \n",
       "4                            4.5  MTR-686506389-02               EUR   \n",
       "\n",
       "   claim_amount_claimed_total claim_causetype  claim_date_occurred  \\\n",
       "0                      2627.0       Collision             20150521   \n",
       "1                       269.0           Other             20130302   \n",
       "2                       157.0       Collision             20121030   \n",
       "3                       299.0       Collision             20150824   \n",
       "4                       211.0           Theft             20141126   \n",
       "\n",
       "   claim_date_reported  claim_location_urban_area object_make  \\\n",
       "0             20160916                          0       OTHER   \n",
       "1             20130304                          0        AUDI   \n",
       "2             20121127                          1     RENAULT   \n",
       "3             20150826                          0         BMW   \n",
       "4             20141226                          0       OTHER   \n",
       "\n",
       "   object_year_construction ph_firstname ph_gender  ph_name  \\\n",
       "0                    2014.0      Shishan         F      Lor   \n",
       "1                    1999.0      Dominic         M  Purnell   \n",
       "2                    2009.0     Katalina         F     Shea   \n",
       "3                    2008.0       Ebonee         F     Ryan   \n",
       "4                    2000.0       Emonie         F   Hester   \n",
       "\n",
       "   policy_fleet_flag  policy_insured_amount policy_profitability  sys_fraud  \n",
       "0                  0               114718.0             Very low          0  \n",
       "1                  0               117522.0              Neutral          0  \n",
       "2                  0                72287.0                  Low          0  \n",
       "3                  0               112630.0                  Low          0  \n",
       "4                  0               104030.0              Neutral          0  "
      ]
     },
     "execution_count": 4,
     "metadata": {},
     "output_type": "execute_result"
    }
   ],
   "source": [
    "## This data is for validation of model\n",
    "data3 = pd.read_csv('ClaimHistory_validation.csv')\n",
    "data3.head()"
   ]
  },
  {
   "cell_type": "markdown",
   "metadata": {},
   "source": [
    "## Exploring the dataset"
   ]
  },
  {
   "cell_type": "code",
   "execution_count": 5,
   "metadata": {},
   "outputs": [
    {
     "name": "stdout",
     "output_type": "stream",
     "text": [
      "<class 'pandas.core.frame.DataFrame'>\n",
      "RangeIndex: 618 entries, 0 to 617\n",
      "Data columns (total 2 columns):\n",
      " #   Column         Non-Null Count  Dtype \n",
      "---  ------         --------------  ----- \n",
      " 0   ClaimID        618 non-null    object\n",
      " 1   Date_Occurred  618 non-null    int64 \n",
      "dtypes: int64(1), object(1)\n",
      "memory usage: 9.8+ KB\n"
     ]
    }
   ],
   "source": [
    "### checking the info of datasets\n",
    "data1.info()"
   ]
  },
  {
   "cell_type": "code",
   "execution_count": 6,
   "metadata": {},
   "outputs": [
    {
     "data": {
      "text/plain": [
       "(618, 2)"
      ]
     },
     "execution_count": 6,
     "metadata": {},
     "output_type": "execute_result"
    }
   ],
   "source": [
    "# Checking the count of rows and columns of datasets\n",
    "data1.shape"
   ]
  },
  {
   "cell_type": "code",
   "execution_count": 7,
   "metadata": {},
   "outputs": [
    {
     "data": {
      "text/html": [
       "<div>\n",
       "<style scoped>\n",
       "    .dataframe tbody tr th:only-of-type {\n",
       "        vertical-align: middle;\n",
       "    }\n",
       "\n",
       "    .dataframe tbody tr th {\n",
       "        vertical-align: top;\n",
       "    }\n",
       "\n",
       "    .dataframe thead th {\n",
       "        text-align: right;\n",
       "    }\n",
       "</style>\n",
       "<table border=\"1\" class=\"dataframe\">\n",
       "  <thead>\n",
       "    <tr style=\"text-align: right;\">\n",
       "      <th></th>\n",
       "      <th>Date_Occurred</th>\n",
       "    </tr>\n",
       "  </thead>\n",
       "  <tbody>\n",
       "    <tr>\n",
       "      <th>count</th>\n",
       "      <td>6.180000e+02</td>\n",
       "    </tr>\n",
       "    <tr>\n",
       "      <th>mean</th>\n",
       "      <td>2.014854e+07</td>\n",
       "    </tr>\n",
       "    <tr>\n",
       "      <th>std</th>\n",
       "      <td>1.606403e+04</td>\n",
       "    </tr>\n",
       "    <tr>\n",
       "      <th>min</th>\n",
       "      <td>2.012071e+07</td>\n",
       "    </tr>\n",
       "    <tr>\n",
       "      <th>25%</th>\n",
       "      <td>2.013113e+07</td>\n",
       "    </tr>\n",
       "    <tr>\n",
       "      <th>50%</th>\n",
       "      <td>2.015051e+07</td>\n",
       "    </tr>\n",
       "    <tr>\n",
       "      <th>75%</th>\n",
       "      <td>2.016081e+07</td>\n",
       "    </tr>\n",
       "    <tr>\n",
       "      <th>max</th>\n",
       "      <td>2.018021e+07</td>\n",
       "    </tr>\n",
       "  </tbody>\n",
       "</table>\n",
       "</div>"
      ],
      "text/plain": [
       "       Date_Occurred\n",
       "count   6.180000e+02\n",
       "mean    2.014854e+07\n",
       "std     1.606403e+04\n",
       "min     2.012071e+07\n",
       "25%     2.013113e+07\n",
       "50%     2.015051e+07\n",
       "75%     2.016081e+07\n",
       "max     2.018021e+07"
      ]
     },
     "execution_count": 7,
     "metadata": {},
     "output_type": "execute_result"
    }
   ],
   "source": [
    "## checking the basic statistics of the dataset\n",
    "data1.describe()"
   ]
  },
  {
   "cell_type": "code",
   "execution_count": 8,
   "metadata": {},
   "outputs": [
    {
     "name": "stdout",
     "output_type": "stream",
     "text": [
      "<class 'pandas.core.frame.DataFrame'>\n",
      "RangeIndex: 80000 entries, 0 to 79999\n",
      "Data columns (total 19 columns):\n",
      " #   Column                         Non-Null Count  Dtype  \n",
      "---  ------                         --------------  -----  \n",
      " 0   sys_sector                     80000 non-null  object \n",
      " 1   sys_process                    80000 non-null  object \n",
      " 2   sys_product                    80000 non-null  object \n",
      " 3   sys_dataspecification_version  80000 non-null  float64\n",
      " 4   sys_claimid                    80000 non-null  object \n",
      " 5   sys_currency_code              80000 non-null  object \n",
      " 6   claim_amount_claimed_total     80000 non-null  float64\n",
      " 7   claim_causetype                79998 non-null  object \n",
      " 8   claim_date_occurred            80000 non-null  int64  \n",
      " 9   claim_date_reported            80000 non-null  int64  \n",
      " 10  claim_location_urban_area      80000 non-null  int64  \n",
      " 11  object_make                    80000 non-null  object \n",
      " 12  object_year_construction       80000 non-null  float64\n",
      " 13  ph_firstname                   80000 non-null  object \n",
      " 14  ph_gender                      79202 non-null  object \n",
      " 15  ph_name                        80000 non-null  object \n",
      " 16  policy_fleet_flag              80000 non-null  int64  \n",
      " 17  policy_insured_amount          49181 non-null  float64\n",
      " 18  policy_profitability           80000 non-null  object \n",
      "dtypes: float64(4), int64(4), object(11)\n",
      "memory usage: 11.6+ MB\n"
     ]
    }
   ],
   "source": [
    "data2.info()"
   ]
  },
  {
   "cell_type": "code",
   "execution_count": 9,
   "metadata": {},
   "outputs": [
    {
     "data": {
      "text/plain": [
       "(80000, 19)"
      ]
     },
     "execution_count": 9,
     "metadata": {},
     "output_type": "execute_result"
    }
   ],
   "source": [
    "data2.shape"
   ]
  },
  {
   "cell_type": "code",
   "execution_count": 10,
   "metadata": {},
   "outputs": [
    {
     "data": {
      "text/html": [
       "<div>\n",
       "<style scoped>\n",
       "    .dataframe tbody tr th:only-of-type {\n",
       "        vertical-align: middle;\n",
       "    }\n",
       "\n",
       "    .dataframe tbody tr th {\n",
       "        vertical-align: top;\n",
       "    }\n",
       "\n",
       "    .dataframe thead th {\n",
       "        text-align: right;\n",
       "    }\n",
       "</style>\n",
       "<table border=\"1\" class=\"dataframe\">\n",
       "  <thead>\n",
       "    <tr style=\"text-align: right;\">\n",
       "      <th></th>\n",
       "      <th>sys_dataspecification_version</th>\n",
       "      <th>claim_amount_claimed_total</th>\n",
       "      <th>claim_date_occurred</th>\n",
       "      <th>claim_date_reported</th>\n",
       "      <th>claim_location_urban_area</th>\n",
       "      <th>object_year_construction</th>\n",
       "      <th>policy_fleet_flag</th>\n",
       "      <th>policy_insured_amount</th>\n",
       "    </tr>\n",
       "  </thead>\n",
       "  <tbody>\n",
       "    <tr>\n",
       "      <th>count</th>\n",
       "      <td>80000.0</td>\n",
       "      <td>80000.000000</td>\n",
       "      <td>8.000000e+04</td>\n",
       "      <td>8.000000e+04</td>\n",
       "      <td>80000.000000</td>\n",
       "      <td>80000.000000</td>\n",
       "      <td>80000.000000</td>\n",
       "      <td>49181.000000</td>\n",
       "    </tr>\n",
       "    <tr>\n",
       "      <th>mean</th>\n",
       "      <td>4.5</td>\n",
       "      <td>3222.524212</td>\n",
       "      <td>2.014941e+07</td>\n",
       "      <td>2.014996e+07</td>\n",
       "      <td>0.530813</td>\n",
       "      <td>2008.664625</td>\n",
       "      <td>0.321487</td>\n",
       "      <td>60011.545394</td>\n",
       "    </tr>\n",
       "    <tr>\n",
       "      <th>std</th>\n",
       "      <td>0.0</td>\n",
       "      <td>9940.736169</td>\n",
       "      <td>1.652238e+04</td>\n",
       "      <td>1.662538e+04</td>\n",
       "      <td>0.499053</td>\n",
       "      <td>5.116219</td>\n",
       "      <td>0.467050</td>\n",
       "      <td>24628.603336</td>\n",
       "    </tr>\n",
       "    <tr>\n",
       "      <th>min</th>\n",
       "      <td>4.5</td>\n",
       "      <td>2.000000</td>\n",
       "      <td>2.012070e+07</td>\n",
       "      <td>2.012070e+07</td>\n",
       "      <td>0.000000</td>\n",
       "      <td>1948.000000</td>\n",
       "      <td>0.000000</td>\n",
       "      <td>6531.000000</td>\n",
       "    </tr>\n",
       "    <tr>\n",
       "      <th>25%</th>\n",
       "      <td>4.5</td>\n",
       "      <td>296.000000</td>\n",
       "      <td>2.013122e+07</td>\n",
       "      <td>2.014011e+07</td>\n",
       "      <td>0.000000</td>\n",
       "      <td>2006.000000</td>\n",
       "      <td>0.000000</td>\n",
       "      <td>44928.000000</td>\n",
       "    </tr>\n",
       "    <tr>\n",
       "      <th>50%</th>\n",
       "      <td>4.5</td>\n",
       "      <td>883.000000</td>\n",
       "      <td>2.015070e+07</td>\n",
       "      <td>2.015072e+07</td>\n",
       "      <td>1.000000</td>\n",
       "      <td>2010.000000</td>\n",
       "      <td>0.000000</td>\n",
       "      <td>53102.000000</td>\n",
       "    </tr>\n",
       "    <tr>\n",
       "      <th>75%</th>\n",
       "      <td>4.5</td>\n",
       "      <td>2657.000000</td>\n",
       "      <td>2.016101e+07</td>\n",
       "      <td>2.016110e+07</td>\n",
       "      <td>1.000000</td>\n",
       "      <td>2012.000000</td>\n",
       "      <td>1.000000</td>\n",
       "      <td>64159.000000</td>\n",
       "    </tr>\n",
       "    <tr>\n",
       "      <th>max</th>\n",
       "      <td>4.5</td>\n",
       "      <td>424720.000000</td>\n",
       "      <td>2.018021e+07</td>\n",
       "      <td>2.024081e+07</td>\n",
       "      <td>1.000000</td>\n",
       "      <td>2020.000000</td>\n",
       "      <td>1.000000</td>\n",
       "      <td>193681.000000</td>\n",
       "    </tr>\n",
       "  </tbody>\n",
       "</table>\n",
       "</div>"
      ],
      "text/plain": [
       "       sys_dataspecification_version  claim_amount_claimed_total  \\\n",
       "count                        80000.0                80000.000000   \n",
       "mean                             4.5                 3222.524212   \n",
       "std                              0.0                 9940.736169   \n",
       "min                              4.5                    2.000000   \n",
       "25%                              4.5                  296.000000   \n",
       "50%                              4.5                  883.000000   \n",
       "75%                              4.5                 2657.000000   \n",
       "max                              4.5               424720.000000   \n",
       "\n",
       "       claim_date_occurred  claim_date_reported  claim_location_urban_area  \\\n",
       "count         8.000000e+04         8.000000e+04               80000.000000   \n",
       "mean          2.014941e+07         2.014996e+07                   0.530813   \n",
       "std           1.652238e+04         1.662538e+04                   0.499053   \n",
       "min           2.012070e+07         2.012070e+07                   0.000000   \n",
       "25%           2.013122e+07         2.014011e+07                   0.000000   \n",
       "50%           2.015070e+07         2.015072e+07                   1.000000   \n",
       "75%           2.016101e+07         2.016110e+07                   1.000000   \n",
       "max           2.018021e+07         2.024081e+07                   1.000000   \n",
       "\n",
       "       object_year_construction  policy_fleet_flag  policy_insured_amount  \n",
       "count              80000.000000       80000.000000           49181.000000  \n",
       "mean                2008.664625           0.321487           60011.545394  \n",
       "std                    5.116219           0.467050           24628.603336  \n",
       "min                 1948.000000           0.000000            6531.000000  \n",
       "25%                 2006.000000           0.000000           44928.000000  \n",
       "50%                 2010.000000           0.000000           53102.000000  \n",
       "75%                 2012.000000           1.000000           64159.000000  \n",
       "max                 2020.000000           1.000000          193681.000000  "
      ]
     },
     "execution_count": 10,
     "metadata": {},
     "output_type": "execute_result"
    }
   ],
   "source": [
    "data2.describe()"
   ]
  },
  {
   "cell_type": "markdown",
   "metadata": {},
   "source": [
    "## Checking NULL values"
   ]
  },
  {
   "cell_type": "code",
   "execution_count": 11,
   "metadata": {},
   "outputs": [
    {
     "data": {
      "text/plain": [
       "ClaimID          0\n",
       "Date_Occurred    0\n",
       "dtype: int64"
      ]
     },
     "execution_count": 11,
     "metadata": {},
     "output_type": "execute_result"
    }
   ],
   "source": [
    "data1.isna().sum()"
   ]
  },
  {
   "cell_type": "code",
   "execution_count": 12,
   "metadata": {},
   "outputs": [
    {
     "data": {
      "text/plain": [
       "sys_sector                           0\n",
       "sys_process                          0\n",
       "sys_product                          0\n",
       "sys_dataspecification_version        0\n",
       "sys_claimid                          0\n",
       "sys_currency_code                    0\n",
       "claim_amount_claimed_total           0\n",
       "claim_causetype                      2\n",
       "claim_date_occurred                  0\n",
       "claim_date_reported                  0\n",
       "claim_location_urban_area            0\n",
       "object_make                          0\n",
       "object_year_construction             0\n",
       "ph_firstname                         0\n",
       "ph_gender                          798\n",
       "ph_name                              0\n",
       "policy_fleet_flag                    0\n",
       "policy_insured_amount            30819\n",
       "policy_profitability                 0\n",
       "dtype: int64"
      ]
     },
     "execution_count": 12,
     "metadata": {},
     "output_type": "execute_result"
    }
   ],
   "source": [
    "data2.isna().sum()"
   ]
  },
  {
   "cell_type": "code",
   "execution_count": 13,
   "metadata": {},
   "outputs": [],
   "source": [
    "## Finding the percentage of NULL values for the test data"
   ]
  },
  {
   "cell_type": "code",
   "execution_count": 14,
   "metadata": {},
   "outputs": [
    {
     "data": {
      "text/plain": [
       "sys_sector                        0.00000\n",
       "sys_process                       0.00000\n",
       "sys_product                       0.00000\n",
       "sys_dataspecification_version     0.00000\n",
       "sys_claimid                       0.00000\n",
       "sys_currency_code                 0.00000\n",
       "claim_amount_claimed_total        0.00000\n",
       "claim_causetype                   0.00250\n",
       "claim_date_occurred               0.00000\n",
       "claim_date_reported               0.00000\n",
       "claim_location_urban_area         0.00000\n",
       "object_make                       0.00000\n",
       "object_year_construction          0.00000\n",
       "ph_firstname                      0.00000\n",
       "ph_gender                         0.99750\n",
       "ph_name                           0.00000\n",
       "policy_fleet_flag                 0.00000\n",
       "policy_insured_amount            38.52375\n",
       "policy_profitability              0.00000\n",
       "dtype: float64"
      ]
     },
     "execution_count": 14,
     "metadata": {},
     "output_type": "execute_result"
    }
   ],
   "source": [
    "null_percentage = data2.isna().sum() * 100 / len(data2)\n",
    "null_percentage"
   ]
  },
  {
   "cell_type": "markdown",
   "metadata": {},
   "source": [
    "## Concatinating the table to understand the pattern of fraud claims"
   ]
  },
  {
   "cell_type": "code",
   "execution_count": 15,
   "metadata": {},
   "outputs": [
    {
     "data": {
      "text/plain": [
       "array(['MTR-338957796-02', 'MTR-434911509-02', 'MTR-615568027-02', ...,\n",
       "       'MTR-591101349-02', 'MTR-790242664-02', 'MTR-815745885-02'],\n",
       "      dtype=object)"
      ]
     },
     "execution_count": 15,
     "metadata": {},
     "output_type": "execute_result"
    }
   ],
   "source": [
    "#checking how can claim id of train dataset can be joined with fraud dataset\n",
    "data2.sys_claimid.unique()"
   ]
  },
  {
   "cell_type": "code",
   "execution_count": 16,
   "metadata": {},
   "outputs": [],
   "source": [
    "# we have to extract the 9 digit claim id to merge the datasets with claim id"
   ]
  },
  {
   "cell_type": "code",
   "execution_count": 17,
   "metadata": {},
   "outputs": [
    {
     "data": {
      "text/plain": [
       "array([16])"
      ]
     },
     "execution_count": 17,
     "metadata": {},
     "output_type": "execute_result"
    }
   ],
   "source": [
    "# converting the claim id into a string to extract the desired numbers from the id\n",
    "# checking the length of claim id to make sure all the claim id's have the same length\n",
    "data2['len_claimid']=  data2['sys_claimid'].str.len() \n",
    "data2['len_claimid'].unique()"
   ]
  },
  {
   "cell_type": "code",
   "execution_count": 18,
   "metadata": {},
   "outputs": [
    {
     "data": {
      "text/plain": [
       "0    338957796\n",
       "1    434911509\n",
       "2    615568027\n",
       "3    917387010\n",
       "4    281513737\n",
       "Name: new_claimid, dtype: object"
      ]
     },
     "execution_count": 18,
     "metadata": {},
     "output_type": "execute_result"
    }
   ],
   "source": [
    "# extracting the sub string from claim id to concatinate with fraud data\n",
    "data2['new_claimid'] = data2['sys_claimid'].str[4:13]\n",
    "data2['new_claimid'].head()"
   ]
  },
  {
   "cell_type": "code",
   "execution_count": 19,
   "metadata": {},
   "outputs": [],
   "source": [
    "# Merging the data using left join on new_claimid and ClaimID\n",
    "train_data = data2.merge(data1,how=\"left\",left_on=\"new_claimid\",right_on=\"ClaimID\")"
   ]
  },
  {
   "cell_type": "code",
   "execution_count": 20,
   "metadata": {},
   "outputs": [
    {
     "data": {
      "text/html": [
       "<div>\n",
       "<style scoped>\n",
       "    .dataframe tbody tr th:only-of-type {\n",
       "        vertical-align: middle;\n",
       "    }\n",
       "\n",
       "    .dataframe tbody tr th {\n",
       "        vertical-align: top;\n",
       "    }\n",
       "\n",
       "    .dataframe thead th {\n",
       "        text-align: right;\n",
       "    }\n",
       "</style>\n",
       "<table border=\"1\" class=\"dataframe\">\n",
       "  <thead>\n",
       "    <tr style=\"text-align: right;\">\n",
       "      <th></th>\n",
       "      <th>sys_sector</th>\n",
       "      <th>sys_process</th>\n",
       "      <th>sys_product</th>\n",
       "      <th>sys_dataspecification_version</th>\n",
       "      <th>sys_claimid</th>\n",
       "      <th>sys_currency_code</th>\n",
       "      <th>claim_amount_claimed_total</th>\n",
       "      <th>claim_causetype</th>\n",
       "      <th>claim_date_occurred</th>\n",
       "      <th>claim_date_reported</th>\n",
       "      <th>...</th>\n",
       "      <th>ph_firstname</th>\n",
       "      <th>ph_gender</th>\n",
       "      <th>ph_name</th>\n",
       "      <th>policy_fleet_flag</th>\n",
       "      <th>policy_insured_amount</th>\n",
       "      <th>policy_profitability</th>\n",
       "      <th>len_claimid</th>\n",
       "      <th>new_claimid</th>\n",
       "      <th>ClaimID</th>\n",
       "      <th>Date_Occurred</th>\n",
       "    </tr>\n",
       "  </thead>\n",
       "  <tbody>\n",
       "    <tr>\n",
       "      <th>0</th>\n",
       "      <td>Private NonLife</td>\n",
       "      <td>Claims_initial_load</td>\n",
       "      <td>MOTOR</td>\n",
       "      <td>4.5</td>\n",
       "      <td>MTR-338957796-02</td>\n",
       "      <td>EUR</td>\n",
       "      <td>2433.0</td>\n",
       "      <td>Collision</td>\n",
       "      <td>20121022</td>\n",
       "      <td>20121127</td>\n",
       "      <td>...</td>\n",
       "      <td>Teresita</td>\n",
       "      <td>F</td>\n",
       "      <td>Sanchez</td>\n",
       "      <td>0</td>\n",
       "      <td>74949.0</td>\n",
       "      <td>Low</td>\n",
       "      <td>16</td>\n",
       "      <td>338957796</td>\n",
       "      <td>NaN</td>\n",
       "      <td>NaN</td>\n",
       "    </tr>\n",
       "    <tr>\n",
       "      <th>1</th>\n",
       "      <td>Private NonLife</td>\n",
       "      <td>Claims_initial_load</td>\n",
       "      <td>MOTOR</td>\n",
       "      <td>4.5</td>\n",
       "      <td>MTR-434911509-02</td>\n",
       "      <td>EUR</td>\n",
       "      <td>3791.0</td>\n",
       "      <td>Collision</td>\n",
       "      <td>20140612</td>\n",
       "      <td>20140618</td>\n",
       "      <td>...</td>\n",
       "      <td>Charanaka</td>\n",
       "      <td>M</td>\n",
       "      <td>Yim</td>\n",
       "      <td>0</td>\n",
       "      <td>100648.0</td>\n",
       "      <td>Very low</td>\n",
       "      <td>16</td>\n",
       "      <td>434911509</td>\n",
       "      <td>NaN</td>\n",
       "      <td>NaN</td>\n",
       "    </tr>\n",
       "    <tr>\n",
       "      <th>2</th>\n",
       "      <td>Private NonLife</td>\n",
       "      <td>Claims_initial_load</td>\n",
       "      <td>MOTOR</td>\n",
       "      <td>4.5</td>\n",
       "      <td>MTR-615568027-02</td>\n",
       "      <td>EUR</td>\n",
       "      <td>452.0</td>\n",
       "      <td>Collision</td>\n",
       "      <td>20130506</td>\n",
       "      <td>20130923</td>\n",
       "      <td>...</td>\n",
       "      <td>Wisaam</td>\n",
       "      <td>L</td>\n",
       "      <td>el-Kalil</td>\n",
       "      <td>0</td>\n",
       "      <td>NaN</td>\n",
       "      <td>Low</td>\n",
       "      <td>16</td>\n",
       "      <td>615568027</td>\n",
       "      <td>NaN</td>\n",
       "      <td>NaN</td>\n",
       "    </tr>\n",
       "    <tr>\n",
       "      <th>3</th>\n",
       "      <td>Private NonLife</td>\n",
       "      <td>Claims_initial_load</td>\n",
       "      <td>MOTOR</td>\n",
       "      <td>4.5</td>\n",
       "      <td>MTR-917387010-02</td>\n",
       "      <td>EUR</td>\n",
       "      <td>555.0</td>\n",
       "      <td>Collision</td>\n",
       "      <td>20171112</td>\n",
       "      <td>20171206</td>\n",
       "      <td>...</td>\n",
       "      <td>Dillon</td>\n",
       "      <td>M</td>\n",
       "      <td>Hilfiker</td>\n",
       "      <td>0</td>\n",
       "      <td>121081.0</td>\n",
       "      <td>High</td>\n",
       "      <td>16</td>\n",
       "      <td>917387010</td>\n",
       "      <td>NaN</td>\n",
       "      <td>NaN</td>\n",
       "    </tr>\n",
       "    <tr>\n",
       "      <th>4</th>\n",
       "      <td>Private NonLife</td>\n",
       "      <td>Claims_initial_load</td>\n",
       "      <td>MOTOR</td>\n",
       "      <td>4.5</td>\n",
       "      <td>MTR-281513737-02</td>\n",
       "      <td>EUR</td>\n",
       "      <td>382.0</td>\n",
       "      <td>Collision</td>\n",
       "      <td>20151021</td>\n",
       "      <td>20151202</td>\n",
       "      <td>...</td>\n",
       "      <td>Carmen</td>\n",
       "      <td>F</td>\n",
       "      <td>Lovelace</td>\n",
       "      <td>0</td>\n",
       "      <td>94538.0</td>\n",
       "      <td>Very high</td>\n",
       "      <td>16</td>\n",
       "      <td>281513737</td>\n",
       "      <td>NaN</td>\n",
       "      <td>NaN</td>\n",
       "    </tr>\n",
       "  </tbody>\n",
       "</table>\n",
       "<p>5 rows × 23 columns</p>\n",
       "</div>"
      ],
      "text/plain": [
       "        sys_sector          sys_process sys_product  \\\n",
       "0  Private NonLife  Claims_initial_load       MOTOR   \n",
       "1  Private NonLife  Claims_initial_load       MOTOR   \n",
       "2  Private NonLife  Claims_initial_load       MOTOR   \n",
       "3  Private NonLife  Claims_initial_load       MOTOR   \n",
       "4  Private NonLife  Claims_initial_load       MOTOR   \n",
       "\n",
       "   sys_dataspecification_version       sys_claimid sys_currency_code  \\\n",
       "0                            4.5  MTR-338957796-02               EUR   \n",
       "1                            4.5  MTR-434911509-02               EUR   \n",
       "2                            4.5  MTR-615568027-02               EUR   \n",
       "3                            4.5  MTR-917387010-02               EUR   \n",
       "4                            4.5  MTR-281513737-02               EUR   \n",
       "\n",
       "   claim_amount_claimed_total claim_causetype  claim_date_occurred  \\\n",
       "0                      2433.0       Collision             20121022   \n",
       "1                      3791.0       Collision             20140612   \n",
       "2                       452.0       Collision             20130506   \n",
       "3                       555.0       Collision             20171112   \n",
       "4                       382.0       Collision             20151021   \n",
       "\n",
       "   claim_date_reported  ...  ph_firstname ph_gender   ph_name  \\\n",
       "0             20121127  ...      Teresita         F   Sanchez   \n",
       "1             20140618  ...     Charanaka         M       Yim   \n",
       "2             20130923  ...        Wisaam         L  el-Kalil   \n",
       "3             20171206  ...        Dillon         M  Hilfiker   \n",
       "4             20151202  ...        Carmen         F  Lovelace   \n",
       "\n",
       "  policy_fleet_flag policy_insured_amount policy_profitability  len_claimid  \\\n",
       "0                 0               74949.0                  Low           16   \n",
       "1                 0              100648.0             Very low           16   \n",
       "2                 0                   NaN                  Low           16   \n",
       "3                 0              121081.0                 High           16   \n",
       "4                 0               94538.0            Very high           16   \n",
       "\n",
       "   new_claimid ClaimID  Date_Occurred  \n",
       "0    338957796     NaN            NaN  \n",
       "1    434911509     NaN            NaN  \n",
       "2    615568027     NaN            NaN  \n",
       "3    917387010     NaN            NaN  \n",
       "4    281513737     NaN            NaN  \n",
       "\n",
       "[5 rows x 23 columns]"
      ]
     },
     "execution_count": 20,
     "metadata": {},
     "output_type": "execute_result"
    }
   ],
   "source": [
    "train_data.head()"
   ]
  },
  {
   "cell_type": "code",
   "execution_count": 21,
   "metadata": {},
   "outputs": [],
   "source": [
    "### to convert the dataset in CSV\n",
    "#train_data.to_csv('fraud_dataset.csv')"
   ]
  },
  {
   "cell_type": "code",
   "execution_count": 22,
   "metadata": {},
   "outputs": [
    {
     "data": {
      "text/plain": [
       "(80000, 23)"
      ]
     },
     "execution_count": 22,
     "metadata": {},
     "output_type": "execute_result"
    }
   ],
   "source": [
    "train_data.shape"
   ]
  },
  {
   "cell_type": "code",
   "execution_count": 23,
   "metadata": {},
   "outputs": [
    {
     "data": {
      "text/plain": [
       "615"
      ]
     },
     "execution_count": 23,
     "metadata": {},
     "output_type": "execute_result"
    }
   ],
   "source": [
    "# Checking for the claim id of dataframe which successfully merged\n",
    "train_data.ClaimID.nunique()  "
   ]
  },
  {
   "cell_type": "code",
   "execution_count": 24,
   "metadata": {},
   "outputs": [
    {
     "data": {
      "text/plain": [
       "{'355905469/622895187', '453637761/522337148', '930746044/840746503'}"
      ]
     },
     "execution_count": 24,
     "metadata": {},
     "output_type": "execute_result"
    }
   ],
   "source": [
    "# Checking Claim IDs of fraud data and train data to check where merging was unsuccefull\n",
    "set(data1.ClaimID.unique())-set(train_data.ClaimID.unique())"
   ]
  },
  {
   "cell_type": "code",
   "execution_count": 25,
   "metadata": {},
   "outputs": [
    {
     "data": {
      "text/html": [
       "<div>\n",
       "<style scoped>\n",
       "    .dataframe tbody tr th:only-of-type {\n",
       "        vertical-align: middle;\n",
       "    }\n",
       "\n",
       "    .dataframe tbody tr th {\n",
       "        vertical-align: top;\n",
       "    }\n",
       "\n",
       "    .dataframe thead th {\n",
       "        text-align: right;\n",
       "    }\n",
       "</style>\n",
       "<table border=\"1\" class=\"dataframe\">\n",
       "  <thead>\n",
       "    <tr style=\"text-align: right;\">\n",
       "      <th></th>\n",
       "      <th>ClaimID</th>\n",
       "      <th>Date_Occurred</th>\n",
       "    </tr>\n",
       "  </thead>\n",
       "  <tbody>\n",
       "    <tr>\n",
       "      <th>20</th>\n",
       "      <td>355905469/622895187</td>\n",
       "      <td>20120929</td>\n",
       "    </tr>\n",
       "    <tr>\n",
       "      <th>51</th>\n",
       "      <td>930746044/840746503</td>\n",
       "      <td>20130102</td>\n",
       "    </tr>\n",
       "    <tr>\n",
       "      <th>597</th>\n",
       "      <td>453637761/522337148</td>\n",
       "      <td>20171025</td>\n",
       "    </tr>\n",
       "  </tbody>\n",
       "</table>\n",
       "</div>"
      ],
      "text/plain": [
       "                 ClaimID  Date_Occurred\n",
       "20   355905469/622895187       20120929\n",
       "51   930746044/840746503       20130102\n",
       "597  453637761/522337148       20171025"
      ]
     },
     "execution_count": 25,
     "metadata": {},
     "output_type": "execute_result"
    }
   ],
   "source": [
    "# Checking the IDs in fraud data(data1)\n",
    "data1[data1.ClaimID.isin(['355905469/622895187', '453637761/522337148', '930746044/840746503'])]"
   ]
  },
  {
   "cell_type": "code",
   "execution_count": 26,
   "metadata": {},
   "outputs": [],
   "source": [
    "# We are not sure aboout which 3 are fraud as the claim id are merged with each other"
   ]
  },
  {
   "cell_type": "code",
   "execution_count": 27,
   "metadata": {},
   "outputs": [],
   "source": [
    "# Checking the data for these claim ids in train data\n",
    "# Putting the IDs in a variable to check the\n",
    "Missing_ID = ['355905469','622895187', '453637761','522337148', '930746044','840746503']"
   ]
  },
  {
   "cell_type": "code",
   "execution_count": 28,
   "metadata": {},
   "outputs": [
    {
     "data": {
      "text/html": [
       "<div>\n",
       "<style scoped>\n",
       "    .dataframe tbody tr th:only-of-type {\n",
       "        vertical-align: middle;\n",
       "    }\n",
       "\n",
       "    .dataframe tbody tr th {\n",
       "        vertical-align: top;\n",
       "    }\n",
       "\n",
       "    .dataframe thead th {\n",
       "        text-align: right;\n",
       "    }\n",
       "</style>\n",
       "<table border=\"1\" class=\"dataframe\">\n",
       "  <thead>\n",
       "    <tr style=\"text-align: right;\">\n",
       "      <th></th>\n",
       "      <th>sys_sector</th>\n",
       "      <th>sys_process</th>\n",
       "      <th>sys_product</th>\n",
       "      <th>sys_dataspecification_version</th>\n",
       "      <th>sys_claimid</th>\n",
       "      <th>sys_currency_code</th>\n",
       "      <th>claim_amount_claimed_total</th>\n",
       "      <th>claim_causetype</th>\n",
       "      <th>claim_date_occurred</th>\n",
       "      <th>claim_date_reported</th>\n",
       "      <th>...</th>\n",
       "      <th>ph_firstname</th>\n",
       "      <th>ph_gender</th>\n",
       "      <th>ph_name</th>\n",
       "      <th>policy_fleet_flag</th>\n",
       "      <th>policy_insured_amount</th>\n",
       "      <th>policy_profitability</th>\n",
       "      <th>len_claimid</th>\n",
       "      <th>new_claimid</th>\n",
       "      <th>ClaimID</th>\n",
       "      <th>Date_Occurred</th>\n",
       "    </tr>\n",
       "  </thead>\n",
       "  <tbody>\n",
       "    <tr>\n",
       "      <th>3127</th>\n",
       "      <td>Private NonLife</td>\n",
       "      <td>Claims_initial_load</td>\n",
       "      <td>MOTOR</td>\n",
       "      <td>4.5</td>\n",
       "      <td>MTR-930746044-02</td>\n",
       "      <td>EUR</td>\n",
       "      <td>1285.0</td>\n",
       "      <td>Theft</td>\n",
       "      <td>20130102</td>\n",
       "      <td>20130104</td>\n",
       "      <td>...</td>\n",
       "      <td>Katelyn</td>\n",
       "      <td>F</td>\n",
       "      <td>Keyes</td>\n",
       "      <td>0</td>\n",
       "      <td>NaN</td>\n",
       "      <td>Very high</td>\n",
       "      <td>16</td>\n",
       "      <td>930746044</td>\n",
       "      <td>NaN</td>\n",
       "      <td>NaN</td>\n",
       "    </tr>\n",
       "    <tr>\n",
       "      <th>3447</th>\n",
       "      <td>Private NonLife</td>\n",
       "      <td>Claims_initial_load</td>\n",
       "      <td>MOTOR</td>\n",
       "      <td>4.5</td>\n",
       "      <td>MTR-840746503-02</td>\n",
       "      <td>EUR</td>\n",
       "      <td>118.0</td>\n",
       "      <td>Collision</td>\n",
       "      <td>20130104</td>\n",
       "      <td>20130130</td>\n",
       "      <td>...</td>\n",
       "      <td>Paul</td>\n",
       "      <td>L</td>\n",
       "      <td>Kunzman</td>\n",
       "      <td>0</td>\n",
       "      <td>102157.0</td>\n",
       "      <td>High</td>\n",
       "      <td>16</td>\n",
       "      <td>840746503</td>\n",
       "      <td>NaN</td>\n",
       "      <td>NaN</td>\n",
       "    </tr>\n",
       "    <tr>\n",
       "      <th>10438</th>\n",
       "      <td>Private NonLife</td>\n",
       "      <td>Claims_initial_load</td>\n",
       "      <td>MOTOR</td>\n",
       "      <td>4.5</td>\n",
       "      <td>MTR-522337148-02</td>\n",
       "      <td>EUR</td>\n",
       "      <td>159.0</td>\n",
       "      <td>Collision</td>\n",
       "      <td>20171031</td>\n",
       "      <td>20171230</td>\n",
       "      <td>...</td>\n",
       "      <td>Hugo</td>\n",
       "      <td>M</td>\n",
       "      <td>Lepure</td>\n",
       "      <td>0</td>\n",
       "      <td>76308.0</td>\n",
       "      <td>Neutral</td>\n",
       "      <td>16</td>\n",
       "      <td>522337148</td>\n",
       "      <td>NaN</td>\n",
       "      <td>NaN</td>\n",
       "    </tr>\n",
       "    <tr>\n",
       "      <th>11324</th>\n",
       "      <td>Private NonLife</td>\n",
       "      <td>Claims_initial_load</td>\n",
       "      <td>MOTOR</td>\n",
       "      <td>4.5</td>\n",
       "      <td>MTR-622895187-02</td>\n",
       "      <td>EUR</td>\n",
       "      <td>374.0</td>\n",
       "      <td>Weather</td>\n",
       "      <td>20121001</td>\n",
       "      <td>20121102</td>\n",
       "      <td>...</td>\n",
       "      <td>Christian</td>\n",
       "      <td>M</td>\n",
       "      <td>Rivera</td>\n",
       "      <td>0</td>\n",
       "      <td>NaN</td>\n",
       "      <td>Low</td>\n",
       "      <td>16</td>\n",
       "      <td>622895187</td>\n",
       "      <td>NaN</td>\n",
       "      <td>NaN</td>\n",
       "    </tr>\n",
       "    <tr>\n",
       "      <th>46960</th>\n",
       "      <td>Private NonLife</td>\n",
       "      <td>Claims_initial_load</td>\n",
       "      <td>MOTOR</td>\n",
       "      <td>4.5</td>\n",
       "      <td>MTR-355905469-02</td>\n",
       "      <td>EUR</td>\n",
       "      <td>4292.0</td>\n",
       "      <td>Collision</td>\n",
       "      <td>20120929</td>\n",
       "      <td>20121208</td>\n",
       "      <td>...</td>\n",
       "      <td>Jennifer</td>\n",
       "      <td>L</td>\n",
       "      <td>Gonzales</td>\n",
       "      <td>1</td>\n",
       "      <td>NaN</td>\n",
       "      <td>Low</td>\n",
       "      <td>16</td>\n",
       "      <td>355905469</td>\n",
       "      <td>NaN</td>\n",
       "      <td>NaN</td>\n",
       "    </tr>\n",
       "    <tr>\n",
       "      <th>59336</th>\n",
       "      <td>Private NonLife</td>\n",
       "      <td>Claims_initial_load</td>\n",
       "      <td>MOTOR</td>\n",
       "      <td>4.5</td>\n",
       "      <td>MTR-453637761-02</td>\n",
       "      <td>EUR</td>\n",
       "      <td>1208.0</td>\n",
       "      <td>Collision</td>\n",
       "      <td>20171025</td>\n",
       "      <td>20171118</td>\n",
       "      <td>...</td>\n",
       "      <td>Asia</td>\n",
       "      <td>F</td>\n",
       "      <td>Zerom</td>\n",
       "      <td>0</td>\n",
       "      <td>42500.0</td>\n",
       "      <td>High</td>\n",
       "      <td>16</td>\n",
       "      <td>453637761</td>\n",
       "      <td>NaN</td>\n",
       "      <td>NaN</td>\n",
       "    </tr>\n",
       "  </tbody>\n",
       "</table>\n",
       "<p>6 rows × 23 columns</p>\n",
       "</div>"
      ],
      "text/plain": [
       "            sys_sector          sys_process sys_product  \\\n",
       "3127   Private NonLife  Claims_initial_load       MOTOR   \n",
       "3447   Private NonLife  Claims_initial_load       MOTOR   \n",
       "10438  Private NonLife  Claims_initial_load       MOTOR   \n",
       "11324  Private NonLife  Claims_initial_load       MOTOR   \n",
       "46960  Private NonLife  Claims_initial_load       MOTOR   \n",
       "59336  Private NonLife  Claims_initial_load       MOTOR   \n",
       "\n",
       "       sys_dataspecification_version       sys_claimid sys_currency_code  \\\n",
       "3127                             4.5  MTR-930746044-02               EUR   \n",
       "3447                             4.5  MTR-840746503-02               EUR   \n",
       "10438                            4.5  MTR-522337148-02               EUR   \n",
       "11324                            4.5  MTR-622895187-02               EUR   \n",
       "46960                            4.5  MTR-355905469-02               EUR   \n",
       "59336                            4.5  MTR-453637761-02               EUR   \n",
       "\n",
       "       claim_amount_claimed_total claim_causetype  claim_date_occurred  \\\n",
       "3127                       1285.0           Theft             20130102   \n",
       "3447                        118.0       Collision             20130104   \n",
       "10438                       159.0       Collision             20171031   \n",
       "11324                       374.0         Weather             20121001   \n",
       "46960                      4292.0       Collision             20120929   \n",
       "59336                      1208.0       Collision             20171025   \n",
       "\n",
       "       claim_date_reported  ...  ph_firstname ph_gender   ph_name  \\\n",
       "3127              20130104  ...       Katelyn         F     Keyes   \n",
       "3447              20130130  ...          Paul         L   Kunzman   \n",
       "10438             20171230  ...          Hugo         M    Lepure   \n",
       "11324             20121102  ...     Christian         M    Rivera   \n",
       "46960             20121208  ...      Jennifer         L  Gonzales   \n",
       "59336             20171118  ...          Asia         F     Zerom   \n",
       "\n",
       "      policy_fleet_flag policy_insured_amount policy_profitability  \\\n",
       "3127                  0                   NaN            Very high   \n",
       "3447                  0              102157.0                 High   \n",
       "10438                 0               76308.0              Neutral   \n",
       "11324                 0                   NaN                  Low   \n",
       "46960                 1                   NaN                  Low   \n",
       "59336                 0               42500.0                 High   \n",
       "\n",
       "       len_claimid  new_claimid ClaimID  Date_Occurred  \n",
       "3127            16    930746044     NaN            NaN  \n",
       "3447            16    840746503     NaN            NaN  \n",
       "10438           16    522337148     NaN            NaN  \n",
       "11324           16    622895187     NaN            NaN  \n",
       "46960           16    355905469     NaN            NaN  \n",
       "59336           16    453637761     NaN            NaN  \n",
       "\n",
       "[6 rows x 23 columns]"
      ]
     },
     "execution_count": 28,
     "metadata": {},
     "output_type": "execute_result"
    }
   ],
   "source": [
    "# Checking the new clain ID for the Missing IDs\n",
    "train_data[train_data.new_claimid.isin(Missing_ID)]"
   ]
  },
  {
   "cell_type": "code",
   "execution_count": 29,
   "metadata": {},
   "outputs": [],
   "source": [
    "# Assuming the 3 IDs that are mixed as a not a fraud case"
   ]
  },
  {
   "cell_type": "code",
   "execution_count": 30,
   "metadata": {},
   "outputs": [
    {
     "data": {
      "text/plain": [
       "Index(['sys_sector', 'sys_process', 'sys_product',\n",
       "       'sys_dataspecification_version', 'sys_claimid', 'sys_currency_code',\n",
       "       'claim_amount_claimed_total', 'claim_causetype', 'claim_date_occurred',\n",
       "       'claim_date_reported', 'claim_location_urban_area', 'object_make',\n",
       "       'object_year_construction', 'ph_firstname', 'ph_gender', 'ph_name',\n",
       "       'policy_fleet_flag', 'policy_insured_amount', 'policy_profitability',\n",
       "       'len_claimid', 'new_claimid', 'ClaimID', 'Date_Occurred'],\n",
       "      dtype='object')"
      ]
     },
     "execution_count": 30,
     "metadata": {},
     "output_type": "execute_result"
    }
   ],
   "source": [
    "train_data.columns"
   ]
  },
  {
   "cell_type": "markdown",
   "metadata": {},
   "source": [
    "## Changing Data types of Data columns in the train data set and analyzing the data set"
   ]
  },
  {
   "cell_type": "code",
   "execution_count": 31,
   "metadata": {},
   "outputs": [
    {
     "name": "stdout",
     "output_type": "stream",
     "text": [
      "Start of claim_date_occurred : 20120701\n",
      "End of claim_date_occurred : 20180208\n",
      "Start of claim_date_reported : 20120701\n",
      "End of claim_date_reported : 20240809\n"
     ]
    }
   ],
   "source": [
    "# start and end date of columns\n",
    "print(\"Start of claim_date_occurred :\",train_data.claim_date_occurred.min())\n",
    "print(\"End of claim_date_occurred :\",train_data.claim_date_occurred.max())\n",
    "print(\"Start of claim_date_reported :\",train_data.claim_date_reported.min())\n",
    "print(\"End of claim_date_reported :\",train_data.claim_date_reported.max())"
   ]
  },
  {
   "cell_type": "code",
   "execution_count": 32,
   "metadata": {},
   "outputs": [],
   "source": [
    "# changing datatype of \"claim_date_reported\" column\n",
    "train_data['claim_date_reported'] = pd.to_datetime(train_data.claim_date_reported.astype(str), format='%Y%m%d')"
   ]
  },
  {
   "cell_type": "code",
   "execution_count": 33,
   "metadata": {},
   "outputs": [],
   "source": [
    "# Maximum possible date is '20240809' for this analysis as claim can't be raise in future dates\n",
    "train_data['claim_date_reported_new'] =  pd.to_datetime('20240809')\n",
    "train_data['claim_date_reported_new']= np.where( train_data.claim_date_reported > pd.to_datetime('20240809'), train_data['claim_date_reported_new'],train_data['claim_date_reported'])"
   ]
  },
  {
   "cell_type": "code",
   "execution_count": 34,
   "metadata": {},
   "outputs": [],
   "source": [
    "# Calculating the difference between reported date and occurance date\n",
    "train_data['diff_days_between_claim_occ_report']= (train_data.claim_date_reported_new  - pd.to_datetime(train_data.claim_date_occurred.astype(str), format='%Y%m%d'))/np.timedelta64(1, 'D')"
   ]
  },
  {
   "cell_type": "code",
   "execution_count": 35,
   "metadata": {},
   "outputs": [
    {
     "data": {
      "text/html": [
       "<div>\n",
       "<style scoped>\n",
       "    .dataframe tbody tr th:only-of-type {\n",
       "        vertical-align: middle;\n",
       "    }\n",
       "\n",
       "    .dataframe tbody tr th {\n",
       "        vertical-align: top;\n",
       "    }\n",
       "\n",
       "    .dataframe thead th {\n",
       "        text-align: right;\n",
       "    }\n",
       "</style>\n",
       "<table border=\"1\" class=\"dataframe\">\n",
       "  <thead>\n",
       "    <tr style=\"text-align: right;\">\n",
       "      <th></th>\n",
       "      <th>claim_date_reported</th>\n",
       "      <th>claim_date_reported_new</th>\n",
       "      <th>claim_date_occurred</th>\n",
       "      <th>diff_days_between_claim_occ_report</th>\n",
       "    </tr>\n",
       "  </thead>\n",
       "  <tbody>\n",
       "    <tr>\n",
       "      <th>5838</th>\n",
       "      <td>2023-05-04</td>\n",
       "      <td>2023-05-04</td>\n",
       "      <td>20150925</td>\n",
       "      <td>2778.0</td>\n",
       "    </tr>\n",
       "    <tr>\n",
       "      <th>3045</th>\n",
       "      <td>2022-12-07</td>\n",
       "      <td>2022-12-07</td>\n",
       "      <td>20150901</td>\n",
       "      <td>2654.0</td>\n",
       "    </tr>\n",
       "    <tr>\n",
       "      <th>1140</th>\n",
       "      <td>2021-10-29</td>\n",
       "      <td>2021-10-29</td>\n",
       "      <td>20140829</td>\n",
       "      <td>2618.0</td>\n",
       "    </tr>\n",
       "    <tr>\n",
       "      <th>3764</th>\n",
       "      <td>2021-06-17</td>\n",
       "      <td>2021-06-17</td>\n",
       "      <td>20140419</td>\n",
       "      <td>2616.0</td>\n",
       "    </tr>\n",
       "    <tr>\n",
       "      <th>706</th>\n",
       "      <td>2024-08-09</td>\n",
       "      <td>2024-08-09</td>\n",
       "      <td>20170627</td>\n",
       "      <td>2600.0</td>\n",
       "    </tr>\n",
       "  </tbody>\n",
       "</table>\n",
       "</div>"
      ],
      "text/plain": [
       "     claim_date_reported claim_date_reported_new  claim_date_occurred  \\\n",
       "5838          2023-05-04              2023-05-04             20150925   \n",
       "3045          2022-12-07              2022-12-07             20150901   \n",
       "1140          2021-10-29              2021-10-29             20140829   \n",
       "3764          2021-06-17              2021-06-17             20140419   \n",
       "706           2024-08-09              2024-08-09             20170627   \n",
       "\n",
       "      diff_days_between_claim_occ_report  \n",
       "5838                              2778.0  \n",
       "3045                              2654.0  \n",
       "1140                              2618.0  \n",
       "3764                              2616.0  \n",
       "706                               2600.0  "
      ]
     },
     "execution_count": 35,
     "metadata": {},
     "output_type": "execute_result"
    }
   ],
   "source": [
    "# Checking all the date columns for irregualrites\n",
    "train_data[['claim_date_reported','claim_date_reported_new','claim_date_occurred','diff_days_between_claim_occ_report']].sort_values('diff_days_between_claim_occ_report',ascending=False).head(5)"
   ]
  },
  {
   "cell_type": "code",
   "execution_count": 36,
   "metadata": {},
   "outputs": [
    {
     "data": {
      "text/plain": [
       "0.5000       4.0000\n",
       "0.6000       7.0000\n",
       "0.7000      11.0000\n",
       "0.8000      19.0000\n",
       "0.8500      26.0000\n",
       "0.8900      36.0000\n",
       "0.9000      40.0000\n",
       "0.9100      44.0000\n",
       "0.9200      50.0000\n",
       "0.9300      56.0000\n",
       "0.9400      64.0000\n",
       "0.9500      76.0000\n",
       "0.9600      92.0000\n",
       "0.9700     116.0000\n",
       "0.9800     164.0000\n",
       "0.9900     272.0000\n",
       "0.9950     434.0000\n",
       "0.9990     876.0000\n",
       "0.9999    2382.0034\n",
       "1.0000    2778.0000\n",
       "Name: diff_days_between_claim_occ_report, dtype: float64"
      ]
     },
     "execution_count": 36,
     "metadata": {},
     "output_type": "execute_result"
    }
   ],
   "source": [
    "# let us check the quantile distribution of difference in days between claim and reported date\n",
    "train_data.diff_days_between_claim_occ_report.quantile([.5,.6,.7,.8,.85,.89,.9,.91,.92,.93,.94,.95,.96,.97,.98,.99,.995,.999,.9999,1])"
   ]
  },
  {
   "cell_type": "markdown",
   "metadata": {},
   "source": [
    "#### Findings from the analysis\n",
    "If the claim report and claim occurance has gap of more than \"76\" days then we can consider it as high.\n",
    "#### Reasons for the above conclusion\n",
    "95% of customers claim before 76 days as per training data.\n",
    "From 95% to 96% Looks like a sharp increase from ~2.5months to ~3months. \n",
    "As per business sense,it seems little difficult to understand why will a customers wait for more than ~2 months to make a claim"
   ]
  },
  {
   "cell_type": "markdown",
   "metadata": {},
   "source": [
    "## Describing the data to check for the columns that needs to be dropped"
   ]
  },
  {
   "cell_type": "code",
   "execution_count": 37,
   "metadata": {},
   "outputs": [
    {
     "data": {
      "text/html": [
       "<div>\n",
       "<style scoped>\n",
       "    .dataframe tbody tr th:only-of-type {\n",
       "        vertical-align: middle;\n",
       "    }\n",
       "\n",
       "    .dataframe tbody tr th {\n",
       "        vertical-align: top;\n",
       "    }\n",
       "\n",
       "    .dataframe thead th {\n",
       "        text-align: right;\n",
       "    }\n",
       "</style>\n",
       "<table border=\"1\" class=\"dataframe\">\n",
       "  <thead>\n",
       "    <tr style=\"text-align: right;\">\n",
       "      <th></th>\n",
       "      <th>sys_dataspecification_version</th>\n",
       "      <th>claim_amount_claimed_total</th>\n",
       "      <th>claim_date_occurred</th>\n",
       "      <th>claim_location_urban_area</th>\n",
       "      <th>object_year_construction</th>\n",
       "      <th>policy_fleet_flag</th>\n",
       "      <th>policy_insured_amount</th>\n",
       "      <th>len_claimid</th>\n",
       "      <th>Date_Occurred</th>\n",
       "      <th>diff_days_between_claim_occ_report</th>\n",
       "    </tr>\n",
       "  </thead>\n",
       "  <tbody>\n",
       "    <tr>\n",
       "      <th>count</th>\n",
       "      <td>80000.0</td>\n",
       "      <td>80000.000000</td>\n",
       "      <td>8.000000e+04</td>\n",
       "      <td>80000.000000</td>\n",
       "      <td>80000.000000</td>\n",
       "      <td>80000.000000</td>\n",
       "      <td>49181.000000</td>\n",
       "      <td>80000.0</td>\n",
       "      <td>6.150000e+02</td>\n",
       "      <td>80000.000000</td>\n",
       "    </tr>\n",
       "    <tr>\n",
       "      <th>mean</th>\n",
       "      <td>4.5</td>\n",
       "      <td>3222.524212</td>\n",
       "      <td>2.014941e+07</td>\n",
       "      <td>0.530813</td>\n",
       "      <td>2008.664625</td>\n",
       "      <td>0.321487</td>\n",
       "      <td>60011.545394</td>\n",
       "      <td>16.0</td>\n",
       "      <td>2.014858e+07</td>\n",
       "      <td>20.027287</td>\n",
       "    </tr>\n",
       "    <tr>\n",
       "      <th>std</th>\n",
       "      <td>0.0</td>\n",
       "      <td>9940.736169</td>\n",
       "      <td>1.652238e+04</td>\n",
       "      <td>0.499053</td>\n",
       "      <td>5.116219</td>\n",
       "      <td>0.467050</td>\n",
       "      <td>24628.603336</td>\n",
       "      <td>0.0</td>\n",
       "      <td>1.602167e+04</td>\n",
       "      <td>72.147829</td>\n",
       "    </tr>\n",
       "    <tr>\n",
       "      <th>min</th>\n",
       "      <td>4.5</td>\n",
       "      <td>2.000000</td>\n",
       "      <td>2.012070e+07</td>\n",
       "      <td>0.000000</td>\n",
       "      <td>1948.000000</td>\n",
       "      <td>0.000000</td>\n",
       "      <td>6531.000000</td>\n",
       "      <td>16.0</td>\n",
       "      <td>2.012071e+07</td>\n",
       "      <td>0.000000</td>\n",
       "    </tr>\n",
       "    <tr>\n",
       "      <th>25%</th>\n",
       "      <td>4.5</td>\n",
       "      <td>296.000000</td>\n",
       "      <td>2.013122e+07</td>\n",
       "      <td>0.000000</td>\n",
       "      <td>2006.000000</td>\n",
       "      <td>0.000000</td>\n",
       "      <td>44928.000000</td>\n",
       "      <td>16.0</td>\n",
       "      <td>2.013116e+07</td>\n",
       "      <td>2.000000</td>\n",
       "    </tr>\n",
       "    <tr>\n",
       "      <th>50%</th>\n",
       "      <td>4.5</td>\n",
       "      <td>883.000000</td>\n",
       "      <td>2.015070e+07</td>\n",
       "      <td>1.000000</td>\n",
       "      <td>2010.000000</td>\n",
       "      <td>0.000000</td>\n",
       "      <td>53102.000000</td>\n",
       "      <td>16.0</td>\n",
       "      <td>2.015051e+07</td>\n",
       "      <td>4.000000</td>\n",
       "    </tr>\n",
       "    <tr>\n",
       "      <th>75%</th>\n",
       "      <td>4.5</td>\n",
       "      <td>2657.000000</td>\n",
       "      <td>2.016101e+07</td>\n",
       "      <td>1.000000</td>\n",
       "      <td>2012.000000</td>\n",
       "      <td>1.000000</td>\n",
       "      <td>64159.000000</td>\n",
       "      <td>16.0</td>\n",
       "      <td>2.016081e+07</td>\n",
       "      <td>14.000000</td>\n",
       "    </tr>\n",
       "    <tr>\n",
       "      <th>max</th>\n",
       "      <td>4.5</td>\n",
       "      <td>424720.000000</td>\n",
       "      <td>2.018021e+07</td>\n",
       "      <td>1.000000</td>\n",
       "      <td>2020.000000</td>\n",
       "      <td>1.000000</td>\n",
       "      <td>193681.000000</td>\n",
       "      <td>16.0</td>\n",
       "      <td>2.018021e+07</td>\n",
       "      <td>2778.000000</td>\n",
       "    </tr>\n",
       "  </tbody>\n",
       "</table>\n",
       "</div>"
      ],
      "text/plain": [
       "       sys_dataspecification_version  claim_amount_claimed_total  \\\n",
       "count                        80000.0                80000.000000   \n",
       "mean                             4.5                 3222.524212   \n",
       "std                              0.0                 9940.736169   \n",
       "min                              4.5                    2.000000   \n",
       "25%                              4.5                  296.000000   \n",
       "50%                              4.5                  883.000000   \n",
       "75%                              4.5                 2657.000000   \n",
       "max                              4.5               424720.000000   \n",
       "\n",
       "       claim_date_occurred  claim_location_urban_area  \\\n",
       "count         8.000000e+04               80000.000000   \n",
       "mean          2.014941e+07                   0.530813   \n",
       "std           1.652238e+04                   0.499053   \n",
       "min           2.012070e+07                   0.000000   \n",
       "25%           2.013122e+07                   0.000000   \n",
       "50%           2.015070e+07                   1.000000   \n",
       "75%           2.016101e+07                   1.000000   \n",
       "max           2.018021e+07                   1.000000   \n",
       "\n",
       "       object_year_construction  policy_fleet_flag  policy_insured_amount  \\\n",
       "count              80000.000000       80000.000000           49181.000000   \n",
       "mean                2008.664625           0.321487           60011.545394   \n",
       "std                    5.116219           0.467050           24628.603336   \n",
       "min                 1948.000000           0.000000            6531.000000   \n",
       "25%                 2006.000000           0.000000           44928.000000   \n",
       "50%                 2010.000000           0.000000           53102.000000   \n",
       "75%                 2012.000000           1.000000           64159.000000   \n",
       "max                 2020.000000           1.000000          193681.000000   \n",
       "\n",
       "       len_claimid  Date_Occurred  diff_days_between_claim_occ_report  \n",
       "count      80000.0   6.150000e+02                        80000.000000  \n",
       "mean          16.0   2.014858e+07                           20.027287  \n",
       "std            0.0   1.602167e+04                           72.147829  \n",
       "min           16.0   2.012071e+07                            0.000000  \n",
       "25%           16.0   2.013116e+07                            2.000000  \n",
       "50%           16.0   2.015051e+07                            4.000000  \n",
       "75%           16.0   2.016081e+07                           14.000000  \n",
       "max           16.0   2.018021e+07                         2778.000000  "
      ]
     },
     "execution_count": 37,
     "metadata": {},
     "output_type": "execute_result"
    }
   ],
   "source": [
    "# Basic data statistics of numerical data\n",
    "train_data.describe()"
   ]
  },
  {
   "cell_type": "code",
   "execution_count": 38,
   "metadata": {},
   "outputs": [
    {
     "data": {
      "text/html": [
       "<div>\n",
       "<style scoped>\n",
       "    .dataframe tbody tr th:only-of-type {\n",
       "        vertical-align: middle;\n",
       "    }\n",
       "\n",
       "    .dataframe tbody tr th {\n",
       "        vertical-align: top;\n",
       "    }\n",
       "\n",
       "    .dataframe thead th {\n",
       "        text-align: right;\n",
       "    }\n",
       "</style>\n",
       "<table border=\"1\" class=\"dataframe\">\n",
       "  <thead>\n",
       "    <tr style=\"text-align: right;\">\n",
       "      <th></th>\n",
       "      <th>sys_sector</th>\n",
       "      <th>sys_process</th>\n",
       "      <th>sys_product</th>\n",
       "      <th>sys_dataspecification_version</th>\n",
       "      <th>sys_claimid</th>\n",
       "      <th>sys_currency_code</th>\n",
       "      <th>claim_amount_claimed_total</th>\n",
       "      <th>claim_causetype</th>\n",
       "      <th>claim_date_occurred</th>\n",
       "      <th>claim_date_reported</th>\n",
       "      <th>...</th>\n",
       "      <th>ph_name</th>\n",
       "      <th>policy_fleet_flag</th>\n",
       "      <th>policy_insured_amount</th>\n",
       "      <th>policy_profitability</th>\n",
       "      <th>len_claimid</th>\n",
       "      <th>new_claimid</th>\n",
       "      <th>ClaimID</th>\n",
       "      <th>Date_Occurred</th>\n",
       "      <th>claim_date_reported_new</th>\n",
       "      <th>diff_days_between_claim_occ_report</th>\n",
       "    </tr>\n",
       "  </thead>\n",
       "  <tbody>\n",
       "    <tr>\n",
       "      <th>count</th>\n",
       "      <td>80000</td>\n",
       "      <td>80000</td>\n",
       "      <td>80000</td>\n",
       "      <td>80000.0</td>\n",
       "      <td>80000</td>\n",
       "      <td>80000</td>\n",
       "      <td>80000.000000</td>\n",
       "      <td>79998</td>\n",
       "      <td>8.000000e+04</td>\n",
       "      <td>80000</td>\n",
       "      <td>...</td>\n",
       "      <td>80000</td>\n",
       "      <td>80000.000000</td>\n",
       "      <td>49181.000000</td>\n",
       "      <td>80000</td>\n",
       "      <td>80000.0</td>\n",
       "      <td>80000</td>\n",
       "      <td>615</td>\n",
       "      <td>6.150000e+02</td>\n",
       "      <td>80000</td>\n",
       "      <td>80000.000000</td>\n",
       "    </tr>\n",
       "    <tr>\n",
       "      <th>unique</th>\n",
       "      <td>1</td>\n",
       "      <td>1</td>\n",
       "      <td>1</td>\n",
       "      <td>NaN</td>\n",
       "      <td>79998</td>\n",
       "      <td>1</td>\n",
       "      <td>NaN</td>\n",
       "      <td>5</td>\n",
       "      <td>NaN</td>\n",
       "      <td>2280</td>\n",
       "      <td>...</td>\n",
       "      <td>18237</td>\n",
       "      <td>NaN</td>\n",
       "      <td>NaN</td>\n",
       "      <td>5</td>\n",
       "      <td>NaN</td>\n",
       "      <td>79998</td>\n",
       "      <td>615</td>\n",
       "      <td>NaN</td>\n",
       "      <td>2280</td>\n",
       "      <td>NaN</td>\n",
       "    </tr>\n",
       "    <tr>\n",
       "      <th>top</th>\n",
       "      <td>Private NonLife</td>\n",
       "      <td>Claims_initial_load</td>\n",
       "      <td>MOTOR</td>\n",
       "      <td>NaN</td>\n",
       "      <td>MTR-603112190-02</td>\n",
       "      <td>EUR</td>\n",
       "      <td>NaN</td>\n",
       "      <td>Collision</td>\n",
       "      <td>NaN</td>\n",
       "      <td>2016-06-25 00:00:00</td>\n",
       "      <td>...</td>\n",
       "      <td>Nguyen</td>\n",
       "      <td>NaN</td>\n",
       "      <td>NaN</td>\n",
       "      <td>Very low</td>\n",
       "      <td>NaN</td>\n",
       "      <td>491813645</td>\n",
       "      <td>393382568</td>\n",
       "      <td>NaN</td>\n",
       "      <td>2016-06-25 00:00:00</td>\n",
       "      <td>NaN</td>\n",
       "    </tr>\n",
       "    <tr>\n",
       "      <th>freq</th>\n",
       "      <td>80000</td>\n",
       "      <td>80000</td>\n",
       "      <td>80000</td>\n",
       "      <td>NaN</td>\n",
       "      <td>2</td>\n",
       "      <td>80000</td>\n",
       "      <td>NaN</td>\n",
       "      <td>48955</td>\n",
       "      <td>NaN</td>\n",
       "      <td>122</td>\n",
       "      <td>...</td>\n",
       "      <td>630</td>\n",
       "      <td>NaN</td>\n",
       "      <td>NaN</td>\n",
       "      <td>17529</td>\n",
       "      <td>NaN</td>\n",
       "      <td>2</td>\n",
       "      <td>1</td>\n",
       "      <td>NaN</td>\n",
       "      <td>122</td>\n",
       "      <td>NaN</td>\n",
       "    </tr>\n",
       "    <tr>\n",
       "      <th>first</th>\n",
       "      <td>NaN</td>\n",
       "      <td>NaN</td>\n",
       "      <td>NaN</td>\n",
       "      <td>NaN</td>\n",
       "      <td>NaN</td>\n",
       "      <td>NaN</td>\n",
       "      <td>NaN</td>\n",
       "      <td>NaN</td>\n",
       "      <td>NaN</td>\n",
       "      <td>2012-07-01 00:00:00</td>\n",
       "      <td>...</td>\n",
       "      <td>NaN</td>\n",
       "      <td>NaN</td>\n",
       "      <td>NaN</td>\n",
       "      <td>NaN</td>\n",
       "      <td>NaN</td>\n",
       "      <td>NaN</td>\n",
       "      <td>NaN</td>\n",
       "      <td>NaN</td>\n",
       "      <td>2012-07-01 00:00:00</td>\n",
       "      <td>NaN</td>\n",
       "    </tr>\n",
       "    <tr>\n",
       "      <th>last</th>\n",
       "      <td>NaN</td>\n",
       "      <td>NaN</td>\n",
       "      <td>NaN</td>\n",
       "      <td>NaN</td>\n",
       "      <td>NaN</td>\n",
       "      <td>NaN</td>\n",
       "      <td>NaN</td>\n",
       "      <td>NaN</td>\n",
       "      <td>NaN</td>\n",
       "      <td>2024-08-09 00:00:00</td>\n",
       "      <td>...</td>\n",
       "      <td>NaN</td>\n",
       "      <td>NaN</td>\n",
       "      <td>NaN</td>\n",
       "      <td>NaN</td>\n",
       "      <td>NaN</td>\n",
       "      <td>NaN</td>\n",
       "      <td>NaN</td>\n",
       "      <td>NaN</td>\n",
       "      <td>2024-08-09 00:00:00</td>\n",
       "      <td>NaN</td>\n",
       "    </tr>\n",
       "    <tr>\n",
       "      <th>mean</th>\n",
       "      <td>NaN</td>\n",
       "      <td>NaN</td>\n",
       "      <td>NaN</td>\n",
       "      <td>4.5</td>\n",
       "      <td>NaN</td>\n",
       "      <td>NaN</td>\n",
       "      <td>3222.524212</td>\n",
       "      <td>NaN</td>\n",
       "      <td>2.014941e+07</td>\n",
       "      <td>NaN</td>\n",
       "      <td>...</td>\n",
       "      <td>NaN</td>\n",
       "      <td>0.321487</td>\n",
       "      <td>60011.545394</td>\n",
       "      <td>NaN</td>\n",
       "      <td>16.0</td>\n",
       "      <td>NaN</td>\n",
       "      <td>NaN</td>\n",
       "      <td>2.014858e+07</td>\n",
       "      <td>NaN</td>\n",
       "      <td>20.027287</td>\n",
       "    </tr>\n",
       "    <tr>\n",
       "      <th>std</th>\n",
       "      <td>NaN</td>\n",
       "      <td>NaN</td>\n",
       "      <td>NaN</td>\n",
       "      <td>0.0</td>\n",
       "      <td>NaN</td>\n",
       "      <td>NaN</td>\n",
       "      <td>9940.736169</td>\n",
       "      <td>NaN</td>\n",
       "      <td>1.652238e+04</td>\n",
       "      <td>NaN</td>\n",
       "      <td>...</td>\n",
       "      <td>NaN</td>\n",
       "      <td>0.467050</td>\n",
       "      <td>24628.603336</td>\n",
       "      <td>NaN</td>\n",
       "      <td>0.0</td>\n",
       "      <td>NaN</td>\n",
       "      <td>NaN</td>\n",
       "      <td>1.602167e+04</td>\n",
       "      <td>NaN</td>\n",
       "      <td>72.147829</td>\n",
       "    </tr>\n",
       "    <tr>\n",
       "      <th>min</th>\n",
       "      <td>NaN</td>\n",
       "      <td>NaN</td>\n",
       "      <td>NaN</td>\n",
       "      <td>4.5</td>\n",
       "      <td>NaN</td>\n",
       "      <td>NaN</td>\n",
       "      <td>2.000000</td>\n",
       "      <td>NaN</td>\n",
       "      <td>2.012070e+07</td>\n",
       "      <td>NaN</td>\n",
       "      <td>...</td>\n",
       "      <td>NaN</td>\n",
       "      <td>0.000000</td>\n",
       "      <td>6531.000000</td>\n",
       "      <td>NaN</td>\n",
       "      <td>16.0</td>\n",
       "      <td>NaN</td>\n",
       "      <td>NaN</td>\n",
       "      <td>2.012071e+07</td>\n",
       "      <td>NaN</td>\n",
       "      <td>0.000000</td>\n",
       "    </tr>\n",
       "    <tr>\n",
       "      <th>25%</th>\n",
       "      <td>NaN</td>\n",
       "      <td>NaN</td>\n",
       "      <td>NaN</td>\n",
       "      <td>4.5</td>\n",
       "      <td>NaN</td>\n",
       "      <td>NaN</td>\n",
       "      <td>296.000000</td>\n",
       "      <td>NaN</td>\n",
       "      <td>2.013122e+07</td>\n",
       "      <td>NaN</td>\n",
       "      <td>...</td>\n",
       "      <td>NaN</td>\n",
       "      <td>0.000000</td>\n",
       "      <td>44928.000000</td>\n",
       "      <td>NaN</td>\n",
       "      <td>16.0</td>\n",
       "      <td>NaN</td>\n",
       "      <td>NaN</td>\n",
       "      <td>2.013116e+07</td>\n",
       "      <td>NaN</td>\n",
       "      <td>2.000000</td>\n",
       "    </tr>\n",
       "    <tr>\n",
       "      <th>50%</th>\n",
       "      <td>NaN</td>\n",
       "      <td>NaN</td>\n",
       "      <td>NaN</td>\n",
       "      <td>4.5</td>\n",
       "      <td>NaN</td>\n",
       "      <td>NaN</td>\n",
       "      <td>883.000000</td>\n",
       "      <td>NaN</td>\n",
       "      <td>2.015070e+07</td>\n",
       "      <td>NaN</td>\n",
       "      <td>...</td>\n",
       "      <td>NaN</td>\n",
       "      <td>0.000000</td>\n",
       "      <td>53102.000000</td>\n",
       "      <td>NaN</td>\n",
       "      <td>16.0</td>\n",
       "      <td>NaN</td>\n",
       "      <td>NaN</td>\n",
       "      <td>2.015051e+07</td>\n",
       "      <td>NaN</td>\n",
       "      <td>4.000000</td>\n",
       "    </tr>\n",
       "    <tr>\n",
       "      <th>75%</th>\n",
       "      <td>NaN</td>\n",
       "      <td>NaN</td>\n",
       "      <td>NaN</td>\n",
       "      <td>4.5</td>\n",
       "      <td>NaN</td>\n",
       "      <td>NaN</td>\n",
       "      <td>2657.000000</td>\n",
       "      <td>NaN</td>\n",
       "      <td>2.016101e+07</td>\n",
       "      <td>NaN</td>\n",
       "      <td>...</td>\n",
       "      <td>NaN</td>\n",
       "      <td>1.000000</td>\n",
       "      <td>64159.000000</td>\n",
       "      <td>NaN</td>\n",
       "      <td>16.0</td>\n",
       "      <td>NaN</td>\n",
       "      <td>NaN</td>\n",
       "      <td>2.016081e+07</td>\n",
       "      <td>NaN</td>\n",
       "      <td>14.000000</td>\n",
       "    </tr>\n",
       "    <tr>\n",
       "      <th>max</th>\n",
       "      <td>NaN</td>\n",
       "      <td>NaN</td>\n",
       "      <td>NaN</td>\n",
       "      <td>4.5</td>\n",
       "      <td>NaN</td>\n",
       "      <td>NaN</td>\n",
       "      <td>424720.000000</td>\n",
       "      <td>NaN</td>\n",
       "      <td>2.018021e+07</td>\n",
       "      <td>NaN</td>\n",
       "      <td>...</td>\n",
       "      <td>NaN</td>\n",
       "      <td>1.000000</td>\n",
       "      <td>193681.000000</td>\n",
       "      <td>NaN</td>\n",
       "      <td>16.0</td>\n",
       "      <td>NaN</td>\n",
       "      <td>NaN</td>\n",
       "      <td>2.018021e+07</td>\n",
       "      <td>NaN</td>\n",
       "      <td>2778.000000</td>\n",
       "    </tr>\n",
       "  </tbody>\n",
       "</table>\n",
       "<p>13 rows × 25 columns</p>\n",
       "</div>"
      ],
      "text/plain": [
       "             sys_sector          sys_process sys_product  \\\n",
       "count             80000                80000       80000   \n",
       "unique                1                    1           1   \n",
       "top     Private NonLife  Claims_initial_load       MOTOR   \n",
       "freq              80000                80000       80000   \n",
       "first               NaN                  NaN         NaN   \n",
       "last                NaN                  NaN         NaN   \n",
       "mean                NaN                  NaN         NaN   \n",
       "std                 NaN                  NaN         NaN   \n",
       "min                 NaN                  NaN         NaN   \n",
       "25%                 NaN                  NaN         NaN   \n",
       "50%                 NaN                  NaN         NaN   \n",
       "75%                 NaN                  NaN         NaN   \n",
       "max                 NaN                  NaN         NaN   \n",
       "\n",
       "        sys_dataspecification_version       sys_claimid sys_currency_code  \\\n",
       "count                         80000.0             80000             80000   \n",
       "unique                            NaN             79998                 1   \n",
       "top                               NaN  MTR-603112190-02               EUR   \n",
       "freq                              NaN                 2             80000   \n",
       "first                             NaN               NaN               NaN   \n",
       "last                              NaN               NaN               NaN   \n",
       "mean                              4.5               NaN               NaN   \n",
       "std                               0.0               NaN               NaN   \n",
       "min                               4.5               NaN               NaN   \n",
       "25%                               4.5               NaN               NaN   \n",
       "50%                               4.5               NaN               NaN   \n",
       "75%                               4.5               NaN               NaN   \n",
       "max                               4.5               NaN               NaN   \n",
       "\n",
       "        claim_amount_claimed_total claim_causetype  claim_date_occurred  \\\n",
       "count                 80000.000000           79998         8.000000e+04   \n",
       "unique                         NaN               5                  NaN   \n",
       "top                            NaN       Collision                  NaN   \n",
       "freq                           NaN           48955                  NaN   \n",
       "first                          NaN             NaN                  NaN   \n",
       "last                           NaN             NaN                  NaN   \n",
       "mean                   3222.524212             NaN         2.014941e+07   \n",
       "std                    9940.736169             NaN         1.652238e+04   \n",
       "min                       2.000000             NaN         2.012070e+07   \n",
       "25%                     296.000000             NaN         2.013122e+07   \n",
       "50%                     883.000000             NaN         2.015070e+07   \n",
       "75%                    2657.000000             NaN         2.016101e+07   \n",
       "max                  424720.000000             NaN         2.018021e+07   \n",
       "\n",
       "        claim_date_reported  ...  ph_name policy_fleet_flag  \\\n",
       "count                 80000  ...    80000      80000.000000   \n",
       "unique                 2280  ...    18237               NaN   \n",
       "top     2016-06-25 00:00:00  ...   Nguyen               NaN   \n",
       "freq                    122  ...      630               NaN   \n",
       "first   2012-07-01 00:00:00  ...      NaN               NaN   \n",
       "last    2024-08-09 00:00:00  ...      NaN               NaN   \n",
       "mean                    NaN  ...      NaN          0.321487   \n",
       "std                     NaN  ...      NaN          0.467050   \n",
       "min                     NaN  ...      NaN          0.000000   \n",
       "25%                     NaN  ...      NaN          0.000000   \n",
       "50%                     NaN  ...      NaN          0.000000   \n",
       "75%                     NaN  ...      NaN          1.000000   \n",
       "max                     NaN  ...      NaN          1.000000   \n",
       "\n",
       "        policy_insured_amount policy_profitability len_claimid new_claimid  \\\n",
       "count            49181.000000                80000     80000.0       80000   \n",
       "unique                    NaN                    5         NaN       79998   \n",
       "top                       NaN             Very low         NaN   491813645   \n",
       "freq                      NaN                17529         NaN           2   \n",
       "first                     NaN                  NaN         NaN         NaN   \n",
       "last                      NaN                  NaN         NaN         NaN   \n",
       "mean             60011.545394                  NaN        16.0         NaN   \n",
       "std              24628.603336                  NaN         0.0         NaN   \n",
       "min               6531.000000                  NaN        16.0         NaN   \n",
       "25%              44928.000000                  NaN        16.0         NaN   \n",
       "50%              53102.000000                  NaN        16.0         NaN   \n",
       "75%              64159.000000                  NaN        16.0         NaN   \n",
       "max             193681.000000                  NaN        16.0         NaN   \n",
       "\n",
       "          ClaimID  Date_Occurred claim_date_reported_new  \\\n",
       "count         615   6.150000e+02                   80000   \n",
       "unique        615            NaN                    2280   \n",
       "top     393382568            NaN     2016-06-25 00:00:00   \n",
       "freq            1            NaN                     122   \n",
       "first         NaN            NaN     2012-07-01 00:00:00   \n",
       "last          NaN            NaN     2024-08-09 00:00:00   \n",
       "mean          NaN   2.014858e+07                     NaN   \n",
       "std           NaN   1.602167e+04                     NaN   \n",
       "min           NaN   2.012071e+07                     NaN   \n",
       "25%           NaN   2.013116e+07                     NaN   \n",
       "50%           NaN   2.015051e+07                     NaN   \n",
       "75%           NaN   2.016081e+07                     NaN   \n",
       "max           NaN   2.018021e+07                     NaN   \n",
       "\n",
       "        diff_days_between_claim_occ_report  \n",
       "count                         80000.000000  \n",
       "unique                                 NaN  \n",
       "top                                    NaN  \n",
       "freq                                   NaN  \n",
       "first                                  NaN  \n",
       "last                                   NaN  \n",
       "mean                             20.027287  \n",
       "std                              72.147829  \n",
       "min                               0.000000  \n",
       "25%                               2.000000  \n",
       "50%                               4.000000  \n",
       "75%                              14.000000  \n",
       "max                            2778.000000  \n",
       "\n",
       "[13 rows x 25 columns]"
      ]
     },
     "execution_count": 38,
     "metadata": {},
     "output_type": "execute_result"
    }
   ],
   "source": [
    "# Checking statistics of categorical columns\n",
    "train_data.describe(include = 'all')"
   ]
  },
  {
   "cell_type": "code",
   "execution_count": 39,
   "metadata": {},
   "outputs": [],
   "source": [
    "# dropping the coulmns with only 1 unique value\n",
    "drop_col= ['sys_sector' ,'sys_process' ,'sys_product','sys_dataspecification_version','sys_currency_code']\n",
    "train_data.drop(columns=drop_col, axis = 1,inplace=True)"
   ]
  },
  {
   "cell_type": "code",
   "execution_count": 40,
   "metadata": {},
   "outputs": [
    {
     "data": {
      "text/plain": [
       "Index(['sys_claimid', 'claim_amount_claimed_total', 'claim_causetype',\n",
       "       'claim_date_occurred', 'claim_date_reported',\n",
       "       'claim_location_urban_area', 'object_make', 'object_year_construction',\n",
       "       'ph_firstname', 'ph_gender', 'ph_name', 'policy_fleet_flag',\n",
       "       'policy_insured_amount', 'policy_profitability', 'len_claimid',\n",
       "       'new_claimid', 'ClaimID', 'Date_Occurred', 'claim_date_reported_new',\n",
       "       'diff_days_between_claim_occ_report'],\n",
       "      dtype='object')"
      ]
     },
     "execution_count": 40,
     "metadata": {},
     "output_type": "execute_result"
    }
   ],
   "source": [
    "train_data.columns"
   ]
  },
  {
   "cell_type": "code",
   "execution_count": 41,
   "metadata": {},
   "outputs": [
    {
     "data": {
      "text/plain": [
       "(80000, 20)"
      ]
     },
     "execution_count": 41,
     "metadata": {},
     "output_type": "execute_result"
    }
   ],
   "source": [
    "train_data.shape"
   ]
  },
  {
   "cell_type": "markdown",
   "metadata": {},
   "source": [
    "## Data Santity Checks"
   ]
  },
  {
   "cell_type": "markdown",
   "metadata": {},
   "source": [
    "####  1.Checking if 'claim_date_reported_new' < 'claim_date_occurred'. It should not have any such rows because it is not possible to report a claim before it has occured"
   ]
  },
  {
   "cell_type": "code",
   "execution_count": 42,
   "metadata": {},
   "outputs": [
    {
     "data": {
      "text/plain": [
       "(0, 20)"
      ]
     },
     "execution_count": 42,
     "metadata": {},
     "output_type": "execute_result"
    }
   ],
   "source": [
    "train_data[train_data.claim_date_reported < pd.to_datetime(train_data.claim_date_occurred.astype(str), format='%Y%m%d')].shape"
   ]
  },
  {
   "cell_type": "markdown",
   "metadata": {},
   "source": [
    "#### Finding -  From the output we conclude that there is no such cases where the date occured is bigger that data claimed"
   ]
  },
  {
   "cell_type": "markdown",
   "metadata": {},
   "source": [
    "__________________________________________________________________________________________________________"
   ]
  },
  {
   "cell_type": "markdown",
   "metadata": {},
   "source": [
    "#### 2.Checking if 'object_year_construction' > 'claim_date_occurred'. It should not have any such rows because vehicle construction should be before claim date"
   ]
  },
  {
   "cell_type": "code",
   "execution_count": 43,
   "metadata": {},
   "outputs": [
    {
     "data": {
      "text/html": [
       "<div>\n",
       "<style scoped>\n",
       "    .dataframe tbody tr th:only-of-type {\n",
       "        vertical-align: middle;\n",
       "    }\n",
       "\n",
       "    .dataframe tbody tr th {\n",
       "        vertical-align: top;\n",
       "    }\n",
       "\n",
       "    .dataframe thead th {\n",
       "        text-align: right;\n",
       "    }\n",
       "</style>\n",
       "<table border=\"1\" class=\"dataframe\">\n",
       "  <thead>\n",
       "    <tr style=\"text-align: right;\">\n",
       "      <th></th>\n",
       "      <th>claim_date_occurred</th>\n",
       "      <th>object_year_construction</th>\n",
       "    </tr>\n",
       "  </thead>\n",
       "  <tbody>\n",
       "    <tr>\n",
       "      <th>159</th>\n",
       "      <td>20160219</td>\n",
       "      <td>2017.0</td>\n",
       "    </tr>\n",
       "    <tr>\n",
       "      <th>415</th>\n",
       "      <td>20140830</td>\n",
       "      <td>2016.0</td>\n",
       "    </tr>\n",
       "    <tr>\n",
       "      <th>959</th>\n",
       "      <td>20130510</td>\n",
       "      <td>2014.0</td>\n",
       "    </tr>\n",
       "    <tr>\n",
       "      <th>1912</th>\n",
       "      <td>20130409</td>\n",
       "      <td>2017.0</td>\n",
       "    </tr>\n",
       "    <tr>\n",
       "      <th>2012</th>\n",
       "      <td>20140627</td>\n",
       "      <td>2015.0</td>\n",
       "    </tr>\n",
       "    <tr>\n",
       "      <th>...</th>\n",
       "      <td>...</td>\n",
       "      <td>...</td>\n",
       "    </tr>\n",
       "    <tr>\n",
       "      <th>79947</th>\n",
       "      <td>20170811</td>\n",
       "      <td>2018.0</td>\n",
       "    </tr>\n",
       "    <tr>\n",
       "      <th>79958</th>\n",
       "      <td>20121228</td>\n",
       "      <td>2014.0</td>\n",
       "    </tr>\n",
       "    <tr>\n",
       "      <th>79970</th>\n",
       "      <td>20130828</td>\n",
       "      <td>2014.0</td>\n",
       "    </tr>\n",
       "    <tr>\n",
       "      <th>79978</th>\n",
       "      <td>20140516</td>\n",
       "      <td>2016.0</td>\n",
       "    </tr>\n",
       "    <tr>\n",
       "      <th>79996</th>\n",
       "      <td>20141028</td>\n",
       "      <td>2016.0</td>\n",
       "    </tr>\n",
       "  </tbody>\n",
       "</table>\n",
       "<p>4582 rows × 2 columns</p>\n",
       "</div>"
      ],
      "text/plain": [
       "       claim_date_occurred  object_year_construction\n",
       "159               20160219                    2017.0\n",
       "415               20140830                    2016.0\n",
       "959               20130510                    2014.0\n",
       "1912              20130409                    2017.0\n",
       "2012              20140627                    2015.0\n",
       "...                    ...                       ...\n",
       "79947             20170811                    2018.0\n",
       "79958             20121228                    2014.0\n",
       "79970             20130828                    2014.0\n",
       "79978             20140516                    2016.0\n",
       "79996             20141028                    2016.0\n",
       "\n",
       "[4582 rows x 2 columns]"
      ]
     },
     "execution_count": 43,
     "metadata": {},
     "output_type": "execute_result"
    }
   ],
   "source": [
    "train_data[train_data.object_year_construction > pd.to_datetime(train_data.claim_date_occurred.astype(str), format='%Y%m%d').dt.year][['claim_date_occurred','object_year_construction']]"
   ]
  },
  {
   "cell_type": "markdown",
   "metadata": {},
   "source": [
    "#### Finding - 4582 cases are present where year of construction of vehicle is after claims made which is not possible.\n",
    "####                  We will correct this by making year of construction in these cases equal to year of claim occurance."
   ]
  },
  {
   "cell_type": "code",
   "execution_count": 44,
   "metadata": {},
   "outputs": [
    {
     "data": {
      "text/html": [
       "<div>\n",
       "<style scoped>\n",
       "    .dataframe tbody tr th:only-of-type {\n",
       "        vertical-align: middle;\n",
       "    }\n",
       "\n",
       "    .dataframe tbody tr th {\n",
       "        vertical-align: top;\n",
       "    }\n",
       "\n",
       "    .dataframe thead th {\n",
       "        text-align: right;\n",
       "    }\n",
       "</style>\n",
       "<table border=\"1\" class=\"dataframe\">\n",
       "  <thead>\n",
       "    <tr style=\"text-align: right;\">\n",
       "      <th></th>\n",
       "      <th>claim_date_occurred</th>\n",
       "      <th>object_year_construction</th>\n",
       "      <th>object_year_construction_new</th>\n",
       "    </tr>\n",
       "  </thead>\n",
       "  <tbody>\n",
       "    <tr>\n",
       "      <th>159</th>\n",
       "      <td>20160219</td>\n",
       "      <td>2017.0</td>\n",
       "      <td>2016.0</td>\n",
       "    </tr>\n",
       "    <tr>\n",
       "      <th>415</th>\n",
       "      <td>20140830</td>\n",
       "      <td>2016.0</td>\n",
       "      <td>2014.0</td>\n",
       "    </tr>\n",
       "    <tr>\n",
       "      <th>959</th>\n",
       "      <td>20130510</td>\n",
       "      <td>2014.0</td>\n",
       "      <td>2013.0</td>\n",
       "    </tr>\n",
       "    <tr>\n",
       "      <th>1912</th>\n",
       "      <td>20130409</td>\n",
       "      <td>2017.0</td>\n",
       "      <td>2013.0</td>\n",
       "    </tr>\n",
       "    <tr>\n",
       "      <th>2012</th>\n",
       "      <td>20140627</td>\n",
       "      <td>2015.0</td>\n",
       "      <td>2014.0</td>\n",
       "    </tr>\n",
       "    <tr>\n",
       "      <th>...</th>\n",
       "      <td>...</td>\n",
       "      <td>...</td>\n",
       "      <td>...</td>\n",
       "    </tr>\n",
       "    <tr>\n",
       "      <th>79947</th>\n",
       "      <td>20170811</td>\n",
       "      <td>2018.0</td>\n",
       "      <td>2017.0</td>\n",
       "    </tr>\n",
       "    <tr>\n",
       "      <th>79958</th>\n",
       "      <td>20121228</td>\n",
       "      <td>2014.0</td>\n",
       "      <td>2012.0</td>\n",
       "    </tr>\n",
       "    <tr>\n",
       "      <th>79970</th>\n",
       "      <td>20130828</td>\n",
       "      <td>2014.0</td>\n",
       "      <td>2013.0</td>\n",
       "    </tr>\n",
       "    <tr>\n",
       "      <th>79978</th>\n",
       "      <td>20140516</td>\n",
       "      <td>2016.0</td>\n",
       "      <td>2014.0</td>\n",
       "    </tr>\n",
       "    <tr>\n",
       "      <th>79996</th>\n",
       "      <td>20141028</td>\n",
       "      <td>2016.0</td>\n",
       "      <td>2014.0</td>\n",
       "    </tr>\n",
       "  </tbody>\n",
       "</table>\n",
       "<p>4582 rows × 3 columns</p>\n",
       "</div>"
      ],
      "text/plain": [
       "       claim_date_occurred  object_year_construction  \\\n",
       "159               20160219                    2017.0   \n",
       "415               20140830                    2016.0   \n",
       "959               20130510                    2014.0   \n",
       "1912              20130409                    2017.0   \n",
       "2012              20140627                    2015.0   \n",
       "...                    ...                       ...   \n",
       "79947             20170811                    2018.0   \n",
       "79958             20121228                    2014.0   \n",
       "79970             20130828                    2014.0   \n",
       "79978             20140516                    2016.0   \n",
       "79996             20141028                    2016.0   \n",
       "\n",
       "       object_year_construction_new  \n",
       "159                          2016.0  \n",
       "415                          2014.0  \n",
       "959                          2013.0  \n",
       "1912                         2013.0  \n",
       "2012                         2014.0  \n",
       "...                             ...  \n",
       "79947                        2017.0  \n",
       "79958                        2012.0  \n",
       "79970                        2013.0  \n",
       "79978                        2014.0  \n",
       "79996                        2014.0  \n",
       "\n",
       "[4582 rows x 3 columns]"
      ]
     },
     "execution_count": 44,
     "metadata": {},
     "output_type": "execute_result"
    }
   ],
   "source": [
    "# Calculating the new year of construction\n",
    "train_data['object_year_construction_new']= np.where( train_data.object_year_construction >pd.to_datetime(train_data.claim_date_occurred.astype(str), format='%Y%m%d').dt.year,pd.to_datetime(train_data.claim_date_occurred.astype(str), format='%Y%m%d').dt.year,train_data['object_year_construction'])\n",
    "train_data[train_data.object_year_construction >pd.to_datetime(train_data.claim_date_occurred.astype(str), format='%Y%m%d').dt.year][['claim_date_occurred','object_year_construction',\"object_year_construction_new\"]]"
   ]
  },
  {
   "cell_type": "markdown",
   "metadata": {},
   "source": [
    "---------------------------------------------------------------------------------------------------------------"
   ]
  },
  {
   "cell_type": "markdown",
   "metadata": {},
   "source": [
    "#### 3. Checking if claim_amount_claimed_total > policy_insured_amount. It should not have any such rows because claim amount cannot be greater than policy amount."
   ]
  },
  {
   "cell_type": "code",
   "execution_count": 45,
   "metadata": {},
   "outputs": [
    {
     "data": {
      "text/html": [
       "<div>\n",
       "<style scoped>\n",
       "    .dataframe tbody tr th:only-of-type {\n",
       "        vertical-align: middle;\n",
       "    }\n",
       "\n",
       "    .dataframe tbody tr th {\n",
       "        vertical-align: top;\n",
       "    }\n",
       "\n",
       "    .dataframe thead th {\n",
       "        text-align: right;\n",
       "    }\n",
       "</style>\n",
       "<table border=\"1\" class=\"dataframe\">\n",
       "  <thead>\n",
       "    <tr style=\"text-align: right;\">\n",
       "      <th></th>\n",
       "      <th>sys_claimid</th>\n",
       "      <th>claim_amount_claimed_total</th>\n",
       "      <th>claim_causetype</th>\n",
       "      <th>claim_date_occurred</th>\n",
       "      <th>claim_date_reported</th>\n",
       "      <th>claim_location_urban_area</th>\n",
       "      <th>object_make</th>\n",
       "      <th>object_year_construction</th>\n",
       "      <th>ph_firstname</th>\n",
       "      <th>ph_gender</th>\n",
       "      <th>...</th>\n",
       "      <th>policy_fleet_flag</th>\n",
       "      <th>policy_insured_amount</th>\n",
       "      <th>policy_profitability</th>\n",
       "      <th>len_claimid</th>\n",
       "      <th>new_claimid</th>\n",
       "      <th>ClaimID</th>\n",
       "      <th>Date_Occurred</th>\n",
       "      <th>claim_date_reported_new</th>\n",
       "      <th>diff_days_between_claim_occ_report</th>\n",
       "      <th>object_year_construction_new</th>\n",
       "    </tr>\n",
       "  </thead>\n",
       "  <tbody>\n",
       "    <tr>\n",
       "      <th>275</th>\n",
       "      <td>MTR-623984743-02</td>\n",
       "      <td>127303.0</td>\n",
       "      <td>Collision</td>\n",
       "      <td>20170212</td>\n",
       "      <td>2017-02-22</td>\n",
       "      <td>1</td>\n",
       "      <td>OTHER</td>\n",
       "      <td>2012.0</td>\n",
       "      <td>Othell</td>\n",
       "      <td>M</td>\n",
       "      <td>...</td>\n",
       "      <td>0</td>\n",
       "      <td>95739.0</td>\n",
       "      <td>Neutral</td>\n",
       "      <td>16</td>\n",
       "      <td>623984743</td>\n",
       "      <td>NaN</td>\n",
       "      <td>NaN</td>\n",
       "      <td>2017-02-22</td>\n",
       "      <td>10.0</td>\n",
       "      <td>2012.0</td>\n",
       "    </tr>\n",
       "    <tr>\n",
       "      <th>1266</th>\n",
       "      <td>MTR-315891252-02</td>\n",
       "      <td>104320.0</td>\n",
       "      <td>Collision</td>\n",
       "      <td>20121231</td>\n",
       "      <td>2013-05-12</td>\n",
       "      <td>0</td>\n",
       "      <td>AUDI</td>\n",
       "      <td>2007.0</td>\n",
       "      <td>Keeley</td>\n",
       "      <td>F</td>\n",
       "      <td>...</td>\n",
       "      <td>0</td>\n",
       "      <td>81287.0</td>\n",
       "      <td>Very low</td>\n",
       "      <td>16</td>\n",
       "      <td>315891252</td>\n",
       "      <td>NaN</td>\n",
       "      <td>NaN</td>\n",
       "      <td>2013-05-12</td>\n",
       "      <td>132.0</td>\n",
       "      <td>2007.0</td>\n",
       "    </tr>\n",
       "    <tr>\n",
       "      <th>1455</th>\n",
       "      <td>MTR-329478529-02</td>\n",
       "      <td>128001.0</td>\n",
       "      <td>Weather</td>\n",
       "      <td>20120831</td>\n",
       "      <td>2012-09-14</td>\n",
       "      <td>1</td>\n",
       "      <td>RENAULT</td>\n",
       "      <td>1995.0</td>\n",
       "      <td>Kristopher</td>\n",
       "      <td>M</td>\n",
       "      <td>...</td>\n",
       "      <td>0</td>\n",
       "      <td>81444.0</td>\n",
       "      <td>Low</td>\n",
       "      <td>16</td>\n",
       "      <td>329478529</td>\n",
       "      <td>329478529</td>\n",
       "      <td>20120831.0</td>\n",
       "      <td>2012-09-14</td>\n",
       "      <td>14.0</td>\n",
       "      <td>1995.0</td>\n",
       "    </tr>\n",
       "    <tr>\n",
       "      <th>2033</th>\n",
       "      <td>MTR-416489525-02</td>\n",
       "      <td>173415.0</td>\n",
       "      <td>Other</td>\n",
       "      <td>20131218</td>\n",
       "      <td>2013-12-24</td>\n",
       "      <td>1</td>\n",
       "      <td>OTHER</td>\n",
       "      <td>2014.0</td>\n",
       "      <td>Christine</td>\n",
       "      <td>L</td>\n",
       "      <td>...</td>\n",
       "      <td>0</td>\n",
       "      <td>71047.0</td>\n",
       "      <td>High</td>\n",
       "      <td>16</td>\n",
       "      <td>416489525</td>\n",
       "      <td>NaN</td>\n",
       "      <td>NaN</td>\n",
       "      <td>2013-12-24</td>\n",
       "      <td>6.0</td>\n",
       "      <td>2013.0</td>\n",
       "    </tr>\n",
       "    <tr>\n",
       "      <th>2114</th>\n",
       "      <td>MTR-444711600-02</td>\n",
       "      <td>209933.0</td>\n",
       "      <td>Theft</td>\n",
       "      <td>20140930</td>\n",
       "      <td>2014-10-26</td>\n",
       "      <td>1</td>\n",
       "      <td>RENAULT</td>\n",
       "      <td>2004.0</td>\n",
       "      <td>Anissa</td>\n",
       "      <td>F</td>\n",
       "      <td>...</td>\n",
       "      <td>0</td>\n",
       "      <td>124622.0</td>\n",
       "      <td>Neutral</td>\n",
       "      <td>16</td>\n",
       "      <td>444711600</td>\n",
       "      <td>NaN</td>\n",
       "      <td>NaN</td>\n",
       "      <td>2014-10-26</td>\n",
       "      <td>26.0</td>\n",
       "      <td>2004.0</td>\n",
       "    </tr>\n",
       "    <tr>\n",
       "      <th>...</th>\n",
       "      <td>...</td>\n",
       "      <td>...</td>\n",
       "      <td>...</td>\n",
       "      <td>...</td>\n",
       "      <td>...</td>\n",
       "      <td>...</td>\n",
       "      <td>...</td>\n",
       "      <td>...</td>\n",
       "      <td>...</td>\n",
       "      <td>...</td>\n",
       "      <td>...</td>\n",
       "      <td>...</td>\n",
       "      <td>...</td>\n",
       "      <td>...</td>\n",
       "      <td>...</td>\n",
       "      <td>...</td>\n",
       "      <td>...</td>\n",
       "      <td>...</td>\n",
       "      <td>...</td>\n",
       "      <td>...</td>\n",
       "      <td>...</td>\n",
       "    </tr>\n",
       "    <tr>\n",
       "      <th>79346</th>\n",
       "      <td>MTR-254647016-02</td>\n",
       "      <td>44509.0</td>\n",
       "      <td>Collision</td>\n",
       "      <td>20140803</td>\n",
       "      <td>2014-08-03</td>\n",
       "      <td>1</td>\n",
       "      <td>BMW</td>\n",
       "      <td>2014.0</td>\n",
       "      <td>Matthew</td>\n",
       "      <td>M</td>\n",
       "      <td>...</td>\n",
       "      <td>1</td>\n",
       "      <td>30762.0</td>\n",
       "      <td>Low</td>\n",
       "      <td>16</td>\n",
       "      <td>254647016</td>\n",
       "      <td>NaN</td>\n",
       "      <td>NaN</td>\n",
       "      <td>2014-08-03</td>\n",
       "      <td>0.0</td>\n",
       "      <td>2014.0</td>\n",
       "    </tr>\n",
       "    <tr>\n",
       "      <th>79378</th>\n",
       "      <td>MTR-351980250-02</td>\n",
       "      <td>52061.0</td>\n",
       "      <td>Collision</td>\n",
       "      <td>20140401</td>\n",
       "      <td>2014-04-10</td>\n",
       "      <td>0</td>\n",
       "      <td>VOLKSWAGEN</td>\n",
       "      <td>2012.0</td>\n",
       "      <td>Monica</td>\n",
       "      <td>L</td>\n",
       "      <td>...</td>\n",
       "      <td>0</td>\n",
       "      <td>46980.0</td>\n",
       "      <td>Neutral</td>\n",
       "      <td>16</td>\n",
       "      <td>351980250</td>\n",
       "      <td>NaN</td>\n",
       "      <td>NaN</td>\n",
       "      <td>2014-04-10</td>\n",
       "      <td>9.0</td>\n",
       "      <td>2012.0</td>\n",
       "    </tr>\n",
       "    <tr>\n",
       "      <th>79465</th>\n",
       "      <td>MTR-899544708-02</td>\n",
       "      <td>69690.0</td>\n",
       "      <td>Collision</td>\n",
       "      <td>20170217</td>\n",
       "      <td>2017-02-19</td>\n",
       "      <td>0</td>\n",
       "      <td>RENAULT</td>\n",
       "      <td>2006.0</td>\n",
       "      <td>Carly</td>\n",
       "      <td>F</td>\n",
       "      <td>...</td>\n",
       "      <td>0</td>\n",
       "      <td>38966.0</td>\n",
       "      <td>Low</td>\n",
       "      <td>16</td>\n",
       "      <td>899544708</td>\n",
       "      <td>NaN</td>\n",
       "      <td>NaN</td>\n",
       "      <td>2017-02-19</td>\n",
       "      <td>2.0</td>\n",
       "      <td>2006.0</td>\n",
       "    </tr>\n",
       "    <tr>\n",
       "      <th>79573</th>\n",
       "      <td>MTR-925632201-02</td>\n",
       "      <td>67161.0</td>\n",
       "      <td>Weather</td>\n",
       "      <td>20170201</td>\n",
       "      <td>2017-02-03</td>\n",
       "      <td>0</td>\n",
       "      <td>OTHER</td>\n",
       "      <td>2002.0</td>\n",
       "      <td>Rayhan</td>\n",
       "      <td>M</td>\n",
       "      <td>...</td>\n",
       "      <td>1</td>\n",
       "      <td>53111.0</td>\n",
       "      <td>Neutral</td>\n",
       "      <td>16</td>\n",
       "      <td>925632201</td>\n",
       "      <td>NaN</td>\n",
       "      <td>NaN</td>\n",
       "      <td>2017-02-03</td>\n",
       "      <td>2.0</td>\n",
       "      <td>2002.0</td>\n",
       "    </tr>\n",
       "    <tr>\n",
       "      <th>79886</th>\n",
       "      <td>MTR-277870399-02</td>\n",
       "      <td>70237.0</td>\n",
       "      <td>Weather</td>\n",
       "      <td>20171019</td>\n",
       "      <td>2017-10-29</td>\n",
       "      <td>1</td>\n",
       "      <td>BMW</td>\n",
       "      <td>2003.0</td>\n",
       "      <td>Shaamikh</td>\n",
       "      <td>M</td>\n",
       "      <td>...</td>\n",
       "      <td>1</td>\n",
       "      <td>42020.0</td>\n",
       "      <td>Very low</td>\n",
       "      <td>16</td>\n",
       "      <td>277870399</td>\n",
       "      <td>NaN</td>\n",
       "      <td>NaN</td>\n",
       "      <td>2017-10-29</td>\n",
       "      <td>10.0</td>\n",
       "      <td>2003.0</td>\n",
       "    </tr>\n",
       "  </tbody>\n",
       "</table>\n",
       "<p>290 rows × 21 columns</p>\n",
       "</div>"
      ],
      "text/plain": [
       "            sys_claimid  claim_amount_claimed_total claim_causetype  \\\n",
       "275    MTR-623984743-02                    127303.0       Collision   \n",
       "1266   MTR-315891252-02                    104320.0       Collision   \n",
       "1455   MTR-329478529-02                    128001.0         Weather   \n",
       "2033   MTR-416489525-02                    173415.0           Other   \n",
       "2114   MTR-444711600-02                    209933.0           Theft   \n",
       "...                 ...                         ...             ...   \n",
       "79346  MTR-254647016-02                     44509.0       Collision   \n",
       "79378  MTR-351980250-02                     52061.0       Collision   \n",
       "79465  MTR-899544708-02                     69690.0       Collision   \n",
       "79573  MTR-925632201-02                     67161.0         Weather   \n",
       "79886  MTR-277870399-02                     70237.0         Weather   \n",
       "\n",
       "       claim_date_occurred claim_date_reported  claim_location_urban_area  \\\n",
       "275               20170212          2017-02-22                          1   \n",
       "1266              20121231          2013-05-12                          0   \n",
       "1455              20120831          2012-09-14                          1   \n",
       "2033              20131218          2013-12-24                          1   \n",
       "2114              20140930          2014-10-26                          1   \n",
       "...                    ...                 ...                        ...   \n",
       "79346             20140803          2014-08-03                          1   \n",
       "79378             20140401          2014-04-10                          0   \n",
       "79465             20170217          2017-02-19                          0   \n",
       "79573             20170201          2017-02-03                          0   \n",
       "79886             20171019          2017-10-29                          1   \n",
       "\n",
       "      object_make  object_year_construction ph_firstname ph_gender  ...  \\\n",
       "275         OTHER                    2012.0       Othell         M  ...   \n",
       "1266         AUDI                    2007.0       Keeley         F  ...   \n",
       "1455      RENAULT                    1995.0   Kristopher         M  ...   \n",
       "2033        OTHER                    2014.0    Christine         L  ...   \n",
       "2114      RENAULT                    2004.0       Anissa         F  ...   \n",
       "...           ...                       ...          ...       ...  ...   \n",
       "79346         BMW                    2014.0      Matthew         M  ...   \n",
       "79378  VOLKSWAGEN                    2012.0       Monica         L  ...   \n",
       "79465     RENAULT                    2006.0        Carly         F  ...   \n",
       "79573       OTHER                    2002.0       Rayhan         M  ...   \n",
       "79886         BMW                    2003.0     Shaamikh         M  ...   \n",
       "\n",
       "      policy_fleet_flag  policy_insured_amount  policy_profitability  \\\n",
       "275                   0                95739.0               Neutral   \n",
       "1266                  0                81287.0              Very low   \n",
       "1455                  0                81444.0                   Low   \n",
       "2033                  0                71047.0                  High   \n",
       "2114                  0               124622.0               Neutral   \n",
       "...                 ...                    ...                   ...   \n",
       "79346                 1                30762.0                   Low   \n",
       "79378                 0                46980.0               Neutral   \n",
       "79465                 0                38966.0                   Low   \n",
       "79573                 1                53111.0               Neutral   \n",
       "79886                 1                42020.0              Very low   \n",
       "\n",
       "      len_claimid  new_claimid    ClaimID Date_Occurred  \\\n",
       "275            16    623984743        NaN           NaN   \n",
       "1266           16    315891252        NaN           NaN   \n",
       "1455           16    329478529  329478529    20120831.0   \n",
       "2033           16    416489525        NaN           NaN   \n",
       "2114           16    444711600        NaN           NaN   \n",
       "...           ...          ...        ...           ...   \n",
       "79346          16    254647016        NaN           NaN   \n",
       "79378          16    351980250        NaN           NaN   \n",
       "79465          16    899544708        NaN           NaN   \n",
       "79573          16    925632201        NaN           NaN   \n",
       "79886          16    277870399        NaN           NaN   \n",
       "\n",
       "       claim_date_reported_new diff_days_between_claim_occ_report  \\\n",
       "275                 2017-02-22                               10.0   \n",
       "1266                2013-05-12                              132.0   \n",
       "1455                2012-09-14                               14.0   \n",
       "2033                2013-12-24                                6.0   \n",
       "2114                2014-10-26                               26.0   \n",
       "...                        ...                                ...   \n",
       "79346               2014-08-03                                0.0   \n",
       "79378               2014-04-10                                9.0   \n",
       "79465               2017-02-19                                2.0   \n",
       "79573               2017-02-03                                2.0   \n",
       "79886               2017-10-29                               10.0   \n",
       "\n",
       "       object_year_construction_new  \n",
       "275                          2012.0  \n",
       "1266                         2007.0  \n",
       "1455                         1995.0  \n",
       "2033                         2013.0  \n",
       "2114                         2004.0  \n",
       "...                             ...  \n",
       "79346                        2014.0  \n",
       "79378                        2012.0  \n",
       "79465                        2006.0  \n",
       "79573                        2002.0  \n",
       "79886                        2003.0  \n",
       "\n",
       "[290 rows x 21 columns]"
      ]
     },
     "execution_count": 45,
     "metadata": {},
     "output_type": "execute_result"
    }
   ],
   "source": [
    "## checking for the rows with claim_amount_claimed_total > policy_insured_amount\n",
    "train_data[train_data.claim_amount_claimed_total > train_data.policy_insured_amount]"
   ]
  },
  {
   "cell_type": "markdown",
   "metadata": {},
   "source": [
    "#### Finding - 290 are such cases where claimed amount is greater than the insured amount\n",
    "#### For now, in such cases we will correct it by making claimed amount = insured amount"
   ]
  },
  {
   "cell_type": "code",
   "execution_count": 46,
   "metadata": {},
   "outputs": [
    {
     "data": {
      "text/html": [
       "<div>\n",
       "<style scoped>\n",
       "    .dataframe tbody tr th:only-of-type {\n",
       "        vertical-align: middle;\n",
       "    }\n",
       "\n",
       "    .dataframe tbody tr th {\n",
       "        vertical-align: top;\n",
       "    }\n",
       "\n",
       "    .dataframe thead th {\n",
       "        text-align: right;\n",
       "    }\n",
       "</style>\n",
       "<table border=\"1\" class=\"dataframe\">\n",
       "  <thead>\n",
       "    <tr style=\"text-align: right;\">\n",
       "      <th></th>\n",
       "      <th>claim_amount_claimed_total</th>\n",
       "      <th>policy_insured_amount</th>\n",
       "      <th>claim_amount_claimed_total_new</th>\n",
       "    </tr>\n",
       "  </thead>\n",
       "  <tbody>\n",
       "    <tr>\n",
       "      <th>275</th>\n",
       "      <td>127303.0</td>\n",
       "      <td>95739.0</td>\n",
       "      <td>95739.0</td>\n",
       "    </tr>\n",
       "    <tr>\n",
       "      <th>1266</th>\n",
       "      <td>104320.0</td>\n",
       "      <td>81287.0</td>\n",
       "      <td>81287.0</td>\n",
       "    </tr>\n",
       "    <tr>\n",
       "      <th>1455</th>\n",
       "      <td>128001.0</td>\n",
       "      <td>81444.0</td>\n",
       "      <td>81444.0</td>\n",
       "    </tr>\n",
       "    <tr>\n",
       "      <th>2033</th>\n",
       "      <td>173415.0</td>\n",
       "      <td>71047.0</td>\n",
       "      <td>71047.0</td>\n",
       "    </tr>\n",
       "    <tr>\n",
       "      <th>2114</th>\n",
       "      <td>209933.0</td>\n",
       "      <td>124622.0</td>\n",
       "      <td>124622.0</td>\n",
       "    </tr>\n",
       "    <tr>\n",
       "      <th>...</th>\n",
       "      <td>...</td>\n",
       "      <td>...</td>\n",
       "      <td>...</td>\n",
       "    </tr>\n",
       "    <tr>\n",
       "      <th>79346</th>\n",
       "      <td>44509.0</td>\n",
       "      <td>30762.0</td>\n",
       "      <td>30762.0</td>\n",
       "    </tr>\n",
       "    <tr>\n",
       "      <th>79378</th>\n",
       "      <td>52061.0</td>\n",
       "      <td>46980.0</td>\n",
       "      <td>46980.0</td>\n",
       "    </tr>\n",
       "    <tr>\n",
       "      <th>79465</th>\n",
       "      <td>69690.0</td>\n",
       "      <td>38966.0</td>\n",
       "      <td>38966.0</td>\n",
       "    </tr>\n",
       "    <tr>\n",
       "      <th>79573</th>\n",
       "      <td>67161.0</td>\n",
       "      <td>53111.0</td>\n",
       "      <td>53111.0</td>\n",
       "    </tr>\n",
       "    <tr>\n",
       "      <th>79886</th>\n",
       "      <td>70237.0</td>\n",
       "      <td>42020.0</td>\n",
       "      <td>42020.0</td>\n",
       "    </tr>\n",
       "  </tbody>\n",
       "</table>\n",
       "<p>290 rows × 3 columns</p>\n",
       "</div>"
      ],
      "text/plain": [
       "       claim_amount_claimed_total  policy_insured_amount  \\\n",
       "275                      127303.0                95739.0   \n",
       "1266                     104320.0                81287.0   \n",
       "1455                     128001.0                81444.0   \n",
       "2033                     173415.0                71047.0   \n",
       "2114                     209933.0               124622.0   \n",
       "...                           ...                    ...   \n",
       "79346                     44509.0                30762.0   \n",
       "79378                     52061.0                46980.0   \n",
       "79465                     69690.0                38966.0   \n",
       "79573                     67161.0                53111.0   \n",
       "79886                     70237.0                42020.0   \n",
       "\n",
       "       claim_amount_claimed_total_new  \n",
       "275                           95739.0  \n",
       "1266                          81287.0  \n",
       "1455                          81444.0  \n",
       "2033                          71047.0  \n",
       "2114                         124622.0  \n",
       "...                               ...  \n",
       "79346                         30762.0  \n",
       "79378                         46980.0  \n",
       "79465                         38966.0  \n",
       "79573                         53111.0  \n",
       "79886                         42020.0  \n",
       "\n",
       "[290 rows x 3 columns]"
      ]
     },
     "execution_count": 46,
     "metadata": {},
     "output_type": "execute_result"
    }
   ],
   "source": [
    "train_data['claim_amount_claimed_total_new']= np.where( train_data.claim_amount_claimed_total >train_data.policy_insured_amount,train_data.policy_insured_amount,train_data['claim_amount_claimed_total'])\n",
    "#checking if the correction worked\n",
    "train_data[train_data.claim_amount_claimed_total >train_data.policy_insured_amount][[\"claim_amount_claimed_total\",\"policy_insured_amount\",\"claim_amount_claimed_total_new\"]]"
   ]
  },
  {
   "cell_type": "markdown",
   "metadata": {},
   "source": [
    "-----------------------------------------------------------------------------------------------------------"
   ]
  },
  {
   "cell_type": "markdown",
   "metadata": {},
   "source": [
    "#### 4.Checking for the duplicate claim ids."
   ]
  },
  {
   "cell_type": "code",
   "execution_count": 47,
   "metadata": {},
   "outputs": [
    {
     "data": {
      "text/html": [
       "<div>\n",
       "<style scoped>\n",
       "    .dataframe tbody tr th:only-of-type {\n",
       "        vertical-align: middle;\n",
       "    }\n",
       "\n",
       "    .dataframe tbody tr th {\n",
       "        vertical-align: top;\n",
       "    }\n",
       "\n",
       "    .dataframe thead th {\n",
       "        text-align: right;\n",
       "    }\n",
       "</style>\n",
       "<table border=\"1\" class=\"dataframe\">\n",
       "  <thead>\n",
       "    <tr style=\"text-align: right;\">\n",
       "      <th></th>\n",
       "      <th>sys_claimid</th>\n",
       "      <th>claim_amount_claimed_total</th>\n",
       "      <th>claim_causetype</th>\n",
       "      <th>claim_date_occurred</th>\n",
       "      <th>claim_date_reported</th>\n",
       "      <th>claim_location_urban_area</th>\n",
       "      <th>object_make</th>\n",
       "      <th>object_year_construction</th>\n",
       "      <th>ph_firstname</th>\n",
       "      <th>ph_gender</th>\n",
       "      <th>...</th>\n",
       "      <th>policy_profitability</th>\n",
       "      <th>len_claimid</th>\n",
       "      <th>new_claimid</th>\n",
       "      <th>ClaimID</th>\n",
       "      <th>Date_Occurred</th>\n",
       "      <th>claim_date_reported_new</th>\n",
       "      <th>diff_days_between_claim_occ_report</th>\n",
       "      <th>object_year_construction_new</th>\n",
       "      <th>claim_amount_claimed_total_new</th>\n",
       "      <th>is_duplicate</th>\n",
       "    </tr>\n",
       "  </thead>\n",
       "  <tbody>\n",
       "    <tr>\n",
       "      <th>55974</th>\n",
       "      <td>MTR-491813645-02</td>\n",
       "      <td>218.0</td>\n",
       "      <td>Weather</td>\n",
       "      <td>20121206</td>\n",
       "      <td>2012-12-16</td>\n",
       "      <td>0</td>\n",
       "      <td>CITROEN</td>\n",
       "      <td>2012.0</td>\n",
       "      <td>Yvette</td>\n",
       "      <td>F</td>\n",
       "      <td>...</td>\n",
       "      <td>High</td>\n",
       "      <td>16</td>\n",
       "      <td>491813645</td>\n",
       "      <td>NaN</td>\n",
       "      <td>NaN</td>\n",
       "      <td>2012-12-16</td>\n",
       "      <td>10.0</td>\n",
       "      <td>2012.0</td>\n",
       "      <td>218.0</td>\n",
       "      <td>True</td>\n",
       "    </tr>\n",
       "    <tr>\n",
       "      <th>67106</th>\n",
       "      <td>MTR-603112190-02</td>\n",
       "      <td>777.0</td>\n",
       "      <td>Collision</td>\n",
       "      <td>20160716</td>\n",
       "      <td>2016-07-18</td>\n",
       "      <td>0</td>\n",
       "      <td>CITROEN</td>\n",
       "      <td>2012.0</td>\n",
       "      <td>Jazmyn</td>\n",
       "      <td>F</td>\n",
       "      <td>...</td>\n",
       "      <td>Very low</td>\n",
       "      <td>16</td>\n",
       "      <td>603112190</td>\n",
       "      <td>NaN</td>\n",
       "      <td>NaN</td>\n",
       "      <td>2016-07-18</td>\n",
       "      <td>2.0</td>\n",
       "      <td>2012.0</td>\n",
       "      <td>777.0</td>\n",
       "      <td>True</td>\n",
       "    </tr>\n",
       "  </tbody>\n",
       "</table>\n",
       "<p>2 rows × 23 columns</p>\n",
       "</div>"
      ],
      "text/plain": [
       "            sys_claimid  claim_amount_claimed_total claim_causetype  \\\n",
       "55974  MTR-491813645-02                       218.0         Weather   \n",
       "67106  MTR-603112190-02                       777.0       Collision   \n",
       "\n",
       "       claim_date_occurred claim_date_reported  claim_location_urban_area  \\\n",
       "55974             20121206          2012-12-16                          0   \n",
       "67106             20160716          2016-07-18                          0   \n",
       "\n",
       "      object_make  object_year_construction ph_firstname ph_gender  ...  \\\n",
       "55974     CITROEN                    2012.0       Yvette         F  ...   \n",
       "67106     CITROEN                    2012.0       Jazmyn         F  ...   \n",
       "\n",
       "      policy_profitability  len_claimid  new_claimid ClaimID  Date_Occurred  \\\n",
       "55974                 High           16    491813645     NaN            NaN   \n",
       "67106             Very low           16    603112190     NaN            NaN   \n",
       "\n",
       "      claim_date_reported_new diff_days_between_claim_occ_report  \\\n",
       "55974              2012-12-16                               10.0   \n",
       "67106              2016-07-18                                2.0   \n",
       "\n",
       "       object_year_construction_new claim_amount_claimed_total_new  \\\n",
       "55974                        2012.0                          218.0   \n",
       "67106                        2012.0                          777.0   \n",
       "\n",
       "       is_duplicate  \n",
       "55974          True  \n",
       "67106          True  \n",
       "\n",
       "[2 rows x 23 columns]"
      ]
     },
     "execution_count": 47,
     "metadata": {},
     "output_type": "execute_result"
    }
   ],
   "source": [
    "# checking the claim id\n",
    "train_data[\"is_duplicate\"]= train_data['sys_claimid'].duplicated()\n",
    "train_data[train_data[\"is_duplicate\"]==True]"
   ]
  },
  {
   "cell_type": "markdown",
   "metadata": {},
   "source": [
    "#### Finding - Two claim Ids are found with duplicates.\n",
    "#### Checking for the data for both of them."
   ]
  },
  {
   "cell_type": "code",
   "execution_count": 48,
   "metadata": {},
   "outputs": [
    {
     "data": {
      "text/html": [
       "<div>\n",
       "<style scoped>\n",
       "    .dataframe tbody tr th:only-of-type {\n",
       "        vertical-align: middle;\n",
       "    }\n",
       "\n",
       "    .dataframe tbody tr th {\n",
       "        vertical-align: top;\n",
       "    }\n",
       "\n",
       "    .dataframe thead th {\n",
       "        text-align: right;\n",
       "    }\n",
       "</style>\n",
       "<table border=\"1\" class=\"dataframe\">\n",
       "  <thead>\n",
       "    <tr style=\"text-align: right;\">\n",
       "      <th></th>\n",
       "      <th>sys_claimid</th>\n",
       "      <th>claim_amount_claimed_total</th>\n",
       "      <th>claim_causetype</th>\n",
       "      <th>claim_date_occurred</th>\n",
       "      <th>claim_date_reported</th>\n",
       "      <th>claim_location_urban_area</th>\n",
       "      <th>object_make</th>\n",
       "      <th>object_year_construction</th>\n",
       "      <th>ph_firstname</th>\n",
       "      <th>ph_gender</th>\n",
       "      <th>...</th>\n",
       "      <th>policy_profitability</th>\n",
       "      <th>len_claimid</th>\n",
       "      <th>new_claimid</th>\n",
       "      <th>ClaimID</th>\n",
       "      <th>Date_Occurred</th>\n",
       "      <th>claim_date_reported_new</th>\n",
       "      <th>diff_days_between_claim_occ_report</th>\n",
       "      <th>object_year_construction_new</th>\n",
       "      <th>claim_amount_claimed_total_new</th>\n",
       "      <th>is_duplicate</th>\n",
       "    </tr>\n",
       "  </thead>\n",
       "  <tbody>\n",
       "    <tr>\n",
       "      <th>7742</th>\n",
       "      <td>MTR-491813645-02</td>\n",
       "      <td>2252.0</td>\n",
       "      <td>Collision</td>\n",
       "      <td>20160711</td>\n",
       "      <td>2017-01-07</td>\n",
       "      <td>1</td>\n",
       "      <td>BMW</td>\n",
       "      <td>2012.0</td>\n",
       "      <td>Ariyona</td>\n",
       "      <td>F</td>\n",
       "      <td>...</td>\n",
       "      <td>Neutral</td>\n",
       "      <td>16</td>\n",
       "      <td>491813645</td>\n",
       "      <td>NaN</td>\n",
       "      <td>NaN</td>\n",
       "      <td>2017-01-07</td>\n",
       "      <td>180.0</td>\n",
       "      <td>2012.0</td>\n",
       "      <td>2252.0</td>\n",
       "      <td>False</td>\n",
       "    </tr>\n",
       "    <tr>\n",
       "      <th>15915</th>\n",
       "      <td>MTR-603112190-02</td>\n",
       "      <td>235.0</td>\n",
       "      <td>Collision</td>\n",
       "      <td>20150425</td>\n",
       "      <td>2015-05-17</td>\n",
       "      <td>1</td>\n",
       "      <td>CITROEN</td>\n",
       "      <td>2013.0</td>\n",
       "      <td>Jalen</td>\n",
       "      <td>L</td>\n",
       "      <td>...</td>\n",
       "      <td>Very low</td>\n",
       "      <td>16</td>\n",
       "      <td>603112190</td>\n",
       "      <td>NaN</td>\n",
       "      <td>NaN</td>\n",
       "      <td>2015-05-17</td>\n",
       "      <td>22.0</td>\n",
       "      <td>2013.0</td>\n",
       "      <td>235.0</td>\n",
       "      <td>False</td>\n",
       "    </tr>\n",
       "    <tr>\n",
       "      <th>55974</th>\n",
       "      <td>MTR-491813645-02</td>\n",
       "      <td>218.0</td>\n",
       "      <td>Weather</td>\n",
       "      <td>20121206</td>\n",
       "      <td>2012-12-16</td>\n",
       "      <td>0</td>\n",
       "      <td>CITROEN</td>\n",
       "      <td>2012.0</td>\n",
       "      <td>Yvette</td>\n",
       "      <td>F</td>\n",
       "      <td>...</td>\n",
       "      <td>High</td>\n",
       "      <td>16</td>\n",
       "      <td>491813645</td>\n",
       "      <td>NaN</td>\n",
       "      <td>NaN</td>\n",
       "      <td>2012-12-16</td>\n",
       "      <td>10.0</td>\n",
       "      <td>2012.0</td>\n",
       "      <td>218.0</td>\n",
       "      <td>True</td>\n",
       "    </tr>\n",
       "    <tr>\n",
       "      <th>67106</th>\n",
       "      <td>MTR-603112190-02</td>\n",
       "      <td>777.0</td>\n",
       "      <td>Collision</td>\n",
       "      <td>20160716</td>\n",
       "      <td>2016-07-18</td>\n",
       "      <td>0</td>\n",
       "      <td>CITROEN</td>\n",
       "      <td>2012.0</td>\n",
       "      <td>Jazmyn</td>\n",
       "      <td>F</td>\n",
       "      <td>...</td>\n",
       "      <td>Very low</td>\n",
       "      <td>16</td>\n",
       "      <td>603112190</td>\n",
       "      <td>NaN</td>\n",
       "      <td>NaN</td>\n",
       "      <td>2016-07-18</td>\n",
       "      <td>2.0</td>\n",
       "      <td>2012.0</td>\n",
       "      <td>777.0</td>\n",
       "      <td>True</td>\n",
       "    </tr>\n",
       "  </tbody>\n",
       "</table>\n",
       "<p>4 rows × 23 columns</p>\n",
       "</div>"
      ],
      "text/plain": [
       "            sys_claimid  claim_amount_claimed_total claim_causetype  \\\n",
       "7742   MTR-491813645-02                      2252.0       Collision   \n",
       "15915  MTR-603112190-02                       235.0       Collision   \n",
       "55974  MTR-491813645-02                       218.0         Weather   \n",
       "67106  MTR-603112190-02                       777.0       Collision   \n",
       "\n",
       "       claim_date_occurred claim_date_reported  claim_location_urban_area  \\\n",
       "7742              20160711          2017-01-07                          1   \n",
       "15915             20150425          2015-05-17                          1   \n",
       "55974             20121206          2012-12-16                          0   \n",
       "67106             20160716          2016-07-18                          0   \n",
       "\n",
       "      object_make  object_year_construction ph_firstname ph_gender  ...  \\\n",
       "7742          BMW                    2012.0      Ariyona         F  ...   \n",
       "15915     CITROEN                    2013.0        Jalen         L  ...   \n",
       "55974     CITROEN                    2012.0       Yvette         F  ...   \n",
       "67106     CITROEN                    2012.0       Jazmyn         F  ...   \n",
       "\n",
       "      policy_profitability  len_claimid  new_claimid ClaimID  Date_Occurred  \\\n",
       "7742               Neutral           16    491813645     NaN            NaN   \n",
       "15915             Very low           16    603112190     NaN            NaN   \n",
       "55974                 High           16    491813645     NaN            NaN   \n",
       "67106             Very low           16    603112190     NaN            NaN   \n",
       "\n",
       "      claim_date_reported_new diff_days_between_claim_occ_report  \\\n",
       "7742               2017-01-07                              180.0   \n",
       "15915              2015-05-17                               22.0   \n",
       "55974              2012-12-16                               10.0   \n",
       "67106              2016-07-18                                2.0   \n",
       "\n",
       "       object_year_construction_new claim_amount_claimed_total_new  \\\n",
       "7742                         2012.0                         2252.0   \n",
       "15915                        2013.0                          235.0   \n",
       "55974                        2012.0                          218.0   \n",
       "67106                        2012.0                          777.0   \n",
       "\n",
       "       is_duplicate  \n",
       "7742          False  \n",
       "15915         False  \n",
       "55974          True  \n",
       "67106          True  \n",
       "\n",
       "[4 rows x 23 columns]"
      ]
     },
     "execution_count": 48,
     "metadata": {},
     "output_type": "execute_result"
    }
   ],
   "source": [
    "#getting data for duplicate ids\n",
    "train_data[train_data[\"new_claimid\"].isin(['491813645','603112190'])]"
   ]
  },
  {
   "cell_type": "code",
   "execution_count": 49,
   "metadata": {},
   "outputs": [
    {
     "name": "stdout",
     "output_type": "stream",
     "text": [
      "Number of rows in train data before removing duplicate ids: 80000\n",
      "Number of rows in train data after removing duplicate ids: 79998\n"
     ]
    }
   ],
   "source": [
    "# For now,we keep the claim id with which the claim occured first\n",
    "train_data.sort_values(\"claim_date_occurred\", inplace = True) \n",
    "print(\"Number of rows in train data before removing duplicate ids:\", train_data.shape[0])\n",
    "train_data.drop_duplicates(['new_claimid'], keep = 'first', inplace = True) \n",
    "print(\"Number of rows in train data after removing duplicate ids:\", train_data.shape[0])"
   ]
  },
  {
   "cell_type": "markdown",
   "metadata": {},
   "source": [
    "------------------------------------------------------------------------------------------------------------"
   ]
  },
  {
   "cell_type": "markdown",
   "metadata": {},
   "source": [
    "#### 5.Checking weather both claim_amount_claimed_total & policy_insured_amount are greater than 0."
   ]
  },
  {
   "cell_type": "code",
   "execution_count": 50,
   "metadata": {},
   "outputs": [
    {
     "data": {
      "text/html": [
       "<div>\n",
       "<style scoped>\n",
       "    .dataframe tbody tr th:only-of-type {\n",
       "        vertical-align: middle;\n",
       "    }\n",
       "\n",
       "    .dataframe tbody tr th {\n",
       "        vertical-align: top;\n",
       "    }\n",
       "\n",
       "    .dataframe thead th {\n",
       "        text-align: right;\n",
       "    }\n",
       "</style>\n",
       "<table border=\"1\" class=\"dataframe\">\n",
       "  <thead>\n",
       "    <tr style=\"text-align: right;\">\n",
       "      <th></th>\n",
       "      <th>sys_claimid</th>\n",
       "      <th>claim_amount_claimed_total</th>\n",
       "      <th>claim_causetype</th>\n",
       "      <th>claim_date_occurred</th>\n",
       "      <th>claim_date_reported</th>\n",
       "      <th>claim_location_urban_area</th>\n",
       "      <th>object_make</th>\n",
       "      <th>object_year_construction</th>\n",
       "      <th>ph_firstname</th>\n",
       "      <th>ph_gender</th>\n",
       "      <th>...</th>\n",
       "      <th>policy_profitability</th>\n",
       "      <th>len_claimid</th>\n",
       "      <th>new_claimid</th>\n",
       "      <th>ClaimID</th>\n",
       "      <th>Date_Occurred</th>\n",
       "      <th>claim_date_reported_new</th>\n",
       "      <th>diff_days_between_claim_occ_report</th>\n",
       "      <th>object_year_construction_new</th>\n",
       "      <th>claim_amount_claimed_total_new</th>\n",
       "      <th>is_duplicate</th>\n",
       "    </tr>\n",
       "  </thead>\n",
       "  <tbody>\n",
       "  </tbody>\n",
       "</table>\n",
       "<p>0 rows × 23 columns</p>\n",
       "</div>"
      ],
      "text/plain": [
       "Empty DataFrame\n",
       "Columns: [sys_claimid, claim_amount_claimed_total, claim_causetype, claim_date_occurred, claim_date_reported, claim_location_urban_area, object_make, object_year_construction, ph_firstname, ph_gender, ph_name, policy_fleet_flag, policy_insured_amount, policy_profitability, len_claimid, new_claimid, ClaimID, Date_Occurred, claim_date_reported_new, diff_days_between_claim_occ_report, object_year_construction_new, claim_amount_claimed_total_new, is_duplicate]\n",
       "Index: []\n",
       "\n",
       "[0 rows x 23 columns]"
      ]
     },
     "execution_count": 50,
     "metadata": {},
     "output_type": "execute_result"
    }
   ],
   "source": [
    "## Checking the total claim amount\n",
    "train_data[train_data.claim_amount_claimed_total_new<=0]"
   ]
  },
  {
   "cell_type": "code",
   "execution_count": 51,
   "metadata": {},
   "outputs": [
    {
     "data": {
      "text/html": [
       "<div>\n",
       "<style scoped>\n",
       "    .dataframe tbody tr th:only-of-type {\n",
       "        vertical-align: middle;\n",
       "    }\n",
       "\n",
       "    .dataframe tbody tr th {\n",
       "        vertical-align: top;\n",
       "    }\n",
       "\n",
       "    .dataframe thead th {\n",
       "        text-align: right;\n",
       "    }\n",
       "</style>\n",
       "<table border=\"1\" class=\"dataframe\">\n",
       "  <thead>\n",
       "    <tr style=\"text-align: right;\">\n",
       "      <th></th>\n",
       "      <th>sys_claimid</th>\n",
       "      <th>claim_amount_claimed_total</th>\n",
       "      <th>claim_causetype</th>\n",
       "      <th>claim_date_occurred</th>\n",
       "      <th>claim_date_reported</th>\n",
       "      <th>claim_location_urban_area</th>\n",
       "      <th>object_make</th>\n",
       "      <th>object_year_construction</th>\n",
       "      <th>ph_firstname</th>\n",
       "      <th>ph_gender</th>\n",
       "      <th>...</th>\n",
       "      <th>policy_profitability</th>\n",
       "      <th>len_claimid</th>\n",
       "      <th>new_claimid</th>\n",
       "      <th>ClaimID</th>\n",
       "      <th>Date_Occurred</th>\n",
       "      <th>claim_date_reported_new</th>\n",
       "      <th>diff_days_between_claim_occ_report</th>\n",
       "      <th>object_year_construction_new</th>\n",
       "      <th>claim_amount_claimed_total_new</th>\n",
       "      <th>is_duplicate</th>\n",
       "    </tr>\n",
       "  </thead>\n",
       "  <tbody>\n",
       "  </tbody>\n",
       "</table>\n",
       "<p>0 rows × 23 columns</p>\n",
       "</div>"
      ],
      "text/plain": [
       "Empty DataFrame\n",
       "Columns: [sys_claimid, claim_amount_claimed_total, claim_causetype, claim_date_occurred, claim_date_reported, claim_location_urban_area, object_make, object_year_construction, ph_firstname, ph_gender, ph_name, policy_fleet_flag, policy_insured_amount, policy_profitability, len_claimid, new_claimid, ClaimID, Date_Occurred, claim_date_reported_new, diff_days_between_claim_occ_report, object_year_construction_new, claim_amount_claimed_total_new, is_duplicate]\n",
       "Index: []\n",
       "\n",
       "[0 rows x 23 columns]"
      ]
     },
     "execution_count": 51,
     "metadata": {},
     "output_type": "execute_result"
    }
   ],
   "source": [
    "## Checking the Policy insured amount\n",
    "train_data[train_data.policy_insured_amount<=0]"
   ]
  },
  {
   "cell_type": "markdown",
   "metadata": {},
   "source": [
    "## Feature Engineering to understand more about the data"
   ]
  },
  {
   "cell_type": "code",
   "execution_count": 52,
   "metadata": {},
   "outputs": [
    {
     "data": {
      "text/html": [
       "<div>\n",
       "<style scoped>\n",
       "    .dataframe tbody tr th:only-of-type {\n",
       "        vertical-align: middle;\n",
       "    }\n",
       "\n",
       "    .dataframe tbody tr th {\n",
       "        vertical-align: top;\n",
       "    }\n",
       "\n",
       "    .dataframe thead th {\n",
       "        text-align: right;\n",
       "    }\n",
       "</style>\n",
       "<table border=\"1\" class=\"dataframe\">\n",
       "  <thead>\n",
       "    <tr style=\"text-align: right;\">\n",
       "      <th></th>\n",
       "      <th>sys_claimid</th>\n",
       "      <th>claim_amount_claimed_total</th>\n",
       "      <th>claim_causetype</th>\n",
       "      <th>claim_date_occurred</th>\n",
       "      <th>claim_date_reported</th>\n",
       "      <th>claim_location_urban_area</th>\n",
       "      <th>object_make</th>\n",
       "      <th>object_year_construction</th>\n",
       "      <th>ph_firstname</th>\n",
       "      <th>ph_gender</th>\n",
       "      <th>...</th>\n",
       "      <th>len_claimid</th>\n",
       "      <th>new_claimid</th>\n",
       "      <th>ClaimID</th>\n",
       "      <th>Date_Occurred</th>\n",
       "      <th>claim_date_reported_new</th>\n",
       "      <th>diff_days_between_claim_occ_report</th>\n",
       "      <th>object_year_construction_new</th>\n",
       "      <th>claim_amount_claimed_total_new</th>\n",
       "      <th>is_duplicate</th>\n",
       "      <th>Age_of_vehicle</th>\n",
       "    </tr>\n",
       "  </thead>\n",
       "  <tbody>\n",
       "    <tr>\n",
       "      <th>8380</th>\n",
       "      <td>MTR-341919822-02</td>\n",
       "      <td>2263.0</td>\n",
       "      <td>Weather</td>\n",
       "      <td>20120701</td>\n",
       "      <td>2012-07-23</td>\n",
       "      <td>1</td>\n",
       "      <td>OTHER</td>\n",
       "      <td>2004.0</td>\n",
       "      <td>Mahmood</td>\n",
       "      <td>M</td>\n",
       "      <td>...</td>\n",
       "      <td>16</td>\n",
       "      <td>341919822</td>\n",
       "      <td>NaN</td>\n",
       "      <td>NaN</td>\n",
       "      <td>2012-07-23</td>\n",
       "      <td>22.0</td>\n",
       "      <td>2004.0</td>\n",
       "      <td>2263.0</td>\n",
       "      <td>False</td>\n",
       "      <td>8.0</td>\n",
       "    </tr>\n",
       "    <tr>\n",
       "      <th>65865</th>\n",
       "      <td>MTR-876039500-02</td>\n",
       "      <td>70.0</td>\n",
       "      <td>Collision</td>\n",
       "      <td>20120701</td>\n",
       "      <td>2012-07-01</td>\n",
       "      <td>0</td>\n",
       "      <td>VOLKSWAGEN</td>\n",
       "      <td>2011.0</td>\n",
       "      <td>Haifaaa</td>\n",
       "      <td>L</td>\n",
       "      <td>...</td>\n",
       "      <td>16</td>\n",
       "      <td>876039500</td>\n",
       "      <td>NaN</td>\n",
       "      <td>NaN</td>\n",
       "      <td>2012-07-01</td>\n",
       "      <td>0.0</td>\n",
       "      <td>2011.0</td>\n",
       "      <td>70.0</td>\n",
       "      <td>False</td>\n",
       "      <td>1.0</td>\n",
       "    </tr>\n",
       "    <tr>\n",
       "      <th>2113</th>\n",
       "      <td>MTR-573586408-02</td>\n",
       "      <td>653.0</td>\n",
       "      <td>Other</td>\n",
       "      <td>20120701</td>\n",
       "      <td>2012-07-21</td>\n",
       "      <td>0</td>\n",
       "      <td>AUDI</td>\n",
       "      <td>2002.0</td>\n",
       "      <td>Natacha</td>\n",
       "      <td>F</td>\n",
       "      <td>...</td>\n",
       "      <td>16</td>\n",
       "      <td>573586408</td>\n",
       "      <td>NaN</td>\n",
       "      <td>NaN</td>\n",
       "      <td>2012-07-21</td>\n",
       "      <td>20.0</td>\n",
       "      <td>2002.0</td>\n",
       "      <td>653.0</td>\n",
       "      <td>False</td>\n",
       "      <td>10.0</td>\n",
       "    </tr>\n",
       "    <tr>\n",
       "      <th>27671</th>\n",
       "      <td>MTR-144279619-02</td>\n",
       "      <td>9349.0</td>\n",
       "      <td>Collision</td>\n",
       "      <td>20120701</td>\n",
       "      <td>2012-07-01</td>\n",
       "      <td>1</td>\n",
       "      <td>RENAULT</td>\n",
       "      <td>2012.0</td>\n",
       "      <td>Amy</td>\n",
       "      <td>L</td>\n",
       "      <td>...</td>\n",
       "      <td>16</td>\n",
       "      <td>144279619</td>\n",
       "      <td>NaN</td>\n",
       "      <td>NaN</td>\n",
       "      <td>2012-07-01</td>\n",
       "      <td>0.0</td>\n",
       "      <td>2012.0</td>\n",
       "      <td>9349.0</td>\n",
       "      <td>False</td>\n",
       "      <td>0.0</td>\n",
       "    </tr>\n",
       "    <tr>\n",
       "      <th>13793</th>\n",
       "      <td>MTR-225054348-02</td>\n",
       "      <td>600.0</td>\n",
       "      <td>Theft</td>\n",
       "      <td>20120701</td>\n",
       "      <td>2012-07-15</td>\n",
       "      <td>0</td>\n",
       "      <td>CITROEN</td>\n",
       "      <td>2005.0</td>\n",
       "      <td>Triana</td>\n",
       "      <td>F</td>\n",
       "      <td>...</td>\n",
       "      <td>16</td>\n",
       "      <td>225054348</td>\n",
       "      <td>NaN</td>\n",
       "      <td>NaN</td>\n",
       "      <td>2012-07-15</td>\n",
       "      <td>14.0</td>\n",
       "      <td>2005.0</td>\n",
       "      <td>600.0</td>\n",
       "      <td>False</td>\n",
       "      <td>7.0</td>\n",
       "    </tr>\n",
       "  </tbody>\n",
       "</table>\n",
       "<p>5 rows × 24 columns</p>\n",
       "</div>"
      ],
      "text/plain": [
       "            sys_claimid  claim_amount_claimed_total claim_causetype  \\\n",
       "8380   MTR-341919822-02                      2263.0         Weather   \n",
       "65865  MTR-876039500-02                        70.0       Collision   \n",
       "2113   MTR-573586408-02                       653.0           Other   \n",
       "27671  MTR-144279619-02                      9349.0       Collision   \n",
       "13793  MTR-225054348-02                       600.0           Theft   \n",
       "\n",
       "       claim_date_occurred claim_date_reported  claim_location_urban_area  \\\n",
       "8380              20120701          2012-07-23                          1   \n",
       "65865             20120701          2012-07-01                          0   \n",
       "2113              20120701          2012-07-21                          0   \n",
       "27671             20120701          2012-07-01                          1   \n",
       "13793             20120701          2012-07-15                          0   \n",
       "\n",
       "      object_make  object_year_construction ph_firstname ph_gender  ...  \\\n",
       "8380        OTHER                    2004.0      Mahmood         M  ...   \n",
       "65865  VOLKSWAGEN                    2011.0      Haifaaa         L  ...   \n",
       "2113         AUDI                    2002.0      Natacha         F  ...   \n",
       "27671     RENAULT                    2012.0          Amy         L  ...   \n",
       "13793     CITROEN                    2005.0       Triana         F  ...   \n",
       "\n",
       "      len_claimid  new_claimid  ClaimID Date_Occurred  \\\n",
       "8380           16    341919822      NaN           NaN   \n",
       "65865          16    876039500      NaN           NaN   \n",
       "2113           16    573586408      NaN           NaN   \n",
       "27671          16    144279619      NaN           NaN   \n",
       "13793          16    225054348      NaN           NaN   \n",
       "\n",
       "       claim_date_reported_new diff_days_between_claim_occ_report  \\\n",
       "8380                2012-07-23                               22.0   \n",
       "65865               2012-07-01                                0.0   \n",
       "2113                2012-07-21                               20.0   \n",
       "27671               2012-07-01                                0.0   \n",
       "13793               2012-07-15                               14.0   \n",
       "\n",
       "      object_year_construction_new  claim_amount_claimed_total_new  \\\n",
       "8380                        2004.0                          2263.0   \n",
       "65865                       2011.0                            70.0   \n",
       "2113                        2002.0                           653.0   \n",
       "27671                       2012.0                          9349.0   \n",
       "13793                       2005.0                           600.0   \n",
       "\n",
       "      is_duplicate  Age_of_vehicle  \n",
       "8380         False             8.0  \n",
       "65865        False             1.0  \n",
       "2113         False            10.0  \n",
       "27671        False             0.0  \n",
       "13793        False             7.0  \n",
       "\n",
       "[5 rows x 24 columns]"
      ]
     },
     "execution_count": 52,
     "metadata": {},
     "output_type": "execute_result"
    }
   ],
   "source": [
    "# Age of vehicle when claim the occured(in years)\n",
    "train_data['Age_of_vehicle']= (pd.to_datetime(train_data.claim_date_occurred.astype(str), format='%Y%m%d').dt.year)-(train_data.object_year_construction_new)\n",
    "train_data.head()"
   ]
  },
  {
   "cell_type": "code",
   "execution_count": 53,
   "metadata": {},
   "outputs": [],
   "source": [
    "# Time since claim reported as of '20240809'(in years)\n",
    "train_data['time_since_claim']= (pd.to_datetime('20240809')  - pd.to_datetime(train_data.claim_date_occurred.astype(str), format='%Y%m%d'))/np.timedelta64(1,'Y') "
   ]
  },
  {
   "cell_type": "code",
   "execution_count": 54,
   "metadata": {},
   "outputs": [
    {
     "data": {
      "text/html": [
       "<div>\n",
       "<style scoped>\n",
       "    .dataframe tbody tr th:only-of-type {\n",
       "        vertical-align: middle;\n",
       "    }\n",
       "\n",
       "    .dataframe tbody tr th {\n",
       "        vertical-align: top;\n",
       "    }\n",
       "\n",
       "    .dataframe thead th {\n",
       "        text-align: right;\n",
       "    }\n",
       "</style>\n",
       "<table border=\"1\" class=\"dataframe\">\n",
       "  <thead>\n",
       "    <tr style=\"text-align: right;\">\n",
       "      <th></th>\n",
       "      <th>sys_claimid</th>\n",
       "      <th>claim_amount_claimed_total</th>\n",
       "      <th>claim_causetype</th>\n",
       "      <th>claim_date_occurred</th>\n",
       "      <th>claim_date_reported</th>\n",
       "      <th>claim_location_urban_area</th>\n",
       "      <th>object_make</th>\n",
       "      <th>object_year_construction</th>\n",
       "      <th>ph_firstname</th>\n",
       "      <th>ph_gender</th>\n",
       "      <th>...</th>\n",
       "      <th>new_claimid</th>\n",
       "      <th>ClaimID</th>\n",
       "      <th>Date_Occurred</th>\n",
       "      <th>claim_date_reported_new</th>\n",
       "      <th>diff_days_between_claim_occ_report</th>\n",
       "      <th>object_year_construction_new</th>\n",
       "      <th>claim_amount_claimed_total_new</th>\n",
       "      <th>is_duplicate</th>\n",
       "      <th>Age_of_vehicle</th>\n",
       "      <th>time_since_claim</th>\n",
       "    </tr>\n",
       "  </thead>\n",
       "  <tbody>\n",
       "    <tr>\n",
       "      <th>8380</th>\n",
       "      <td>MTR-341919822-02</td>\n",
       "      <td>2263.0</td>\n",
       "      <td>Weather</td>\n",
       "      <td>20120701</td>\n",
       "      <td>2012-07-23</td>\n",
       "      <td>1</td>\n",
       "      <td>OTHER</td>\n",
       "      <td>2004.0</td>\n",
       "      <td>Mahmood</td>\n",
       "      <td>M</td>\n",
       "      <td>...</td>\n",
       "      <td>341919822</td>\n",
       "      <td>NaN</td>\n",
       "      <td>NaN</td>\n",
       "      <td>2012-07-23</td>\n",
       "      <td>22.0</td>\n",
       "      <td>2004.0</td>\n",
       "      <td>2263.0</td>\n",
       "      <td>False</td>\n",
       "      <td>8.0</td>\n",
       "      <td>12.107025</td>\n",
       "    </tr>\n",
       "    <tr>\n",
       "      <th>65865</th>\n",
       "      <td>MTR-876039500-02</td>\n",
       "      <td>70.0</td>\n",
       "      <td>Collision</td>\n",
       "      <td>20120701</td>\n",
       "      <td>2012-07-01</td>\n",
       "      <td>0</td>\n",
       "      <td>VOLKSWAGEN</td>\n",
       "      <td>2011.0</td>\n",
       "      <td>Haifaaa</td>\n",
       "      <td>L</td>\n",
       "      <td>...</td>\n",
       "      <td>876039500</td>\n",
       "      <td>NaN</td>\n",
       "      <td>NaN</td>\n",
       "      <td>2012-07-01</td>\n",
       "      <td>0.0</td>\n",
       "      <td>2011.0</td>\n",
       "      <td>70.0</td>\n",
       "      <td>False</td>\n",
       "      <td>1.0</td>\n",
       "      <td>12.107025</td>\n",
       "    </tr>\n",
       "    <tr>\n",
       "      <th>2113</th>\n",
       "      <td>MTR-573586408-02</td>\n",
       "      <td>653.0</td>\n",
       "      <td>Other</td>\n",
       "      <td>20120701</td>\n",
       "      <td>2012-07-21</td>\n",
       "      <td>0</td>\n",
       "      <td>AUDI</td>\n",
       "      <td>2002.0</td>\n",
       "      <td>Natacha</td>\n",
       "      <td>F</td>\n",
       "      <td>...</td>\n",
       "      <td>573586408</td>\n",
       "      <td>NaN</td>\n",
       "      <td>NaN</td>\n",
       "      <td>2012-07-21</td>\n",
       "      <td>20.0</td>\n",
       "      <td>2002.0</td>\n",
       "      <td>653.0</td>\n",
       "      <td>False</td>\n",
       "      <td>10.0</td>\n",
       "      <td>12.107025</td>\n",
       "    </tr>\n",
       "    <tr>\n",
       "      <th>27671</th>\n",
       "      <td>MTR-144279619-02</td>\n",
       "      <td>9349.0</td>\n",
       "      <td>Collision</td>\n",
       "      <td>20120701</td>\n",
       "      <td>2012-07-01</td>\n",
       "      <td>1</td>\n",
       "      <td>RENAULT</td>\n",
       "      <td>2012.0</td>\n",
       "      <td>Amy</td>\n",
       "      <td>L</td>\n",
       "      <td>...</td>\n",
       "      <td>144279619</td>\n",
       "      <td>NaN</td>\n",
       "      <td>NaN</td>\n",
       "      <td>2012-07-01</td>\n",
       "      <td>0.0</td>\n",
       "      <td>2012.0</td>\n",
       "      <td>9349.0</td>\n",
       "      <td>False</td>\n",
       "      <td>0.0</td>\n",
       "      <td>12.107025</td>\n",
       "    </tr>\n",
       "    <tr>\n",
       "      <th>13793</th>\n",
       "      <td>MTR-225054348-02</td>\n",
       "      <td>600.0</td>\n",
       "      <td>Theft</td>\n",
       "      <td>20120701</td>\n",
       "      <td>2012-07-15</td>\n",
       "      <td>0</td>\n",
       "      <td>CITROEN</td>\n",
       "      <td>2005.0</td>\n",
       "      <td>Triana</td>\n",
       "      <td>F</td>\n",
       "      <td>...</td>\n",
       "      <td>225054348</td>\n",
       "      <td>NaN</td>\n",
       "      <td>NaN</td>\n",
       "      <td>2012-07-15</td>\n",
       "      <td>14.0</td>\n",
       "      <td>2005.0</td>\n",
       "      <td>600.0</td>\n",
       "      <td>False</td>\n",
       "      <td>7.0</td>\n",
       "      <td>12.107025</td>\n",
       "    </tr>\n",
       "  </tbody>\n",
       "</table>\n",
       "<p>5 rows × 25 columns</p>\n",
       "</div>"
      ],
      "text/plain": [
       "            sys_claimid  claim_amount_claimed_total claim_causetype  \\\n",
       "8380   MTR-341919822-02                      2263.0         Weather   \n",
       "65865  MTR-876039500-02                        70.0       Collision   \n",
       "2113   MTR-573586408-02                       653.0           Other   \n",
       "27671  MTR-144279619-02                      9349.0       Collision   \n",
       "13793  MTR-225054348-02                       600.0           Theft   \n",
       "\n",
       "       claim_date_occurred claim_date_reported  claim_location_urban_area  \\\n",
       "8380              20120701          2012-07-23                          1   \n",
       "65865             20120701          2012-07-01                          0   \n",
       "2113              20120701          2012-07-21                          0   \n",
       "27671             20120701          2012-07-01                          1   \n",
       "13793             20120701          2012-07-15                          0   \n",
       "\n",
       "      object_make  object_year_construction ph_firstname ph_gender  ...  \\\n",
       "8380        OTHER                    2004.0      Mahmood         M  ...   \n",
       "65865  VOLKSWAGEN                    2011.0      Haifaaa         L  ...   \n",
       "2113         AUDI                    2002.0      Natacha         F  ...   \n",
       "27671     RENAULT                    2012.0          Amy         L  ...   \n",
       "13793     CITROEN                    2005.0       Triana         F  ...   \n",
       "\n",
       "      new_claimid  ClaimID  Date_Occurred claim_date_reported_new  \\\n",
       "8380    341919822      NaN            NaN              2012-07-23   \n",
       "65865   876039500      NaN            NaN              2012-07-01   \n",
       "2113    573586408      NaN            NaN              2012-07-21   \n",
       "27671   144279619      NaN            NaN              2012-07-01   \n",
       "13793   225054348      NaN            NaN              2012-07-15   \n",
       "\n",
       "       diff_days_between_claim_occ_report object_year_construction_new  \\\n",
       "8380                                 22.0                       2004.0   \n",
       "65865                                 0.0                       2011.0   \n",
       "2113                                 20.0                       2002.0   \n",
       "27671                                 0.0                       2012.0   \n",
       "13793                                14.0                       2005.0   \n",
       "\n",
       "      claim_amount_claimed_total_new  is_duplicate Age_of_vehicle  \\\n",
       "8380                          2263.0         False            8.0   \n",
       "65865                           70.0         False            1.0   \n",
       "2113                           653.0         False           10.0   \n",
       "27671                         9349.0         False            0.0   \n",
       "13793                          600.0         False            7.0   \n",
       "\n",
       "       time_since_claim  \n",
       "8380          12.107025  \n",
       "65865         12.107025  \n",
       "2113          12.107025  \n",
       "27671         12.107025  \n",
       "13793         12.107025  \n",
       "\n",
       "[5 rows x 25 columns]"
      ]
     },
     "execution_count": 54,
     "metadata": {},
     "output_type": "execute_result"
    }
   ],
   "source": [
    "train_data.head()"
   ]
  },
  {
   "cell_type": "markdown",
   "metadata": {},
   "source": [
    "### Creating Target Variable"
   ]
  },
  {
   "cell_type": "code",
   "execution_count": 55,
   "metadata": {},
   "outputs": [
    {
     "data": {
      "text/plain": [
       "0    99.231231\n",
       "1     0.768769\n",
       "Name: label, dtype: float64"
      ]
     },
     "execution_count": 55,
     "metadata": {},
     "output_type": "execute_result"
    }
   ],
   "source": [
    "# creating label column in the train dataset\n",
    "train_data['label']= np.where(train_data.new_claimid.isin(train_data.ClaimID),1,0)\n",
    "train_data['label'].value_counts() * 100 /len(train_data)\n",
    "# current fraud rate is .76%"
   ]
  },
  {
   "cell_type": "code",
   "execution_count": 56,
   "metadata": {},
   "outputs": [
    {
     "data": {
      "text/plain": [
       "Index(['sys_claimid', 'claim_amount_claimed_total', 'claim_causetype',\n",
       "       'claim_date_occurred', 'claim_date_reported',\n",
       "       'claim_location_urban_area', 'object_make', 'object_year_construction',\n",
       "       'ph_firstname', 'ph_gender', 'ph_name', 'policy_fleet_flag',\n",
       "       'policy_insured_amount', 'policy_profitability', 'len_claimid',\n",
       "       'new_claimid', 'ClaimID', 'Date_Occurred', 'claim_date_reported_new',\n",
       "       'diff_days_between_claim_occ_report', 'object_year_construction_new',\n",
       "       'claim_amount_claimed_total_new', 'is_duplicate', 'Age_of_vehicle',\n",
       "       'time_since_claim', 'label'],\n",
       "      dtype='object')"
      ]
     },
     "execution_count": 56,
     "metadata": {},
     "output_type": "execute_result"
    }
   ],
   "source": [
    "train_data.columns"
   ]
  },
  {
   "cell_type": "code",
   "execution_count": 57,
   "metadata": {},
   "outputs": [],
   "source": [
    "### Dropping columns for the model\n",
    "drop_col = ['claim_amount_claimed_total', 'claim_date_occurred', 'claim_date_reported','object_year_construction',\n",
    "'new_claimid','ClaimID', 'Date_Occurred','claim_date_reported_new','object_year_construction_new']\n",
    "train_data.drop(columns=drop_col, axis = 1,inplace=True)"
   ]
  },
  {
   "cell_type": "code",
   "execution_count": 58,
   "metadata": {},
   "outputs": [
    {
     "data": {
      "text/plain": [
       "(79998, 17)"
      ]
     },
     "execution_count": 58,
     "metadata": {},
     "output_type": "execute_result"
    }
   ],
   "source": [
    "train_data.shape"
   ]
  },
  {
   "cell_type": "code",
   "execution_count": 59,
   "metadata": {},
   "outputs": [
    {
     "name": "stdout",
     "output_type": "stream",
     "text": [
      "<class 'pandas.core.frame.DataFrame'>\n",
      "Int64Index: 79998 entries, 8380 to 62711\n",
      "Data columns (total 17 columns):\n",
      " #   Column                              Non-Null Count  Dtype  \n",
      "---  ------                              --------------  -----  \n",
      " 0   sys_claimid                         79998 non-null  object \n",
      " 1   claim_causetype                     79996 non-null  object \n",
      " 2   claim_location_urban_area           79998 non-null  int64  \n",
      " 3   object_make                         79998 non-null  object \n",
      " 4   ph_firstname                        79998 non-null  object \n",
      " 5   ph_gender                           79200 non-null  object \n",
      " 6   ph_name                             79998 non-null  object \n",
      " 7   policy_fleet_flag                   79998 non-null  int64  \n",
      " 8   policy_insured_amount               49179 non-null  float64\n",
      " 9   policy_profitability                79998 non-null  object \n",
      " 10  len_claimid                         79998 non-null  int64  \n",
      " 11  diff_days_between_claim_occ_report  79998 non-null  float64\n",
      " 12  claim_amount_claimed_total_new      79998 non-null  float64\n",
      " 13  is_duplicate                        79998 non-null  bool   \n",
      " 14  Age_of_vehicle                      79998 non-null  float64\n",
      " 15  time_since_claim                    79998 non-null  float64\n",
      " 16  label                               79998 non-null  int64  \n",
      "dtypes: bool(1), float64(5), int64(4), object(7)\n",
      "memory usage: 10.5+ MB\n"
     ]
    }
   ],
   "source": [
    "## Checking the datatypes \n",
    "train_data.info()"
   ]
  },
  {
   "cell_type": "code",
   "execution_count": 60,
   "metadata": {},
   "outputs": [
    {
     "data": {
      "text/plain": [
       "sys_claimid                            0.000000\n",
       "claim_causetype                        0.002500\n",
       "claim_location_urban_area              0.000000\n",
       "object_make                            0.000000\n",
       "ph_firstname                           0.000000\n",
       "ph_gender                              0.997525\n",
       "ph_name                                0.000000\n",
       "policy_fleet_flag                      0.000000\n",
       "policy_insured_amount                 38.524713\n",
       "policy_profitability                   0.000000\n",
       "len_claimid                            0.000000\n",
       "diff_days_between_claim_occ_report     0.000000\n",
       "claim_amount_claimed_total_new         0.000000\n",
       "is_duplicate                           0.000000\n",
       "Age_of_vehicle                         0.000000\n",
       "time_since_claim                       0.000000\n",
       "label                                  0.000000\n",
       "dtype: float64"
      ]
     },
     "execution_count": 60,
     "metadata": {},
     "output_type": "execute_result"
    }
   ],
   "source": [
    "## Finding the null percentage\n",
    "train_data.isna().sum()*100/len(train_data)"
   ]
  },
  {
   "cell_type": "markdown",
   "metadata": {},
   "source": [
    "## Exploratory Data Analysis using the target variable"
   ]
  },
  {
   "cell_type": "code",
   "execution_count": 61,
   "metadata": {},
   "outputs": [],
   "source": [
    "#creating a fraud flag\n",
    "train_data[\"Fraud\"] = np.where(train_data.label==1,\"Fraud\",\"Non_fraud\")"
   ]
  },
  {
   "cell_type": "code",
   "execution_count": 62,
   "metadata": {},
   "outputs": [],
   "source": [
    "# Defining a function to create plots based on the fraud \n",
    "# first - stacked bar\n",
    "def count_stack_bar(df,column):\n",
    "    df1=df\n",
    "    df1[column].fillna(\"missing\",inplace=True)\n",
    "    df2 = df1.pivot_table(index='Fraud', columns=column, values='sys_claimid',aggfunc='count')\n",
    "    df2.T.plot(kind='bar', stacked=True, rot=1, figsize=(10, 5), \n",
    "                   title= (column + \" Vs Fraud\"))\n",
    "    plt.show()"
   ]
  },
  {
   "cell_type": "markdown",
   "metadata": {},
   "source": [
    "#### Claim_cause_type"
   ]
  },
  {
   "cell_type": "code",
   "execution_count": 63,
   "metadata": {},
   "outputs": [
    {
     "data": {
      "image/png": "[encoded data removed]",
      "text/plain": [
       "<Figure size 720x360 with 1 Axes>"
      ]
     },
     "metadata": {},
     "output_type": "display_data"
    }
   ],
   "source": [
    "count_stack_bar(train_data ,'claim_causetype')"
   ]
  },
  {
   "cell_type": "code",
   "execution_count": 64,
   "metadata": {},
   "outputs": [
    {
     "data": {
      "text/html": [
       "<div>\n",
       "<style scoped>\n",
       "    .dataframe tbody tr th:only-of-type {\n",
       "        vertical-align: middle;\n",
       "    }\n",
       "\n",
       "    .dataframe tbody tr th {\n",
       "        vertical-align: top;\n",
       "    }\n",
       "\n",
       "    .dataframe thead th {\n",
       "        text-align: right;\n",
       "    }\n",
       "</style>\n",
       "<table border=\"1\" class=\"dataframe\">\n",
       "  <thead>\n",
       "    <tr style=\"text-align: right;\">\n",
       "      <th></th>\n",
       "      <th>claim_causetype</th>\n",
       "      <th>total_customers</th>\n",
       "      <th>total_fraud_customers</th>\n",
       "      <th>fraud_perc</th>\n",
       "    </tr>\n",
       "  </thead>\n",
       "  <tbody>\n",
       "    <tr>\n",
       "      <th>1</th>\n",
       "      <td>Collision</td>\n",
       "      <td>48953</td>\n",
       "      <td>352</td>\n",
       "      <td>0.719057</td>\n",
       "    </tr>\n",
       "    <tr>\n",
       "      <th>2</th>\n",
       "      <td>Other</td>\n",
       "      <td>15662</td>\n",
       "      <td>122</td>\n",
       "      <td>0.778955</td>\n",
       "    </tr>\n",
       "    <tr>\n",
       "      <th>4</th>\n",
       "      <td>Weather</td>\n",
       "      <td>7693</td>\n",
       "      <td>60</td>\n",
       "      <td>0.779930</td>\n",
       "    </tr>\n",
       "    <tr>\n",
       "      <th>0</th>\n",
       "      <td>Animals</td>\n",
       "      <td>4654</td>\n",
       "      <td>29</td>\n",
       "      <td>0.623120</td>\n",
       "    </tr>\n",
       "    <tr>\n",
       "      <th>3</th>\n",
       "      <td>Theft</td>\n",
       "      <td>3034</td>\n",
       "      <td>52</td>\n",
       "      <td>1.713909</td>\n",
       "    </tr>\n",
       "    <tr>\n",
       "      <th>5</th>\n",
       "      <td>missing</td>\n",
       "      <td>2</td>\n",
       "      <td>0</td>\n",
       "      <td>0.000000</td>\n",
       "    </tr>\n",
       "  </tbody>\n",
       "</table>\n",
       "</div>"
      ],
      "text/plain": [
       "  claim_causetype  total_customers  total_fraud_customers  fraud_perc\n",
       "1       Collision            48953                    352    0.719057\n",
       "2           Other            15662                    122    0.778955\n",
       "4         Weather             7693                     60    0.779930\n",
       "0         Animals             4654                     29    0.623120\n",
       "3           Theft             3034                     52    1.713909\n",
       "5         missing                2                      0    0.000000"
      ]
     },
     "execution_count": 64,
     "metadata": {},
     "output_type": "execute_result"
    }
   ],
   "source": [
    "## Using group by to show the precentage of the fraud in claim_causetype column\n",
    "df =train_data.groupby(['claim_causetype']).agg(total_customers=('sys_claimid','nunique'),total_fraud_customers=(\"label\",\"sum\")).reset_index()\n",
    "df[\"fraud_perc\"]=(df['total_fraud_customers']/df['total_customers'])*100\n",
    "df1 =df.sort_values('total_customers',ascending=False)\n",
    "df1"
   ]
  },
  {
   "cell_type": "code",
   "execution_count": 65,
   "metadata": {},
   "outputs": [],
   "source": [
    "## The highest percentage of fraud happening is in theft"
   ]
  },
  {
   "cell_type": "markdown",
   "metadata": {},
   "source": [
    "#### Object_make"
   ]
  },
  {
   "cell_type": "code",
   "execution_count": 66,
   "metadata": {},
   "outputs": [
    {
     "data": {
      "image/png": "[encoded data removed]",
      "text/plain": [
       "<Figure size 720x360 with 1 Axes>"
      ]
     },
     "metadata": {},
     "output_type": "display_data"
    }
   ],
   "source": [
    "count_stack_bar(train_data ,'object_make')"
   ]
  },
  {
   "cell_type": "code",
   "execution_count": 67,
   "metadata": {},
   "outputs": [
    {
     "data": {
      "text/html": [
       "<div>\n",
       "<style scoped>\n",
       "    .dataframe tbody tr th:only-of-type {\n",
       "        vertical-align: middle;\n",
       "    }\n",
       "\n",
       "    .dataframe tbody tr th {\n",
       "        vertical-align: top;\n",
       "    }\n",
       "\n",
       "    .dataframe thead th {\n",
       "        text-align: right;\n",
       "    }\n",
       "</style>\n",
       "<table border=\"1\" class=\"dataframe\">\n",
       "  <thead>\n",
       "    <tr style=\"text-align: right;\">\n",
       "      <th></th>\n",
       "      <th>object_make</th>\n",
       "      <th>total_customers</th>\n",
       "      <th>total_fraud_customers</th>\n",
       "      <th>fraud_perc</th>\n",
       "    </tr>\n",
       "  </thead>\n",
       "  <tbody>\n",
       "    <tr>\n",
       "      <th>6</th>\n",
       "      <td>VOLKSWAGEN</td>\n",
       "      <td>24917</td>\n",
       "      <td>139</td>\n",
       "      <td>0.557852</td>\n",
       "    </tr>\n",
       "    <tr>\n",
       "      <th>3</th>\n",
       "      <td>OPEL</td>\n",
       "      <td>17237</td>\n",
       "      <td>144</td>\n",
       "      <td>0.835412</td>\n",
       "    </tr>\n",
       "    <tr>\n",
       "      <th>2</th>\n",
       "      <td>CITROEN</td>\n",
       "      <td>8520</td>\n",
       "      <td>60</td>\n",
       "      <td>0.704225</td>\n",
       "    </tr>\n",
       "    <tr>\n",
       "      <th>1</th>\n",
       "      <td>BMW</td>\n",
       "      <td>8068</td>\n",
       "      <td>79</td>\n",
       "      <td>0.979177</td>\n",
       "    </tr>\n",
       "    <tr>\n",
       "      <th>4</th>\n",
       "      <td>OTHER</td>\n",
       "      <td>8007</td>\n",
       "      <td>61</td>\n",
       "      <td>0.761833</td>\n",
       "    </tr>\n",
       "    <tr>\n",
       "      <th>5</th>\n",
       "      <td>RENAULT</td>\n",
       "      <td>7788</td>\n",
       "      <td>59</td>\n",
       "      <td>0.757576</td>\n",
       "    </tr>\n",
       "    <tr>\n",
       "      <th>0</th>\n",
       "      <td>AUDI</td>\n",
       "      <td>5461</td>\n",
       "      <td>73</td>\n",
       "      <td>1.336752</td>\n",
       "    </tr>\n",
       "  </tbody>\n",
       "</table>\n",
       "</div>"
      ],
      "text/plain": [
       "  object_make  total_customers  total_fraud_customers  fraud_perc\n",
       "6  VOLKSWAGEN            24917                    139    0.557852\n",
       "3        OPEL            17237                    144    0.835412\n",
       "2     CITROEN             8520                     60    0.704225\n",
       "1         BMW             8068                     79    0.979177\n",
       "4       OTHER             8007                     61    0.761833\n",
       "5     RENAULT             7788                     59    0.757576\n",
       "0        AUDI             5461                     73    1.336752"
      ]
     },
     "execution_count": 67,
     "metadata": {},
     "output_type": "execute_result"
    }
   ],
   "source": [
    "df =train_data.groupby(['object_make']).agg(total_customers=('sys_claimid','nunique'),total_fraud_customers=(\"label\",\"sum\")).reset_index()\n",
    "df[\"fraud_perc\"]=100*(df['total_fraud_customers']/df['total_customers'])\n",
    "df1 =df.sort_values('total_customers',ascending=False)\n",
    "df1"
   ]
  },
  {
   "cell_type": "code",
   "execution_count": 68,
   "metadata": {},
   "outputs": [],
   "source": [
    "## Highest percentage of fraud is in high end cars like AUDI and BMW"
   ]
  },
  {
   "cell_type": "markdown",
   "metadata": {},
   "source": [
    "#### Gender"
   ]
  },
  {
   "cell_type": "code",
   "execution_count": 69,
   "metadata": {},
   "outputs": [
    {
     "data": {
      "image/png": "[encoded data removed]",
      "text/plain": [
       "<Figure size 720x360 with 1 Axes>"
      ]
     },
     "metadata": {},
     "output_type": "display_data"
    }
   ],
   "source": [
    "count_stack_bar(train_data ,'ph_gender')"
   ]
  },
  {
   "cell_type": "code",
   "execution_count": 70,
   "metadata": {},
   "outputs": [
    {
     "data": {
      "text/html": [
       "<div>\n",
       "<style scoped>\n",
       "    .dataframe tbody tr th:only-of-type {\n",
       "        vertical-align: middle;\n",
       "    }\n",
       "\n",
       "    .dataframe tbody tr th {\n",
       "        vertical-align: top;\n",
       "    }\n",
       "\n",
       "    .dataframe thead th {\n",
       "        text-align: right;\n",
       "    }\n",
       "</style>\n",
       "<table border=\"1\" class=\"dataframe\">\n",
       "  <thead>\n",
       "    <tr style=\"text-align: right;\">\n",
       "      <th></th>\n",
       "      <th>ph_gender</th>\n",
       "      <th>total_customers</th>\n",
       "      <th>total_fraud_customers</th>\n",
       "      <th>fraud_perc</th>\n",
       "    </tr>\n",
       "  </thead>\n",
       "  <tbody>\n",
       "    <tr>\n",
       "      <th>0</th>\n",
       "      <td>F</td>\n",
       "      <td>28237</td>\n",
       "      <td>236</td>\n",
       "      <td>0.835783</td>\n",
       "    </tr>\n",
       "    <tr>\n",
       "      <th>2</th>\n",
       "      <td>M</td>\n",
       "      <td>28047</td>\n",
       "      <td>210</td>\n",
       "      <td>0.748743</td>\n",
       "    </tr>\n",
       "    <tr>\n",
       "      <th>1</th>\n",
       "      <td>L</td>\n",
       "      <td>22916</td>\n",
       "      <td>165</td>\n",
       "      <td>0.720021</td>\n",
       "    </tr>\n",
       "    <tr>\n",
       "      <th>3</th>\n",
       "      <td>missing</td>\n",
       "      <td>798</td>\n",
       "      <td>4</td>\n",
       "      <td>0.501253</td>\n",
       "    </tr>\n",
       "  </tbody>\n",
       "</table>\n",
       "</div>"
      ],
      "text/plain": [
       "  ph_gender  total_customers  total_fraud_customers  fraud_perc\n",
       "0         F            28237                    236    0.835783\n",
       "2         M            28047                    210    0.748743\n",
       "1         L            22916                    165    0.720021\n",
       "3   missing              798                      4    0.501253"
      ]
     },
     "execution_count": 70,
     "metadata": {},
     "output_type": "execute_result"
    }
   ],
   "source": [
    "df =train_data.groupby(['ph_gender']).agg(total_customers=('sys_claimid','nunique'),total_fraud_customers=(\"label\",\"sum\")).reset_index()\n",
    "df[\"fraud_perc\"]=100*(df['total_fraud_customers']/df['total_customers'])\n",
    "df1 =df.sort_values('total_customers',ascending=False)\n",
    "df1"
   ]
  },
  {
   "cell_type": "code",
   "execution_count": 71,
   "metadata": {},
   "outputs": [],
   "source": [
    "### The highest percentage of fraud is with Female customers"
   ]
  },
  {
   "cell_type": "markdown",
   "metadata": {},
   "source": [
    "#### Policy_fleet_flag"
   ]
  },
  {
   "cell_type": "code",
   "execution_count": 72,
   "metadata": {},
   "outputs": [
    {
     "data": {
      "image/png": "[encoded data removed]",
      "text/plain": [
       "<Figure size 720x360 with 1 Axes>"
      ]
     },
     "metadata": {},
     "output_type": "display_data"
    }
   ],
   "source": [
    "count_stack_bar(train_data ,'policy_fleet_flag')"
   ]
  },
  {
   "cell_type": "code",
   "execution_count": 73,
   "metadata": {},
   "outputs": [
    {
     "data": {
      "text/html": [
       "<div>\n",
       "<style scoped>\n",
       "    .dataframe tbody tr th:only-of-type {\n",
       "        vertical-align: middle;\n",
       "    }\n",
       "\n",
       "    .dataframe tbody tr th {\n",
       "        vertical-align: top;\n",
       "    }\n",
       "\n",
       "    .dataframe thead th {\n",
       "        text-align: right;\n",
       "    }\n",
       "</style>\n",
       "<table border=\"1\" class=\"dataframe\">\n",
       "  <thead>\n",
       "    <tr style=\"text-align: right;\">\n",
       "      <th></th>\n",
       "      <th>policy_fleet_flag</th>\n",
       "      <th>total_customers</th>\n",
       "      <th>total_fraud_customers</th>\n",
       "      <th>fraud_perc</th>\n",
       "    </tr>\n",
       "  </thead>\n",
       "  <tbody>\n",
       "    <tr>\n",
       "      <th>0</th>\n",
       "      <td>0</td>\n",
       "      <td>54280</td>\n",
       "      <td>484</td>\n",
       "      <td>0.891673</td>\n",
       "    </tr>\n",
       "    <tr>\n",
       "      <th>1</th>\n",
       "      <td>1</td>\n",
       "      <td>25718</td>\n",
       "      <td>131</td>\n",
       "      <td>0.509371</td>\n",
       "    </tr>\n",
       "  </tbody>\n",
       "</table>\n",
       "</div>"
      ],
      "text/plain": [
       "   policy_fleet_flag  total_customers  total_fraud_customers  fraud_perc\n",
       "0                  0            54280                    484    0.891673\n",
       "1                  1            25718                    131    0.509371"
      ]
     },
     "execution_count": 73,
     "metadata": {},
     "output_type": "execute_result"
    }
   ],
   "source": [
    "df =train_data.groupby(['policy_fleet_flag']).agg(total_customers=('sys_claimid','nunique'),total_fraud_customers=(\"label\",\"sum\")).reset_index()\n",
    "df[\"fraud_perc\"]=100*(df['total_fraud_customers']/df['total_customers'])\n",
    "df1 =df.sort_values('total_customers',ascending=False)\n",
    "df1"
   ]
  },
  {
   "cell_type": "code",
   "execution_count": 74,
   "metadata": {},
   "outputs": [],
   "source": [
    "### Fraud percentage is higher in non fleet customers (Individual Customer)"
   ]
  },
  {
   "cell_type": "markdown",
   "metadata": {},
   "source": [
    "#### Policy_profitability"
   ]
  },
  {
   "cell_type": "code",
   "execution_count": 75,
   "metadata": {},
   "outputs": [
    {
     "data": {
      "image/png": "[encoded data removed]",
      "text/plain": [
       "<Figure size 720x360 with 1 Axes>"
      ]
     },
     "metadata": {},
     "output_type": "display_data"
    }
   ],
   "source": [
    "count_stack_bar(train_data,'policy_profitability')"
   ]
  },
  {
   "cell_type": "code",
   "execution_count": 76,
   "metadata": {},
   "outputs": [
    {
     "data": {
      "text/html": [
       "<div>\n",
       "<style scoped>\n",
       "    .dataframe tbody tr th:only-of-type {\n",
       "        vertical-align: middle;\n",
       "    }\n",
       "\n",
       "    .dataframe tbody tr th {\n",
       "        vertical-align: top;\n",
       "    }\n",
       "\n",
       "    .dataframe thead th {\n",
       "        text-align: right;\n",
       "    }\n",
       "</style>\n",
       "<table border=\"1\" class=\"dataframe\">\n",
       "  <thead>\n",
       "    <tr style=\"text-align: right;\">\n",
       "      <th></th>\n",
       "      <th>policy_profitability</th>\n",
       "      <th>total_customers</th>\n",
       "      <th>total_fraud_customers</th>\n",
       "      <th>fraud_perc</th>\n",
       "    </tr>\n",
       "  </thead>\n",
       "  <tbody>\n",
       "    <tr>\n",
       "      <th>4</th>\n",
       "      <td>Very low</td>\n",
       "      <td>17528</td>\n",
       "      <td>137</td>\n",
       "      <td>0.781607</td>\n",
       "    </tr>\n",
       "    <tr>\n",
       "      <th>1</th>\n",
       "      <td>Low</td>\n",
       "      <td>16817</td>\n",
       "      <td>141</td>\n",
       "      <td>0.838437</td>\n",
       "    </tr>\n",
       "    <tr>\n",
       "      <th>2</th>\n",
       "      <td>Neutral</td>\n",
       "      <td>15865</td>\n",
       "      <td>130</td>\n",
       "      <td>0.819414</td>\n",
       "    </tr>\n",
       "    <tr>\n",
       "      <th>0</th>\n",
       "      <td>High</td>\n",
       "      <td>15288</td>\n",
       "      <td>108</td>\n",
       "      <td>0.706436</td>\n",
       "    </tr>\n",
       "    <tr>\n",
       "      <th>3</th>\n",
       "      <td>Very high</td>\n",
       "      <td>14500</td>\n",
       "      <td>99</td>\n",
       "      <td>0.682759</td>\n",
       "    </tr>\n",
       "  </tbody>\n",
       "</table>\n",
       "</div>"
      ],
      "text/plain": [
       "  policy_profitability  total_customers  total_fraud_customers  fraud_perc\n",
       "4             Very low            17528                    137    0.781607\n",
       "1                  Low            16817                    141    0.838437\n",
       "2              Neutral            15865                    130    0.819414\n",
       "0                 High            15288                    108    0.706436\n",
       "3            Very high            14500                     99    0.682759"
      ]
     },
     "execution_count": 76,
     "metadata": {},
     "output_type": "execute_result"
    }
   ],
   "source": [
    "df =train_data.groupby(['policy_profitability']).agg(total_customers=('sys_claimid','nunique'),total_fraud_customers=(\"label\",\"sum\")).reset_index()\n",
    "df[\"fraud_perc\"]=100*(df['total_fraud_customers']/df['total_customers'])\n",
    "df1 =df.sort_values('total_customers',ascending=False)\n",
    "df1"
   ]
  },
  {
   "cell_type": "code",
   "execution_count": 77,
   "metadata": {},
   "outputs": [],
   "source": [
    "## Fraud percentage is higher when the profit is low"
   ]
  },
  {
   "cell_type": "markdown",
   "metadata": {},
   "source": [
    "#### Claim_location_urban_area"
   ]
  },
  {
   "cell_type": "code",
   "execution_count": 78,
   "metadata": {},
   "outputs": [
    {
     "data": {
      "image/png": "[encoded data removed]",
      "text/plain": [
       "<Figure size 720x360 with 1 Axes>"
      ]
     },
     "metadata": {},
     "output_type": "display_data"
    }
   ],
   "source": [
    "count_stack_bar(train_data,'claim_location_urban_area')"
   ]
  },
  {
   "cell_type": "code",
   "execution_count": 79,
   "metadata": {},
   "outputs": [
    {
     "data": {
      "text/html": [
       "<div>\n",
       "<style scoped>\n",
       "    .dataframe tbody tr th:only-of-type {\n",
       "        vertical-align: middle;\n",
       "    }\n",
       "\n",
       "    .dataframe tbody tr th {\n",
       "        vertical-align: top;\n",
       "    }\n",
       "\n",
       "    .dataframe thead th {\n",
       "        text-align: right;\n",
       "    }\n",
       "</style>\n",
       "<table border=\"1\" class=\"dataframe\">\n",
       "  <thead>\n",
       "    <tr style=\"text-align: right;\">\n",
       "      <th></th>\n",
       "      <th>claim_location_urban_area</th>\n",
       "      <th>total_customers</th>\n",
       "      <th>total_fraud_customers</th>\n",
       "      <th>fraud_perc</th>\n",
       "    </tr>\n",
       "  </thead>\n",
       "  <tbody>\n",
       "    <tr>\n",
       "      <th>1</th>\n",
       "      <td>1</td>\n",
       "      <td>42464</td>\n",
       "      <td>358</td>\n",
       "      <td>0.843067</td>\n",
       "    </tr>\n",
       "    <tr>\n",
       "      <th>0</th>\n",
       "      <td>0</td>\n",
       "      <td>37534</td>\n",
       "      <td>257</td>\n",
       "      <td>0.684713</td>\n",
       "    </tr>\n",
       "  </tbody>\n",
       "</table>\n",
       "</div>"
      ],
      "text/plain": [
       "   claim_location_urban_area  total_customers  total_fraud_customers  \\\n",
       "1                          1            42464                    358   \n",
       "0                          0            37534                    257   \n",
       "\n",
       "   fraud_perc  \n",
       "1    0.843067  \n",
       "0    0.684713  "
      ]
     },
     "execution_count": 79,
     "metadata": {},
     "output_type": "execute_result"
    }
   ],
   "source": [
    "df =train_data.groupby(['claim_location_urban_area']).agg(total_customers=('sys_claimid','nunique'),total_fraud_customers=(\"label\",\"sum\")).reset_index()\n",
    "df[\"fraud_perc\"]=100*(df['total_fraud_customers']/df['total_customers'])\n",
    "df1 =df.sort_values('total_customers',ascending=False)\n",
    "df1"
   ]
  },
  {
   "cell_type": "code",
   "execution_count": 80,
   "metadata": {},
   "outputs": [],
   "source": [
    "## Fraud percentage is higher in urban areas"
   ]
  },
  {
   "cell_type": "markdown",
   "metadata": {},
   "source": [
    "#### Difference in days between claim occurance and reporting"
   ]
  },
  {
   "cell_type": "code",
   "execution_count": 81,
   "metadata": {},
   "outputs": [
    {
     "data": {
      "image/png": "[encoded data removed]",
      "text/plain": [
       "<Figure size 432x288 with 1 Axes>"
      ]
     },
     "metadata": {},
     "output_type": "display_data"
    }
   ],
   "source": [
    "sns.boxplot(x=\"Fraud\", y=\"diff_days_between_claim_occ_report\", data=train_data, showfliers = False)\n",
    "plt.title(\"diff_days_between_claim_occ_report Vs Fraud\")\n",
    "plt.show()"
   ]
  },
  {
   "cell_type": "code",
   "execution_count": 82,
   "metadata": {},
   "outputs": [],
   "source": [
    "## The NON fraud cases take less time to claim"
   ]
  },
  {
   "cell_type": "markdown",
   "metadata": {},
   "source": [
    "#### Claim_amount_claimed_total_new"
   ]
  },
  {
   "cell_type": "code",
   "execution_count": 83,
   "metadata": {},
   "outputs": [
    {
     "data": {
      "image/png": "[encoded data removed]",
      "text/plain": [
       "<Figure size 432x288 with 1 Axes>"
      ]
     },
     "metadata": {},
     "output_type": "display_data"
    }
   ],
   "source": [
    "sns.boxplot(x=\"Fraud\", y=\"claim_amount_claimed_total_new\", data=train_data, showfliers = False)\n",
    "plt.title(\"claim_amount_claimed_total_new Vs Fraud\")\n",
    "plt.show()"
   ]
  },
  {
   "cell_type": "code",
   "execution_count": 84,
   "metadata": {},
   "outputs": [],
   "source": [
    "## Claim amount is almost the same in both the cases"
   ]
  },
  {
   "cell_type": "markdown",
   "metadata": {},
   "source": [
    "#### Policy_insured_amount"
   ]
  },
  {
   "cell_type": "code",
   "execution_count": 85,
   "metadata": {},
   "outputs": [
    {
     "data": {
      "image/png": "[encoded data removed]",
      "text/plain": [
       "<Figure size 432x288 with 1 Axes>"
      ]
     },
     "metadata": {},
     "output_type": "display_data"
    }
   ],
   "source": [
    "sns.boxplot(x=\"Fraud\", y=\"policy_insured_amount\", data=train_data, showfliers = False)\n",
    "plt.title(\"policy_insured_amount Vs Fraud\")\n",
    "plt.show()"
   ]
  },
  {
   "cell_type": "code",
   "execution_count": 86,
   "metadata": {},
   "outputs": [],
   "source": [
    "# The Fraud cases have more policy insured amount"
   ]
  },
  {
   "cell_type": "code",
   "execution_count": 151,
   "metadata": {},
   "outputs": [
    {
     "data": {
      "text/plain": [
       "(79998, 18)"
      ]
     },
     "execution_count": 151,
     "metadata": {},
     "output_type": "execute_result"
    }
   ],
   "source": [
    "train_data.shape"
   ]
  },
  {
   "cell_type": "markdown",
   "metadata": {},
   "source": [
    "## Dividing the dataset in categorical and numerical datatypes"
   ]
  },
  {
   "cell_type": "code",
   "execution_count": 87,
   "metadata": {},
   "outputs": [
    {
     "data": {
      "text/html": [
       "<div>\n",
       "<style scoped>\n",
       "    .dataframe tbody tr th:only-of-type {\n",
       "        vertical-align: middle;\n",
       "    }\n",
       "\n",
       "    .dataframe tbody tr th {\n",
       "        vertical-align: top;\n",
       "    }\n",
       "\n",
       "    .dataframe thead th {\n",
       "        text-align: right;\n",
       "    }\n",
       "</style>\n",
       "<table border=\"1\" class=\"dataframe\">\n",
       "  <thead>\n",
       "    <tr style=\"text-align: right;\">\n",
       "      <th></th>\n",
       "      <th>sys_claimid</th>\n",
       "      <th>claim_causetype</th>\n",
       "      <th>object_make</th>\n",
       "      <th>ph_firstname</th>\n",
       "      <th>ph_gender</th>\n",
       "      <th>ph_name</th>\n",
       "      <th>policy_profitability</th>\n",
       "      <th>Fraud</th>\n",
       "    </tr>\n",
       "  </thead>\n",
       "  <tbody>\n",
       "    <tr>\n",
       "      <th>8380</th>\n",
       "      <td>MTR-341919822-02</td>\n",
       "      <td>Weather</td>\n",
       "      <td>OTHER</td>\n",
       "      <td>Mahmood</td>\n",
       "      <td>M</td>\n",
       "      <td>el-Sarah</td>\n",
       "      <td>Low</td>\n",
       "      <td>Non_fraud</td>\n",
       "    </tr>\n",
       "    <tr>\n",
       "      <th>65865</th>\n",
       "      <td>MTR-876039500-02</td>\n",
       "      <td>Collision</td>\n",
       "      <td>VOLKSWAGEN</td>\n",
       "      <td>Haifaaa</td>\n",
       "      <td>L</td>\n",
       "      <td>al-Sinai</td>\n",
       "      <td>Very low</td>\n",
       "      <td>Non_fraud</td>\n",
       "    </tr>\n",
       "    <tr>\n",
       "      <th>2113</th>\n",
       "      <td>MTR-573586408-02</td>\n",
       "      <td>Other</td>\n",
       "      <td>AUDI</td>\n",
       "      <td>Natacha</td>\n",
       "      <td>F</td>\n",
       "      <td>Fulton</td>\n",
       "      <td>Low</td>\n",
       "      <td>Non_fraud</td>\n",
       "    </tr>\n",
       "    <tr>\n",
       "      <th>27671</th>\n",
       "      <td>MTR-144279619-02</td>\n",
       "      <td>Collision</td>\n",
       "      <td>RENAULT</td>\n",
       "      <td>Amy</td>\n",
       "      <td>L</td>\n",
       "      <td>Starbird</td>\n",
       "      <td>Very high</td>\n",
       "      <td>Non_fraud</td>\n",
       "    </tr>\n",
       "    <tr>\n",
       "      <th>13793</th>\n",
       "      <td>MTR-225054348-02</td>\n",
       "      <td>Theft</td>\n",
       "      <td>CITROEN</td>\n",
       "      <td>Triana</td>\n",
       "      <td>F</td>\n",
       "      <td>Goff</td>\n",
       "      <td>Low</td>\n",
       "      <td>Non_fraud</td>\n",
       "    </tr>\n",
       "  </tbody>\n",
       "</table>\n",
       "</div>"
      ],
      "text/plain": [
       "            sys_claimid claim_causetype object_make ph_firstname ph_gender  \\\n",
       "8380   MTR-341919822-02         Weather       OTHER      Mahmood         M   \n",
       "65865  MTR-876039500-02       Collision  VOLKSWAGEN      Haifaaa         L   \n",
       "2113   MTR-573586408-02           Other        AUDI      Natacha         F   \n",
       "27671  MTR-144279619-02       Collision     RENAULT          Amy         L   \n",
       "13793  MTR-225054348-02           Theft     CITROEN       Triana         F   \n",
       "\n",
       "        ph_name policy_profitability      Fraud  \n",
       "8380   el-Sarah                  Low  Non_fraud  \n",
       "65865  al-Sinai             Very low  Non_fraud  \n",
       "2113     Fulton                  Low  Non_fraud  \n",
       "27671  Starbird            Very high  Non_fraud  \n",
       "13793      Goff                  Low  Non_fraud  "
      ]
     },
     "execution_count": 87,
     "metadata": {},
     "output_type": "execute_result"
    }
   ],
   "source": [
    "categoricals = train_data.select_dtypes(np.object)\n",
    "categoricals.head()\n"
   ]
  },
  {
   "cell_type": "code",
   "execution_count": 88,
   "metadata": {},
   "outputs": [
    {
     "data": {
      "text/plain": [
       "F          28237\n",
       "M          28047\n",
       "L          22916\n",
       "missing      798\n",
       "Name: ph_gender, dtype: int64"
      ]
     },
     "execution_count": 88,
     "metadata": {},
     "output_type": "execute_result"
    }
   ],
   "source": [
    "categoricals['ph_gender'].value_counts()"
   ]
  },
  {
   "cell_type": "code",
   "execution_count": 89,
   "metadata": {},
   "outputs": [
    {
     "name": "stderr",
     "output_type": "stream",
     "text": [
      "/Users/vikas/opt/anaconda3/lib/python3.7/site-packages/ipykernel_launcher.py:2: SettingWithCopyWarning: \n",
      "A value is trying to be set on a copy of a slice from a DataFrame.\n",
      "Try using .loc[row_indexer,col_indexer] = value instead\n",
      "\n",
      "See the caveats in the documentation: https://pandas.pydata.org/pandas-docs/stable/user_guide/indexing.html#returning-a-view-versus-a-copy\n",
      "  \n"
     ]
    }
   ],
   "source": [
    "# Converting Null and L into 'other' column\n",
    "categoricals['ph_gender'] = categoricals['ph_gender'].apply(lambda x : 'other' if x == 'L' or x == 'missing' else x)"
   ]
  },
  {
   "cell_type": "code",
   "execution_count": 90,
   "metadata": {},
   "outputs": [
    {
     "data": {
      "text/plain": [
       "F        28237\n",
       "M        28047\n",
       "other    23714\n",
       "Name: ph_gender, dtype: int64"
      ]
     },
     "execution_count": 90,
     "metadata": {},
     "output_type": "execute_result"
    }
   ],
   "source": [
    "categoricals['ph_gender'].value_counts()"
   ]
  },
  {
   "cell_type": "code",
   "execution_count": 91,
   "metadata": {},
   "outputs": [
    {
     "data": {
      "text/plain": [
       "Index(['sys_claimid', 'claim_causetype', 'object_make', 'ph_firstname',\n",
       "       'ph_gender', 'ph_name', 'policy_profitability', 'Fraud'],\n",
       "      dtype='object')"
      ]
     },
     "execution_count": 91,
     "metadata": {},
     "output_type": "execute_result"
    }
   ],
   "source": [
    "categoricals.columns"
   ]
  },
  {
   "cell_type": "code",
   "execution_count": 92,
   "metadata": {},
   "outputs": [
    {
     "data": {
      "text/html": [
       "<div>\n",
       "<style scoped>\n",
       "    .dataframe tbody tr th:only-of-type {\n",
       "        vertical-align: middle;\n",
       "    }\n",
       "\n",
       "    .dataframe tbody tr th {\n",
       "        vertical-align: top;\n",
       "    }\n",
       "\n",
       "    .dataframe thead th {\n",
       "        text-align: right;\n",
       "    }\n",
       "</style>\n",
       "<table border=\"1\" class=\"dataframe\">\n",
       "  <thead>\n",
       "    <tr style=\"text-align: right;\">\n",
       "      <th></th>\n",
       "      <th>sys_claimid</th>\n",
       "      <th>claim_causetype</th>\n",
       "      <th>object_make</th>\n",
       "      <th>ph_firstname</th>\n",
       "      <th>ph_gender</th>\n",
       "      <th>ph_name</th>\n",
       "      <th>policy_profitability</th>\n",
       "      <th>Fraud</th>\n",
       "    </tr>\n",
       "  </thead>\n",
       "  <tbody>\n",
       "    <tr>\n",
       "      <th>count</th>\n",
       "      <td>79998</td>\n",
       "      <td>79998</td>\n",
       "      <td>79998</td>\n",
       "      <td>79998</td>\n",
       "      <td>79998</td>\n",
       "      <td>79998</td>\n",
       "      <td>79998</td>\n",
       "      <td>79998</td>\n",
       "    </tr>\n",
       "    <tr>\n",
       "      <th>unique</th>\n",
       "      <td>79998</td>\n",
       "      <td>6</td>\n",
       "      <td>7</td>\n",
       "      <td>11485</td>\n",
       "      <td>3</td>\n",
       "      <td>18237</td>\n",
       "      <td>5</td>\n",
       "      <td>2</td>\n",
       "    </tr>\n",
       "    <tr>\n",
       "      <th>top</th>\n",
       "      <td>MTR-915643175-02</td>\n",
       "      <td>Collision</td>\n",
       "      <td>VOLKSWAGEN</td>\n",
       "      <td>Michael</td>\n",
       "      <td>F</td>\n",
       "      <td>Nguyen</td>\n",
       "      <td>Very low</td>\n",
       "      <td>Non_fraud</td>\n",
       "    </tr>\n",
       "    <tr>\n",
       "      <th>freq</th>\n",
       "      <td>1</td>\n",
       "      <td>48953</td>\n",
       "      <td>24917</td>\n",
       "      <td>552</td>\n",
       "      <td>28237</td>\n",
       "      <td>630</td>\n",
       "      <td>17528</td>\n",
       "      <td>79383</td>\n",
       "    </tr>\n",
       "  </tbody>\n",
       "</table>\n",
       "</div>"
      ],
      "text/plain": [
       "             sys_claimid claim_causetype object_make ph_firstname ph_gender  \\\n",
       "count              79998           79998       79998        79998     79998   \n",
       "unique             79998               6           7        11485         3   \n",
       "top     MTR-915643175-02       Collision  VOLKSWAGEN      Michael         F   \n",
       "freq                   1           48953       24917          552     28237   \n",
       "\n",
       "       ph_name policy_profitability      Fraud  \n",
       "count    79998                79998      79998  \n",
       "unique   18237                    5          2  \n",
       "top     Nguyen             Very low  Non_fraud  \n",
       "freq       630                17528      79383  "
      ]
     },
     "execution_count": 92,
     "metadata": {},
     "output_type": "execute_result"
    }
   ],
   "source": [
    "categoricals.describe()"
   ]
  },
  {
   "cell_type": "code",
   "execution_count": 93,
   "metadata": {},
   "outputs": [
    {
     "data": {
      "text/plain": [
       "sys_claimid             0\n",
       "claim_causetype         0\n",
       "object_make             0\n",
       "ph_firstname            0\n",
       "ph_gender               0\n",
       "ph_name                 0\n",
       "policy_profitability    0\n",
       "Fraud                   0\n",
       "dtype: int64"
      ]
     },
     "execution_count": 93,
     "metadata": {},
     "output_type": "execute_result"
    }
   ],
   "source": [
    "# Checking the nulls\n",
    "categoricals.isna().sum()"
   ]
  },
  {
   "cell_type": "code",
   "execution_count": 94,
   "metadata": {},
   "outputs": [],
   "source": [
    "## Columns to drop before dummifying for the model\n",
    "col_drop = ['sys_claimid','ph_firstname','ph_name']"
   ]
  },
  {
   "cell_type": "code",
   "execution_count": 95,
   "metadata": {},
   "outputs": [
    {
     "name": "stderr",
     "output_type": "stream",
     "text": [
      "/Users/vikas/opt/anaconda3/lib/python3.7/site-packages/pandas/core/frame.py:3997: SettingWithCopyWarning: \n",
      "A value is trying to be set on a copy of a slice from a DataFrame\n",
      "\n",
      "See the caveats in the documentation: https://pandas.pydata.org/pandas-docs/stable/user_guide/indexing.html#returning-a-view-versus-a-copy\n",
      "  errors=errors,\n"
     ]
    }
   ],
   "source": [
    "categoricals.drop(columns=col_drop, axis = 1,inplace=True)"
   ]
  },
  {
   "cell_type": "code",
   "execution_count": 96,
   "metadata": {},
   "outputs": [
    {
     "data": {
      "text/html": [
       "<div>\n",
       "<style scoped>\n",
       "    .dataframe tbody tr th:only-of-type {\n",
       "        vertical-align: middle;\n",
       "    }\n",
       "\n",
       "    .dataframe tbody tr th {\n",
       "        vertical-align: top;\n",
       "    }\n",
       "\n",
       "    .dataframe thead th {\n",
       "        text-align: right;\n",
       "    }\n",
       "</style>\n",
       "<table border=\"1\" class=\"dataframe\">\n",
       "  <thead>\n",
       "    <tr style=\"text-align: right;\">\n",
       "      <th></th>\n",
       "      <th>claim_causetype</th>\n",
       "      <th>object_make</th>\n",
       "      <th>ph_gender</th>\n",
       "      <th>policy_profitability</th>\n",
       "      <th>Fraud</th>\n",
       "    </tr>\n",
       "  </thead>\n",
       "  <tbody>\n",
       "    <tr>\n",
       "      <th>8380</th>\n",
       "      <td>Weather</td>\n",
       "      <td>OTHER</td>\n",
       "      <td>M</td>\n",
       "      <td>Low</td>\n",
       "      <td>Non_fraud</td>\n",
       "    </tr>\n",
       "    <tr>\n",
       "      <th>65865</th>\n",
       "      <td>Collision</td>\n",
       "      <td>VOLKSWAGEN</td>\n",
       "      <td>other</td>\n",
       "      <td>Very low</td>\n",
       "      <td>Non_fraud</td>\n",
       "    </tr>\n",
       "    <tr>\n",
       "      <th>2113</th>\n",
       "      <td>Other</td>\n",
       "      <td>AUDI</td>\n",
       "      <td>F</td>\n",
       "      <td>Low</td>\n",
       "      <td>Non_fraud</td>\n",
       "    </tr>\n",
       "    <tr>\n",
       "      <th>27671</th>\n",
       "      <td>Collision</td>\n",
       "      <td>RENAULT</td>\n",
       "      <td>other</td>\n",
       "      <td>Very high</td>\n",
       "      <td>Non_fraud</td>\n",
       "    </tr>\n",
       "    <tr>\n",
       "      <th>13793</th>\n",
       "      <td>Theft</td>\n",
       "      <td>CITROEN</td>\n",
       "      <td>F</td>\n",
       "      <td>Low</td>\n",
       "      <td>Non_fraud</td>\n",
       "    </tr>\n",
       "  </tbody>\n",
       "</table>\n",
       "</div>"
      ],
      "text/plain": [
       "      claim_causetype object_make ph_gender policy_profitability      Fraud\n",
       "8380          Weather       OTHER         M                  Low  Non_fraud\n",
       "65865       Collision  VOLKSWAGEN     other             Very low  Non_fraud\n",
       "2113            Other        AUDI         F                  Low  Non_fraud\n",
       "27671       Collision     RENAULT     other            Very high  Non_fraud\n",
       "13793           Theft     CITROEN         F                  Low  Non_fraud"
      ]
     },
     "execution_count": 96,
     "metadata": {},
     "output_type": "execute_result"
    }
   ],
   "source": [
    "categoricals.head()"
   ]
  },
  {
   "cell_type": "code",
   "execution_count": 97,
   "metadata": {},
   "outputs": [
    {
     "name": "stdout",
     "output_type": "stream",
     "text": [
      "The categorical columns are:  ['claim_causetype', 'object_make', 'ph_gender', 'policy_profitability', 'Fraud']\n",
      "========================================\n",
      "\n",
      "Frequency analysis of column:  claim_causetype\n",
      "count         79998\n",
      "unique            6\n",
      "top       Collision\n",
      "freq          48953\n",
      "Name: claim_causetype, dtype: object\n"
     ]
    },
    {
     "data": {
      "image/png": "[encoded data removed]",
      "text/plain": [
       "<Figure size 432x288 with 1 Axes>"
      ]
     },
     "metadata": {},
     "output_type": "display_data"
    },
    {
     "name": "stdout",
     "output_type": "stream",
     "text": [
      "Frequency analysis of column:  object_make\n",
      "count          79998\n",
      "unique             7\n",
      "top       VOLKSWAGEN\n",
      "freq           24917\n",
      "Name: object_make, dtype: object\n"
     ]
    },
    {
     "data": {
      "image/png": "[encoded data removed]",
      "text/plain": [
       "<Figure size 432x288 with 1 Axes>"
      ]
     },
     "metadata": {},
     "output_type": "display_data"
    },
    {
     "name": "stdout",
     "output_type": "stream",
     "text": [
      "Frequency analysis of column:  ph_gender\n",
      "count     79998\n",
      "unique        3\n",
      "top           F\n",
      "freq      28237\n",
      "Name: ph_gender, dtype: object\n"
     ]
    },
    {
     "data": {
      "image/png": "[encoded data removed]",
      "text/plain": [
       "<Figure size 432x288 with 1 Axes>"
      ]
     },
     "metadata": {},
     "output_type": "display_data"
    },
    {
     "name": "stdout",
     "output_type": "stream",
     "text": [
      "Frequency analysis of column:  policy_profitability\n",
      "count        79998\n",
      "unique           5\n",
      "top       Very low\n",
      "freq         17528\n",
      "Name: policy_profitability, dtype: object\n"
     ]
    },
    {
     "data": {
      "image/png": "[encoded data removed]",
      "text/plain": [
       "<Figure size 432x288 with 1 Axes>"
      ]
     },
     "metadata": {},
     "output_type": "display_data"
    },
    {
     "name": "stdout",
     "output_type": "stream",
     "text": [
      "Frequency analysis of column:  Fraud\n",
      "count         79998\n",
      "unique            2\n",
      "top       Non_fraud\n",
      "freq          79383\n",
      "Name: Fraud, dtype: object\n"
     ]
    },
    {
     "data": {
      "image/png": "[encoded data removed]",
      "text/plain": [
       "<Figure size 432x288 with 1 Axes>"
      ]
     },
     "metadata": {},
     "output_type": "display_data"
    }
   ],
   "source": [
    "cols_cat = list(categoricals.columns)\n",
    "\n",
    "print(\"The categorical columns are: \",cols_cat)\n",
    "print(\"========================================\")\n",
    "print()\n",
    "\n",
    "for col in cols_cat:\n",
    "    print(\"Frequency analysis of column: \",col)\n",
    "    print (categoricals[col].describe())\n",
    "    plt.hist(categoricals[col])\n",
    "    plt.show()"
   ]
  },
  {
   "cell_type": "code",
   "execution_count": 98,
   "metadata": {},
   "outputs": [
    {
     "data": {
      "text/html": [
       "<div>\n",
       "<style scoped>\n",
       "    .dataframe tbody tr th:only-of-type {\n",
       "        vertical-align: middle;\n",
       "    }\n",
       "\n",
       "    .dataframe tbody tr th {\n",
       "        vertical-align: top;\n",
       "    }\n",
       "\n",
       "    .dataframe thead th {\n",
       "        text-align: right;\n",
       "    }\n",
       "</style>\n",
       "<table border=\"1\" class=\"dataframe\">\n",
       "  <thead>\n",
       "    <tr style=\"text-align: right;\">\n",
       "      <th></th>\n",
       "      <th>claim_causetype_Collision</th>\n",
       "      <th>claim_causetype_Other</th>\n",
       "      <th>claim_causetype_Theft</th>\n",
       "      <th>claim_causetype_Weather</th>\n",
       "      <th>claim_causetype_missing</th>\n",
       "      <th>object_make_BMW</th>\n",
       "      <th>object_make_CITROEN</th>\n",
       "      <th>object_make_OPEL</th>\n",
       "      <th>object_make_OTHER</th>\n",
       "      <th>object_make_RENAULT</th>\n",
       "      <th>object_make_VOLKSWAGEN</th>\n",
       "      <th>ph_gender_M</th>\n",
       "      <th>ph_gender_other</th>\n",
       "      <th>policy_profitability_Low</th>\n",
       "      <th>policy_profitability_Neutral</th>\n",
       "      <th>policy_profitability_Very high</th>\n",
       "      <th>policy_profitability_Very low</th>\n",
       "      <th>Fraud_Non_fraud</th>\n",
       "    </tr>\n",
       "  </thead>\n",
       "  <tbody>\n",
       "    <tr>\n",
       "      <th>8380</th>\n",
       "      <td>0</td>\n",
       "      <td>0</td>\n",
       "      <td>0</td>\n",
       "      <td>1</td>\n",
       "      <td>0</td>\n",
       "      <td>0</td>\n",
       "      <td>0</td>\n",
       "      <td>0</td>\n",
       "      <td>1</td>\n",
       "      <td>0</td>\n",
       "      <td>0</td>\n",
       "      <td>1</td>\n",
       "      <td>0</td>\n",
       "      <td>1</td>\n",
       "      <td>0</td>\n",
       "      <td>0</td>\n",
       "      <td>0</td>\n",
       "      <td>1</td>\n",
       "    </tr>\n",
       "    <tr>\n",
       "      <th>65865</th>\n",
       "      <td>1</td>\n",
       "      <td>0</td>\n",
       "      <td>0</td>\n",
       "      <td>0</td>\n",
       "      <td>0</td>\n",
       "      <td>0</td>\n",
       "      <td>0</td>\n",
       "      <td>0</td>\n",
       "      <td>0</td>\n",
       "      <td>0</td>\n",
       "      <td>1</td>\n",
       "      <td>0</td>\n",
       "      <td>1</td>\n",
       "      <td>0</td>\n",
       "      <td>0</td>\n",
       "      <td>0</td>\n",
       "      <td>1</td>\n",
       "      <td>1</td>\n",
       "    </tr>\n",
       "    <tr>\n",
       "      <th>2113</th>\n",
       "      <td>0</td>\n",
       "      <td>1</td>\n",
       "      <td>0</td>\n",
       "      <td>0</td>\n",
       "      <td>0</td>\n",
       "      <td>0</td>\n",
       "      <td>0</td>\n",
       "      <td>0</td>\n",
       "      <td>0</td>\n",
       "      <td>0</td>\n",
       "      <td>0</td>\n",
       "      <td>0</td>\n",
       "      <td>0</td>\n",
       "      <td>1</td>\n",
       "      <td>0</td>\n",
       "      <td>0</td>\n",
       "      <td>0</td>\n",
       "      <td>1</td>\n",
       "    </tr>\n",
       "    <tr>\n",
       "      <th>27671</th>\n",
       "      <td>1</td>\n",
       "      <td>0</td>\n",
       "      <td>0</td>\n",
       "      <td>0</td>\n",
       "      <td>0</td>\n",
       "      <td>0</td>\n",
       "      <td>0</td>\n",
       "      <td>0</td>\n",
       "      <td>0</td>\n",
       "      <td>1</td>\n",
       "      <td>0</td>\n",
       "      <td>0</td>\n",
       "      <td>1</td>\n",
       "      <td>0</td>\n",
       "      <td>0</td>\n",
       "      <td>1</td>\n",
       "      <td>0</td>\n",
       "      <td>1</td>\n",
       "    </tr>\n",
       "    <tr>\n",
       "      <th>13793</th>\n",
       "      <td>0</td>\n",
       "      <td>0</td>\n",
       "      <td>1</td>\n",
       "      <td>0</td>\n",
       "      <td>0</td>\n",
       "      <td>0</td>\n",
       "      <td>1</td>\n",
       "      <td>0</td>\n",
       "      <td>0</td>\n",
       "      <td>0</td>\n",
       "      <td>0</td>\n",
       "      <td>0</td>\n",
       "      <td>0</td>\n",
       "      <td>1</td>\n",
       "      <td>0</td>\n",
       "      <td>0</td>\n",
       "      <td>0</td>\n",
       "      <td>1</td>\n",
       "    </tr>\n",
       "  </tbody>\n",
       "</table>\n",
       "</div>"
      ],
      "text/plain": [
       "       claim_causetype_Collision  claim_causetype_Other  \\\n",
       "8380                           0                      0   \n",
       "65865                          1                      0   \n",
       "2113                           0                      1   \n",
       "27671                          1                      0   \n",
       "13793                          0                      0   \n",
       "\n",
       "       claim_causetype_Theft  claim_causetype_Weather  \\\n",
       "8380                       0                        1   \n",
       "65865                      0                        0   \n",
       "2113                       0                        0   \n",
       "27671                      0                        0   \n",
       "13793                      1                        0   \n",
       "\n",
       "       claim_causetype_missing  object_make_BMW  object_make_CITROEN  \\\n",
       "8380                         0                0                    0   \n",
       "65865                        0                0                    0   \n",
       "2113                         0                0                    0   \n",
       "27671                        0                0                    0   \n",
       "13793                        0                0                    1   \n",
       "\n",
       "       object_make_OPEL  object_make_OTHER  object_make_RENAULT  \\\n",
       "8380                  0                  1                    0   \n",
       "65865                 0                  0                    0   \n",
       "2113                  0                  0                    0   \n",
       "27671                 0                  0                    1   \n",
       "13793                 0                  0                    0   \n",
       "\n",
       "       object_make_VOLKSWAGEN  ph_gender_M  ph_gender_other  \\\n",
       "8380                        0            1                0   \n",
       "65865                       1            0                1   \n",
       "2113                        0            0                0   \n",
       "27671                       0            0                1   \n",
       "13793                       0            0                0   \n",
       "\n",
       "       policy_profitability_Low  policy_profitability_Neutral  \\\n",
       "8380                          1                             0   \n",
       "65865                         0                             0   \n",
       "2113                          1                             0   \n",
       "27671                         0                             0   \n",
       "13793                         1                             0   \n",
       "\n",
       "       policy_profitability_Very high  policy_profitability_Very low  \\\n",
       "8380                                0                              0   \n",
       "65865                               0                              1   \n",
       "2113                                0                              0   \n",
       "27671                               1                              0   \n",
       "13793                               0                              0   \n",
       "\n",
       "       Fraud_Non_fraud  \n",
       "8380                 1  \n",
       "65865                1  \n",
       "2113                 1  \n",
       "27671                1  \n",
       "13793                1  "
      ]
     },
     "execution_count": 98,
     "metadata": {},
     "output_type": "execute_result"
    }
   ],
   "source": [
    "### Dummifing the cleaned categorical data\n",
    "categoricals = pd.get_dummies(categoricals, columns = ['claim_causetype', 'object_make', 'ph_gender', 'policy_profitability','Fraud'],drop_first=True)\n",
    "categoricals.head()"
   ]
  },
  {
   "cell_type": "code",
   "execution_count": 99,
   "metadata": {},
   "outputs": [
    {
     "data": {
      "text/plain": [
       "(79998, 18)"
      ]
     },
     "execution_count": 99,
     "metadata": {},
     "output_type": "execute_result"
    }
   ],
   "source": [
    "categoricals.shape"
   ]
  },
  {
   "cell_type": "code",
   "execution_count": 100,
   "metadata": {},
   "outputs": [
    {
     "data": {
      "text/plain": [
       "Index(['claim_causetype_Collision', 'claim_causetype_Other',\n",
       "       'claim_causetype_Theft', 'claim_causetype_Weather',\n",
       "       'claim_causetype_missing', 'object_make_BMW', 'object_make_CITROEN',\n",
       "       'object_make_OPEL', 'object_make_OTHER', 'object_make_RENAULT',\n",
       "       'object_make_VOLKSWAGEN', 'ph_gender_M', 'ph_gender_other',\n",
       "       'policy_profitability_Low', 'policy_profitability_Neutral',\n",
       "       'policy_profitability_Very high', 'policy_profitability_Very low',\n",
       "       'Fraud_Non_fraud'],\n",
       "      dtype='object')"
      ]
     },
     "execution_count": 100,
     "metadata": {},
     "output_type": "execute_result"
    }
   ],
   "source": [
    "categoricals.columns"
   ]
  },
  {
   "cell_type": "code",
   "execution_count": 101,
   "metadata": {},
   "outputs": [],
   "source": [
    "#categoricals = categoricals.drop('Fraud_Non_fraud',axis = 1)"
   ]
  },
  {
   "cell_type": "markdown",
   "metadata": {},
   "source": [
    "## Checking the Numerical Column for model"
   ]
  },
  {
   "cell_type": "code",
   "execution_count": 102,
   "metadata": {},
   "outputs": [
    {
     "data": {
      "text/html": [
       "<div>\n",
       "<style scoped>\n",
       "    .dataframe tbody tr th:only-of-type {\n",
       "        vertical-align: middle;\n",
       "    }\n",
       "\n",
       "    .dataframe tbody tr th {\n",
       "        vertical-align: top;\n",
       "    }\n",
       "\n",
       "    .dataframe thead th {\n",
       "        text-align: right;\n",
       "    }\n",
       "</style>\n",
       "<table border=\"1\" class=\"dataframe\">\n",
       "  <thead>\n",
       "    <tr style=\"text-align: right;\">\n",
       "      <th></th>\n",
       "      <th>claim_location_urban_area</th>\n",
       "      <th>policy_fleet_flag</th>\n",
       "      <th>policy_insured_amount</th>\n",
       "      <th>len_claimid</th>\n",
       "      <th>diff_days_between_claim_occ_report</th>\n",
       "      <th>claim_amount_claimed_total_new</th>\n",
       "      <th>Age_of_vehicle</th>\n",
       "      <th>time_since_claim</th>\n",
       "      <th>label</th>\n",
       "    </tr>\n",
       "  </thead>\n",
       "  <tbody>\n",
       "    <tr>\n",
       "      <th>8380</th>\n",
       "      <td>1</td>\n",
       "      <td>0</td>\n",
       "      <td>87167.0</td>\n",
       "      <td>16</td>\n",
       "      <td>22.0</td>\n",
       "      <td>2263.0</td>\n",
       "      <td>8.0</td>\n",
       "      <td>12.107025</td>\n",
       "      <td>0</td>\n",
       "    </tr>\n",
       "    <tr>\n",
       "      <th>65865</th>\n",
       "      <td>0</td>\n",
       "      <td>0</td>\n",
       "      <td>57917.0</td>\n",
       "      <td>16</td>\n",
       "      <td>0.0</td>\n",
       "      <td>70.0</td>\n",
       "      <td>1.0</td>\n",
       "      <td>12.107025</td>\n",
       "      <td>0</td>\n",
       "    </tr>\n",
       "    <tr>\n",
       "      <th>2113</th>\n",
       "      <td>0</td>\n",
       "      <td>0</td>\n",
       "      <td>79909.0</td>\n",
       "      <td>16</td>\n",
       "      <td>20.0</td>\n",
       "      <td>653.0</td>\n",
       "      <td>10.0</td>\n",
       "      <td>12.107025</td>\n",
       "      <td>0</td>\n",
       "    </tr>\n",
       "    <tr>\n",
       "      <th>27671</th>\n",
       "      <td>1</td>\n",
       "      <td>0</td>\n",
       "      <td>NaN</td>\n",
       "      <td>16</td>\n",
       "      <td>0.0</td>\n",
       "      <td>9349.0</td>\n",
       "      <td>0.0</td>\n",
       "      <td>12.107025</td>\n",
       "      <td>0</td>\n",
       "    </tr>\n",
       "    <tr>\n",
       "      <th>13793</th>\n",
       "      <td>0</td>\n",
       "      <td>0</td>\n",
       "      <td>74656.0</td>\n",
       "      <td>16</td>\n",
       "      <td>14.0</td>\n",
       "      <td>600.0</td>\n",
       "      <td>7.0</td>\n",
       "      <td>12.107025</td>\n",
       "      <td>0</td>\n",
       "    </tr>\n",
       "  </tbody>\n",
       "</table>\n",
       "</div>"
      ],
      "text/plain": [
       "       claim_location_urban_area  policy_fleet_flag  policy_insured_amount  \\\n",
       "8380                           1                  0                87167.0   \n",
       "65865                          0                  0                57917.0   \n",
       "2113                           0                  0                79909.0   \n",
       "27671                          1                  0                    NaN   \n",
       "13793                          0                  0                74656.0   \n",
       "\n",
       "       len_claimid  diff_days_between_claim_occ_report  \\\n",
       "8380            16                                22.0   \n",
       "65865           16                                 0.0   \n",
       "2113            16                                20.0   \n",
       "27671           16                                 0.0   \n",
       "13793           16                                14.0   \n",
       "\n",
       "       claim_amount_claimed_total_new  Age_of_vehicle  time_since_claim  label  \n",
       "8380                           2263.0             8.0         12.107025      0  \n",
       "65865                            70.0             1.0         12.107025      0  \n",
       "2113                            653.0            10.0         12.107025      0  \n",
       "27671                          9349.0             0.0         12.107025      0  \n",
       "13793                           600.0             7.0         12.107025      0  "
      ]
     },
     "execution_count": 102,
     "metadata": {},
     "output_type": "execute_result"
    }
   ],
   "source": [
    "numericals = train_data.select_dtypes(np.number)\n",
    "numericals.head()"
   ]
  },
  {
   "cell_type": "code",
   "execution_count": 103,
   "metadata": {},
   "outputs": [
    {
     "data": {
      "text/plain": [
       "(79998, 9)"
      ]
     },
     "execution_count": 103,
     "metadata": {},
     "output_type": "execute_result"
    }
   ],
   "source": [
    "numericals.shape"
   ]
  },
  {
   "cell_type": "code",
   "execution_count": 104,
   "metadata": {},
   "outputs": [
    {
     "data": {
      "text/html": [
       "<div>\n",
       "<style scoped>\n",
       "    .dataframe tbody tr th:only-of-type {\n",
       "        vertical-align: middle;\n",
       "    }\n",
       "\n",
       "    .dataframe tbody tr th {\n",
       "        vertical-align: top;\n",
       "    }\n",
       "\n",
       "    .dataframe thead th {\n",
       "        text-align: right;\n",
       "    }\n",
       "</style>\n",
       "<table border=\"1\" class=\"dataframe\">\n",
       "  <thead>\n",
       "    <tr style=\"text-align: right;\">\n",
       "      <th></th>\n",
       "      <th>claim_location_urban_area</th>\n",
       "      <th>policy_fleet_flag</th>\n",
       "      <th>policy_insured_amount</th>\n",
       "      <th>len_claimid</th>\n",
       "      <th>diff_days_between_claim_occ_report</th>\n",
       "      <th>claim_amount_claimed_total_new</th>\n",
       "      <th>Age_of_vehicle</th>\n",
       "      <th>time_since_claim</th>\n",
       "      <th>label</th>\n",
       "    </tr>\n",
       "  </thead>\n",
       "  <tbody>\n",
       "    <tr>\n",
       "      <th>count</th>\n",
       "      <td>79998.000000</td>\n",
       "      <td>79998.000000</td>\n",
       "      <td>49179.000000</td>\n",
       "      <td>79998.0</td>\n",
       "      <td>79998.000000</td>\n",
       "      <td>79998.000000</td>\n",
       "      <td>79998.000000</td>\n",
       "      <td>79998.000000</td>\n",
       "      <td>79998.000000</td>\n",
       "    </tr>\n",
       "    <tr>\n",
       "      <th>mean</th>\n",
       "      <td>0.530813</td>\n",
       "      <td>0.321483</td>\n",
       "      <td>60009.746802</td>\n",
       "      <td>16.0</td>\n",
       "      <td>20.025513</td>\n",
       "      <td>3073.212343</td>\n",
       "      <td>6.314708</td>\n",
       "      <td>9.215268</td>\n",
       "      <td>0.007688</td>\n",
       "    </tr>\n",
       "    <tr>\n",
       "      <th>std</th>\n",
       "      <td>0.499053</td>\n",
       "      <td>0.467049</td>\n",
       "      <td>24626.506285</td>\n",
       "      <td>0.0</td>\n",
       "      <td>72.146486</td>\n",
       "      <td>8231.916325</td>\n",
       "      <td>5.104854</td>\n",
       "      <td>1.628579</td>\n",
       "      <td>0.087342</td>\n",
       "    </tr>\n",
       "    <tr>\n",
       "      <th>min</th>\n",
       "      <td>0.000000</td>\n",
       "      <td>0.000000</td>\n",
       "      <td>6531.000000</td>\n",
       "      <td>16.0</td>\n",
       "      <td>0.000000</td>\n",
       "      <td>2.000000</td>\n",
       "      <td>0.000000</td>\n",
       "      <td>6.499791</td>\n",
       "      <td>0.000000</td>\n",
       "    </tr>\n",
       "    <tr>\n",
       "      <th>25%</th>\n",
       "      <td>0.000000</td>\n",
       "      <td>0.000000</td>\n",
       "      <td>44928.000000</td>\n",
       "      <td>16.0</td>\n",
       "      <td>2.000000</td>\n",
       "      <td>296.000000</td>\n",
       "      <td>2.000000</td>\n",
       "      <td>7.827676</td>\n",
       "      <td>0.000000</td>\n",
       "    </tr>\n",
       "    <tr>\n",
       "      <th>50%</th>\n",
       "      <td>1.000000</td>\n",
       "      <td>0.000000</td>\n",
       "      <td>53102.000000</td>\n",
       "      <td>16.0</td>\n",
       "      <td>4.000000</td>\n",
       "      <td>883.000000</td>\n",
       "      <td>5.000000</td>\n",
       "      <td>9.106279</td>\n",
       "      <td>0.000000</td>\n",
       "    </tr>\n",
       "    <tr>\n",
       "      <th>75%</th>\n",
       "      <td>1.000000</td>\n",
       "      <td>1.000000</td>\n",
       "      <td>64159.000000</td>\n",
       "      <td>16.0</td>\n",
       "      <td>14.000000</td>\n",
       "      <td>2657.000000</td>\n",
       "      <td>9.000000</td>\n",
       "      <td>10.639507</td>\n",
       "      <td>0.000000</td>\n",
       "    </tr>\n",
       "    <tr>\n",
       "      <th>max</th>\n",
       "      <td>1.000000</td>\n",
       "      <td>1.000000</td>\n",
       "      <td>193681.000000</td>\n",
       "      <td>16.0</td>\n",
       "      <td>2778.000000</td>\n",
       "      <td>424720.000000</td>\n",
       "      <td>68.000000</td>\n",
       "      <td>12.107025</td>\n",
       "      <td>1.000000</td>\n",
       "    </tr>\n",
       "  </tbody>\n",
       "</table>\n",
       "</div>"
      ],
      "text/plain": [
       "       claim_location_urban_area  policy_fleet_flag  policy_insured_amount  \\\n",
       "count               79998.000000       79998.000000           49179.000000   \n",
       "mean                    0.530813           0.321483           60009.746802   \n",
       "std                     0.499053           0.467049           24626.506285   \n",
       "min                     0.000000           0.000000            6531.000000   \n",
       "25%                     0.000000           0.000000           44928.000000   \n",
       "50%                     1.000000           0.000000           53102.000000   \n",
       "75%                     1.000000           1.000000           64159.000000   \n",
       "max                     1.000000           1.000000          193681.000000   \n",
       "\n",
       "       len_claimid  diff_days_between_claim_occ_report  \\\n",
       "count      79998.0                        79998.000000   \n",
       "mean          16.0                           20.025513   \n",
       "std            0.0                           72.146486   \n",
       "min           16.0                            0.000000   \n",
       "25%           16.0                            2.000000   \n",
       "50%           16.0                            4.000000   \n",
       "75%           16.0                           14.000000   \n",
       "max           16.0                         2778.000000   \n",
       "\n",
       "       claim_amount_claimed_total_new  Age_of_vehicle  time_since_claim  \\\n",
       "count                    79998.000000    79998.000000      79998.000000   \n",
       "mean                      3073.212343        6.314708          9.215268   \n",
       "std                       8231.916325        5.104854          1.628579   \n",
       "min                          2.000000        0.000000          6.499791   \n",
       "25%                        296.000000        2.000000          7.827676   \n",
       "50%                        883.000000        5.000000          9.106279   \n",
       "75%                       2657.000000        9.000000         10.639507   \n",
       "max                     424720.000000       68.000000         12.107025   \n",
       "\n",
       "              label  \n",
       "count  79998.000000  \n",
       "mean       0.007688  \n",
       "std        0.087342  \n",
       "min        0.000000  \n",
       "25%        0.000000  \n",
       "50%        0.000000  \n",
       "75%        0.000000  \n",
       "max        1.000000  "
      ]
     },
     "execution_count": 104,
     "metadata": {},
     "output_type": "execute_result"
    }
   ],
   "source": [
    "numericals.describe()"
   ]
  },
  {
   "cell_type": "code",
   "execution_count": 105,
   "metadata": {},
   "outputs": [
    {
     "data": {
      "text/html": [
       "<div>\n",
       "<style scoped>\n",
       "    .dataframe tbody tr th:only-of-type {\n",
       "        vertical-align: middle;\n",
       "    }\n",
       "\n",
       "    .dataframe tbody tr th {\n",
       "        vertical-align: top;\n",
       "    }\n",
       "\n",
       "    .dataframe thead th {\n",
       "        text-align: right;\n",
       "    }\n",
       "</style>\n",
       "<table border=\"1\" class=\"dataframe\">\n",
       "  <thead>\n",
       "    <tr style=\"text-align: right;\">\n",
       "      <th></th>\n",
       "      <th>claim_location_urban_area</th>\n",
       "      <th>policy_fleet_flag</th>\n",
       "      <th>policy_insured_amount</th>\n",
       "      <th>diff_days_between_claim_occ_report</th>\n",
       "      <th>claim_amount_claimed_total_new</th>\n",
       "      <th>Age_of_vehicle</th>\n",
       "      <th>time_since_claim</th>\n",
       "      <th>label</th>\n",
       "    </tr>\n",
       "  </thead>\n",
       "  <tbody>\n",
       "    <tr>\n",
       "      <th>8380</th>\n",
       "      <td>1</td>\n",
       "      <td>0</td>\n",
       "      <td>87167.0</td>\n",
       "      <td>22.0</td>\n",
       "      <td>2263.0</td>\n",
       "      <td>8.0</td>\n",
       "      <td>12.107025</td>\n",
       "      <td>0</td>\n",
       "    </tr>\n",
       "    <tr>\n",
       "      <th>65865</th>\n",
       "      <td>0</td>\n",
       "      <td>0</td>\n",
       "      <td>57917.0</td>\n",
       "      <td>0.0</td>\n",
       "      <td>70.0</td>\n",
       "      <td>1.0</td>\n",
       "      <td>12.107025</td>\n",
       "      <td>0</td>\n",
       "    </tr>\n",
       "    <tr>\n",
       "      <th>2113</th>\n",
       "      <td>0</td>\n",
       "      <td>0</td>\n",
       "      <td>79909.0</td>\n",
       "      <td>20.0</td>\n",
       "      <td>653.0</td>\n",
       "      <td>10.0</td>\n",
       "      <td>12.107025</td>\n",
       "      <td>0</td>\n",
       "    </tr>\n",
       "    <tr>\n",
       "      <th>27671</th>\n",
       "      <td>1</td>\n",
       "      <td>0</td>\n",
       "      <td>NaN</td>\n",
       "      <td>0.0</td>\n",
       "      <td>9349.0</td>\n",
       "      <td>0.0</td>\n",
       "      <td>12.107025</td>\n",
       "      <td>0</td>\n",
       "    </tr>\n",
       "    <tr>\n",
       "      <th>13793</th>\n",
       "      <td>0</td>\n",
       "      <td>0</td>\n",
       "      <td>74656.0</td>\n",
       "      <td>14.0</td>\n",
       "      <td>600.0</td>\n",
       "      <td>7.0</td>\n",
       "      <td>12.107025</td>\n",
       "      <td>0</td>\n",
       "    </tr>\n",
       "  </tbody>\n",
       "</table>\n",
       "</div>"
      ],
      "text/plain": [
       "       claim_location_urban_area  policy_fleet_flag  policy_insured_amount  \\\n",
       "8380                           1                  0                87167.0   \n",
       "65865                          0                  0                57917.0   \n",
       "2113                           0                  0                79909.0   \n",
       "27671                          1                  0                    NaN   \n",
       "13793                          0                  0                74656.0   \n",
       "\n",
       "       diff_days_between_claim_occ_report  claim_amount_claimed_total_new  \\\n",
       "8380                                 22.0                          2263.0   \n",
       "65865                                 0.0                            70.0   \n",
       "2113                                 20.0                           653.0   \n",
       "27671                                 0.0                          9349.0   \n",
       "13793                                14.0                           600.0   \n",
       "\n",
       "       Age_of_vehicle  time_since_claim  label  \n",
       "8380              8.0         12.107025      0  \n",
       "65865             1.0         12.107025      0  \n",
       "2113             10.0         12.107025      0  \n",
       "27671             0.0         12.107025      0  \n",
       "13793             7.0         12.107025      0  "
      ]
     },
     "execution_count": 105,
     "metadata": {},
     "output_type": "execute_result"
    }
   ],
   "source": [
    "numericals = numericals.drop('len_claimid',axis=1)\n",
    "numericals.head()"
   ]
  },
  {
   "cell_type": "code",
   "execution_count": 106,
   "metadata": {},
   "outputs": [
    {
     "name": "stdout",
     "output_type": "stream",
     "text": [
      "claim_location_urban_area\n"
     ]
    },
    {
     "name": "stderr",
     "output_type": "stream",
     "text": [
      "/Users/vikas/opt/anaconda3/lib/python3.7/site-packages/seaborn/distributions.py:2551: FutureWarning: `distplot` is a deprecated function and will be removed in a future version. Please adapt your code to use either `displot` (a figure-level function with similar flexibility) or `histplot` (an axes-level function for histograms).\n",
      "  warnings.warn(msg, FutureWarning)\n"
     ]
    },
    {
     "data": {
      "image/png": "[encoded data removed]",
      "text/plain": [
       "<Figure size 432x288 with 1 Axes>"
      ]
     },
     "metadata": {},
     "output_type": "display_data"
    },
    {
     "name": "stdout",
     "output_type": "stream",
     "text": [
      "policy_fleet_flag\n"
     ]
    },
    {
     "name": "stderr",
     "output_type": "stream",
     "text": [
      "/Users/vikas/opt/anaconda3/lib/python3.7/site-packages/seaborn/distributions.py:2551: FutureWarning: `distplot` is a deprecated function and will be removed in a future version. Please adapt your code to use either `displot` (a figure-level function with similar flexibility) or `histplot` (an axes-level function for histograms).\n",
      "  warnings.warn(msg, FutureWarning)\n"
     ]
    },
    {
     "data": {
      "image/png": "[encoded data removed]",
      "text/plain": [
       "<Figure size 432x288 with 1 Axes>"
      ]
     },
     "metadata": {},
     "output_type": "display_data"
    },
    {
     "name": "stdout",
     "output_type": "stream",
     "text": [
      "policy_insured_amount\n"
     ]
    },
    {
     "name": "stderr",
     "output_type": "stream",
     "text": [
      "/Users/vikas/opt/anaconda3/lib/python3.7/site-packages/seaborn/distributions.py:2551: FutureWarning: `distplot` is a deprecated function and will be removed in a future version. Please adapt your code to use either `displot` (a figure-level function with similar flexibility) or `histplot` (an axes-level function for histograms).\n",
      "  warnings.warn(msg, FutureWarning)\n"
     ]
    },
    {
     "data": {
      "image/png": "[encoded data removed]",
      "text/plain": [
       "<Figure size 432x288 with 1 Axes>"
      ]
     },
     "metadata": {},
     "output_type": "display_data"
    },
    {
     "name": "stdout",
     "output_type": "stream",
     "text": [
      "diff_days_between_claim_occ_report\n"
     ]
    },
    {
     "name": "stderr",
     "output_type": "stream",
     "text": [
      "/Users/vikas/opt/anaconda3/lib/python3.7/site-packages/seaborn/distributions.py:2551: FutureWarning: `distplot` is a deprecated function and will be removed in a future version. Please adapt your code to use either `displot` (a figure-level function with similar flexibility) or `histplot` (an axes-level function for histograms).\n",
      "  warnings.warn(msg, FutureWarning)\n"
     ]
    },
    {
     "data": {
      "image/png": "[encoded data removed]",
      "text/plain": [
       "<Figure size 432x288 with 1 Axes>"
      ]
     },
     "metadata": {},
     "output_type": "display_data"
    },
    {
     "name": "stdout",
     "output_type": "stream",
     "text": [
      "claim_amount_claimed_total_new\n"
     ]
    },
    {
     "name": "stderr",
     "output_type": "stream",
     "text": [
      "/Users/vikas/opt/anaconda3/lib/python3.7/site-packages/seaborn/distributions.py:2551: FutureWarning: `distplot` is a deprecated function and will be removed in a future version. Please adapt your code to use either `displot` (a figure-level function with similar flexibility) or `histplot` (an axes-level function for histograms).\n",
      "  warnings.warn(msg, FutureWarning)\n"
     ]
    },
    {
     "data": {
      "image/png": "[encoded data removed]",
      "text/plain": [
       "<Figure size 432x288 with 1 Axes>"
      ]
     },
     "metadata": {},
     "output_type": "display_data"
    },
    {
     "name": "stdout",
     "output_type": "stream",
     "text": [
      "Age_of_vehicle\n"
     ]
    },
    {
     "name": "stderr",
     "output_type": "stream",
     "text": [
      "/Users/vikas/opt/anaconda3/lib/python3.7/site-packages/seaborn/distributions.py:2551: FutureWarning: `distplot` is a deprecated function and will be removed in a future version. Please adapt your code to use either `displot` (a figure-level function with similar flexibility) or `histplot` (an axes-level function for histograms).\n",
      "  warnings.warn(msg, FutureWarning)\n"
     ]
    },
    {
     "data": {
      "image/png": "[encoded data removed]",
      "text/plain": [
       "<Figure size 432x288 with 1 Axes>"
      ]
     },
     "metadata": {},
     "output_type": "display_data"
    },
    {
     "name": "stdout",
     "output_type": "stream",
     "text": [
      "time_since_claim\n"
     ]
    },
    {
     "name": "stderr",
     "output_type": "stream",
     "text": [
      "/Users/vikas/opt/anaconda3/lib/python3.7/site-packages/seaborn/distributions.py:2551: FutureWarning: `distplot` is a deprecated function and will be removed in a future version. Please adapt your code to use either `displot` (a figure-level function with similar flexibility) or `histplot` (an axes-level function for histograms).\n",
      "  warnings.warn(msg, FutureWarning)\n"
     ]
    },
    {
     "data": {
      "image/png": "[encoded data removed]",
      "text/plain": [
       "<Figure size 432x288 with 1 Axes>"
      ]
     },
     "metadata": {},
     "output_type": "display_data"
    },
    {
     "name": "stdout",
     "output_type": "stream",
     "text": [
      "label\n"
     ]
    },
    {
     "name": "stderr",
     "output_type": "stream",
     "text": [
      "/Users/vikas/opt/anaconda3/lib/python3.7/site-packages/seaborn/distributions.py:2551: FutureWarning: `distplot` is a deprecated function and will be removed in a future version. Please adapt your code to use either `displot` (a figure-level function with similar flexibility) or `histplot` (an axes-level function for histograms).\n",
      "  warnings.warn(msg, FutureWarning)\n"
     ]
    },
    {
     "data": {
      "image/png": "[encoded data removed]",
      "text/plain": [
       "<Figure size 432x288 with 1 Axes>"
      ]
     },
     "metadata": {},
     "output_type": "display_data"
    }
   ],
   "source": [
    "for col in numericals.columns:\n",
    "    print (col)\n",
    "    sns.distplot(numericals[col])\n",
    "    plt.show()"
   ]
  },
  {
   "cell_type": "code",
   "execution_count": 107,
   "metadata": {},
   "outputs": [
    {
     "data": {
      "text/plain": [
       "(79998, 8)"
      ]
     },
     "execution_count": 107,
     "metadata": {},
     "output_type": "execute_result"
    }
   ],
   "source": [
    "numericals.shape"
   ]
  },
  {
   "cell_type": "code",
   "execution_count": 108,
   "metadata": {},
   "outputs": [
    {
     "data": {
      "text/plain": [
       "claim_location_urban_area                 0\n",
       "policy_fleet_flag                         0\n",
       "policy_insured_amount                 30819\n",
       "diff_days_between_claim_occ_report        0\n",
       "claim_amount_claimed_total_new            0\n",
       "Age_of_vehicle                            0\n",
       "time_since_claim                          0\n",
       "label                                     0\n",
       "dtype: int64"
      ]
     },
     "execution_count": 108,
     "metadata": {},
     "output_type": "execute_result"
    }
   ],
   "source": [
    "## Checking for nulls\n",
    "numericals.isna().sum()"
   ]
  },
  {
   "cell_type": "code",
   "execution_count": 109,
   "metadata": {},
   "outputs": [],
   "source": [
    "## Using the average of the column to fill the na values\n",
    "numericals['policy_insured_amount'] = numericals['policy_insured_amount'].fillna(np.mean(numericals['policy_insured_amount']))"
   ]
  },
  {
   "cell_type": "code",
   "execution_count": 110,
   "metadata": {},
   "outputs": [
    {
     "data": {
      "text/plain": [
       "claim_location_urban_area             0\n",
       "policy_fleet_flag                     0\n",
       "policy_insured_amount                 0\n",
       "diff_days_between_claim_occ_report    0\n",
       "claim_amount_claimed_total_new        0\n",
       "Age_of_vehicle                        0\n",
       "time_since_claim                      0\n",
       "label                                 0\n",
       "dtype: int64"
      ]
     },
     "execution_count": 110,
     "metadata": {},
     "output_type": "execute_result"
    }
   ],
   "source": [
    "numericals.isna().sum()"
   ]
  },
  {
   "cell_type": "markdown",
   "metadata": {},
   "source": [
    "## Heat map (pearson) for checking the multicollinearity"
   ]
  },
  {
   "cell_type": "code",
   "execution_count": 111,
   "metadata": {},
   "outputs": [
    {
     "data": {
      "image/png": "[encoded data removed]",
      "text/plain": [
       "<Figure size 720x720 with 2 Axes>"
      ]
     },
     "metadata": {},
     "output_type": "display_data"
    }
   ],
   "source": [
    "## checking the correlation of numerical columns with heat map\n",
    "corr_matrix=numericals.corr(method='pearson') # default\n",
    "fig, ax = plt.subplots(figsize=(10, 10))\n",
    "ax = sns.heatmap(corr_matrix, annot=True)\n",
    "plt.show()"
   ]
  },
  {
   "cell_type": "code",
   "execution_count": 112,
   "metadata": {},
   "outputs": [],
   "source": [
    "### Final dataset for using further\n",
    "final_dataset = pd.concat((categoricals,numericals),axis = 1).drop(columns = ['Fraud_Non_fraud'],axis=1)"
   ]
  },
  {
   "cell_type": "code",
   "execution_count": 113,
   "metadata": {},
   "outputs": [
    {
     "data": {
      "text/html": [
       "<div>\n",
       "<style scoped>\n",
       "    .dataframe tbody tr th:only-of-type {\n",
       "        vertical-align: middle;\n",
       "    }\n",
       "\n",
       "    .dataframe tbody tr th {\n",
       "        vertical-align: top;\n",
       "    }\n",
       "\n",
       "    .dataframe thead th {\n",
       "        text-align: right;\n",
       "    }\n",
       "</style>\n",
       "<table border=\"1\" class=\"dataframe\">\n",
       "  <thead>\n",
       "    <tr style=\"text-align: right;\">\n",
       "      <th></th>\n",
       "      <th>claim_causetype_Collision</th>\n",
       "      <th>claim_causetype_Other</th>\n",
       "      <th>claim_causetype_Theft</th>\n",
       "      <th>claim_causetype_Weather</th>\n",
       "      <th>claim_causetype_missing</th>\n",
       "      <th>object_make_BMW</th>\n",
       "      <th>object_make_CITROEN</th>\n",
       "      <th>object_make_OPEL</th>\n",
       "      <th>object_make_OTHER</th>\n",
       "      <th>object_make_RENAULT</th>\n",
       "      <th>...</th>\n",
       "      <th>policy_profitability_Very high</th>\n",
       "      <th>policy_profitability_Very low</th>\n",
       "      <th>claim_location_urban_area</th>\n",
       "      <th>policy_fleet_flag</th>\n",
       "      <th>policy_insured_amount</th>\n",
       "      <th>diff_days_between_claim_occ_report</th>\n",
       "      <th>claim_amount_claimed_total_new</th>\n",
       "      <th>Age_of_vehicle</th>\n",
       "      <th>time_since_claim</th>\n",
       "      <th>label</th>\n",
       "    </tr>\n",
       "  </thead>\n",
       "  <tbody>\n",
       "    <tr>\n",
       "      <th>8380</th>\n",
       "      <td>0</td>\n",
       "      <td>0</td>\n",
       "      <td>0</td>\n",
       "      <td>1</td>\n",
       "      <td>0</td>\n",
       "      <td>0</td>\n",
       "      <td>0</td>\n",
       "      <td>0</td>\n",
       "      <td>1</td>\n",
       "      <td>0</td>\n",
       "      <td>...</td>\n",
       "      <td>0</td>\n",
       "      <td>0</td>\n",
       "      <td>1</td>\n",
       "      <td>0</td>\n",
       "      <td>87167.000000</td>\n",
       "      <td>22.0</td>\n",
       "      <td>2263.0</td>\n",
       "      <td>8.0</td>\n",
       "      <td>12.107025</td>\n",
       "      <td>0</td>\n",
       "    </tr>\n",
       "    <tr>\n",
       "      <th>65865</th>\n",
       "      <td>1</td>\n",
       "      <td>0</td>\n",
       "      <td>0</td>\n",
       "      <td>0</td>\n",
       "      <td>0</td>\n",
       "      <td>0</td>\n",
       "      <td>0</td>\n",
       "      <td>0</td>\n",
       "      <td>0</td>\n",
       "      <td>0</td>\n",
       "      <td>...</td>\n",
       "      <td>0</td>\n",
       "      <td>1</td>\n",
       "      <td>0</td>\n",
       "      <td>0</td>\n",
       "      <td>57917.000000</td>\n",
       "      <td>0.0</td>\n",
       "      <td>70.0</td>\n",
       "      <td>1.0</td>\n",
       "      <td>12.107025</td>\n",
       "      <td>0</td>\n",
       "    </tr>\n",
       "    <tr>\n",
       "      <th>2113</th>\n",
       "      <td>0</td>\n",
       "      <td>1</td>\n",
       "      <td>0</td>\n",
       "      <td>0</td>\n",
       "      <td>0</td>\n",
       "      <td>0</td>\n",
       "      <td>0</td>\n",
       "      <td>0</td>\n",
       "      <td>0</td>\n",
       "      <td>0</td>\n",
       "      <td>...</td>\n",
       "      <td>0</td>\n",
       "      <td>0</td>\n",
       "      <td>0</td>\n",
       "      <td>0</td>\n",
       "      <td>79909.000000</td>\n",
       "      <td>20.0</td>\n",
       "      <td>653.0</td>\n",
       "      <td>10.0</td>\n",
       "      <td>12.107025</td>\n",
       "      <td>0</td>\n",
       "    </tr>\n",
       "    <tr>\n",
       "      <th>27671</th>\n",
       "      <td>1</td>\n",
       "      <td>0</td>\n",
       "      <td>0</td>\n",
       "      <td>0</td>\n",
       "      <td>0</td>\n",
       "      <td>0</td>\n",
       "      <td>0</td>\n",
       "      <td>0</td>\n",
       "      <td>0</td>\n",
       "      <td>1</td>\n",
       "      <td>...</td>\n",
       "      <td>1</td>\n",
       "      <td>0</td>\n",
       "      <td>1</td>\n",
       "      <td>0</td>\n",
       "      <td>60009.746802</td>\n",
       "      <td>0.0</td>\n",
       "      <td>9349.0</td>\n",
       "      <td>0.0</td>\n",
       "      <td>12.107025</td>\n",
       "      <td>0</td>\n",
       "    </tr>\n",
       "    <tr>\n",
       "      <th>13793</th>\n",
       "      <td>0</td>\n",
       "      <td>0</td>\n",
       "      <td>1</td>\n",
       "      <td>0</td>\n",
       "      <td>0</td>\n",
       "      <td>0</td>\n",
       "      <td>1</td>\n",
       "      <td>0</td>\n",
       "      <td>0</td>\n",
       "      <td>0</td>\n",
       "      <td>...</td>\n",
       "      <td>0</td>\n",
       "      <td>0</td>\n",
       "      <td>0</td>\n",
       "      <td>0</td>\n",
       "      <td>74656.000000</td>\n",
       "      <td>14.0</td>\n",
       "      <td>600.0</td>\n",
       "      <td>7.0</td>\n",
       "      <td>12.107025</td>\n",
       "      <td>0</td>\n",
       "    </tr>\n",
       "  </tbody>\n",
       "</table>\n",
       "<p>5 rows × 25 columns</p>\n",
       "</div>"
      ],
      "text/plain": [
       "       claim_causetype_Collision  claim_causetype_Other  \\\n",
       "8380                           0                      0   \n",
       "65865                          1                      0   \n",
       "2113                           0                      1   \n",
       "27671                          1                      0   \n",
       "13793                          0                      0   \n",
       "\n",
       "       claim_causetype_Theft  claim_causetype_Weather  \\\n",
       "8380                       0                        1   \n",
       "65865                      0                        0   \n",
       "2113                       0                        0   \n",
       "27671                      0                        0   \n",
       "13793                      1                        0   \n",
       "\n",
       "       claim_causetype_missing  object_make_BMW  object_make_CITROEN  \\\n",
       "8380                         0                0                    0   \n",
       "65865                        0                0                    0   \n",
       "2113                         0                0                    0   \n",
       "27671                        0                0                    0   \n",
       "13793                        0                0                    1   \n",
       "\n",
       "       object_make_OPEL  object_make_OTHER  object_make_RENAULT  ...  \\\n",
       "8380                  0                  1                    0  ...   \n",
       "65865                 0                  0                    0  ...   \n",
       "2113                  0                  0                    0  ...   \n",
       "27671                 0                  0                    1  ...   \n",
       "13793                 0                  0                    0  ...   \n",
       "\n",
       "       policy_profitability_Very high  policy_profitability_Very low  \\\n",
       "8380                                0                              0   \n",
       "65865                               0                              1   \n",
       "2113                                0                              0   \n",
       "27671                               1                              0   \n",
       "13793                               0                              0   \n",
       "\n",
       "       claim_location_urban_area  policy_fleet_flag  policy_insured_amount  \\\n",
       "8380                           1                  0           87167.000000   \n",
       "65865                          0                  0           57917.000000   \n",
       "2113                           0                  0           79909.000000   \n",
       "27671                          1                  0           60009.746802   \n",
       "13793                          0                  0           74656.000000   \n",
       "\n",
       "       diff_days_between_claim_occ_report  claim_amount_claimed_total_new  \\\n",
       "8380                                 22.0                          2263.0   \n",
       "65865                                 0.0                            70.0   \n",
       "2113                                 20.0                           653.0   \n",
       "27671                                 0.0                          9349.0   \n",
       "13793                                14.0                           600.0   \n",
       "\n",
       "       Age_of_vehicle  time_since_claim  label  \n",
       "8380              8.0         12.107025      0  \n",
       "65865             1.0         12.107025      0  \n",
       "2113             10.0         12.107025      0  \n",
       "27671             0.0         12.107025      0  \n",
       "13793             7.0         12.107025      0  \n",
       "\n",
       "[5 rows x 25 columns]"
      ]
     },
     "execution_count": 113,
     "metadata": {},
     "output_type": "execute_result"
    }
   ],
   "source": [
    "final_dataset.head()"
   ]
  },
  {
   "cell_type": "markdown",
   "metadata": {},
   "source": [
    "## X-Y train test split on the data"
   ]
  },
  {
   "cell_type": "code",
   "execution_count": 114,
   "metadata": {},
   "outputs": [],
   "source": [
    "## Change the label to fraud and non - fraud\n",
    "y = numericals['label']\n",
    "x = pd.concat((categoricals,numericals),axis = 1).drop(columns = ['label','Fraud_Non_fraud'],axis=1)"
   ]
  },
  {
   "cell_type": "code",
   "execution_count": 115,
   "metadata": {},
   "outputs": [
    {
     "data": {
      "text/plain": [
       "(79998, 24)"
      ]
     },
     "execution_count": 115,
     "metadata": {},
     "output_type": "execute_result"
    }
   ],
   "source": [
    "x.shape"
   ]
  },
  {
   "cell_type": "code",
   "execution_count": 116,
   "metadata": {},
   "outputs": [
    {
     "data": {
      "text/plain": [
       "0    79383\n",
       "1      615\n",
       "Name: label, dtype: int64"
      ]
     },
     "execution_count": 116,
     "metadata": {},
     "output_type": "execute_result"
    }
   ],
   "source": [
    "y.value_counts()"
   ]
  },
  {
   "cell_type": "code",
   "execution_count": 117,
   "metadata": {},
   "outputs": [],
   "source": [
    "from sklearn.model_selection import train_test_split\n",
    "\n",
    "X_train, X_test, y_train, y_test = train_test_split(x, y, test_size=0.2, random_state=44)"
   ]
  },
  {
   "cell_type": "markdown",
   "metadata": {},
   "source": [
    "## Logistic Regression on the train_data"
   ]
  },
  {
   "cell_type": "code",
   "execution_count": 118,
   "metadata": {},
   "outputs": [
    {
     "name": "stdout",
     "output_type": "stream",
     "text": [
      "The accuracy of the model on test set is: 0.99 \n",
      "The Kapa of your model is:  0.0\n",
      "              precision    recall  f1-score   support\n",
      "\n",
      "           1       0.00      0.00      0.00       118\n",
      "           0       0.99      1.00      1.00     15882\n",
      "\n",
      "    accuracy                           0.99     16000\n",
      "   macro avg       0.50      0.50      0.50     16000\n",
      "weighted avg       0.99      0.99      0.99     16000\n",
      "\n"
     ]
    },
    {
     "name": "stderr",
     "output_type": "stream",
     "text": [
      "/Users/vikas/opt/anaconda3/lib/python3.7/site-packages/sklearn/metrics/_classification.py:1221: UndefinedMetricWarning: Precision and F-score are ill-defined and being set to 0.0 in labels with no predicted samples. Use `zero_division` parameter to control this behavior.\n",
      "  _warn_prf(average, modifier, msg_start, len(result))\n"
     ]
    },
    {
     "data": {
      "image/png": "[encoded data removed]",
      "text/plain": [
       "<Figure size 432x288 with 2 Axes>"
      ]
     },
     "metadata": {},
     "output_type": "display_data"
    }
   ],
   "source": [
    "classification = LogisticRegression(random_state=0, solver='lbfgs',\n",
    "                  multi_class='ovr').fit(X_train, y_train)\n",
    "\n",
    "predictions = classification.predict(X_test)\n",
    "\n",
    "print(\"The accuracy of the model on test set is: %4.2f \" % accuracy_score(y_test, predictions))\n",
    "print(\"The Kapa of your model is: \",round(cohen_kappa_score(y_test,predictions),3))\n",
    "\n",
    "from sklearn.metrics import classification_report\n",
    "print(classification_report(y_test, predictions, labels=[1,0]))\n",
    "\n",
    "confusion_matrix(y_test, predictions)\n",
    "plot_confusion_matrix(classification, X_test, y_test)  \n",
    "plt.show()"
   ]
  },
  {
   "cell_type": "markdown",
   "metadata": {},
   "source": [
    "## SMOTE- Oversampling"
   ]
  },
  {
   "cell_type": "code",
   "execution_count": 119,
   "metadata": {},
   "outputs": [],
   "source": [
    "## Change the label to fraud and non - fraud\n",
    "y = numericals['label']\n",
    "x = pd.concat((categoricals,numericals),axis = 1).drop(columns = ['label','Fraud_Non_fraud'],axis=1)"
   ]
  },
  {
   "cell_type": "code",
   "execution_count": 120,
   "metadata": {},
   "outputs": [],
   "source": [
    "from sklearn.model_selection import train_test_split\n",
    "\n",
    "X_train, X_test, y_train, y_test = train_test_split(x, y, test_size=0.2, random_state=44)"
   ]
  },
  {
   "cell_type": "code",
   "execution_count": 121,
   "metadata": {},
   "outputs": [
    {
     "data": {
      "text/plain": [
       "0    63501\n",
       "1      497\n",
       "Name: label, dtype: int64"
      ]
     },
     "execution_count": 121,
     "metadata": {},
     "output_type": "execute_result"
    }
   ],
   "source": [
    "y_train.value_counts()"
   ]
  },
  {
   "cell_type": "code",
   "execution_count": 122,
   "metadata": {},
   "outputs": [
    {
     "data": {
      "text/plain": [
       "1    63501\n",
       "0    63501\n",
       "dtype: int64"
      ]
     },
     "execution_count": 122,
     "metadata": {},
     "output_type": "execute_result"
    }
   ],
   "source": [
    "from imblearn.over_sampling import SMOTE\n",
    "smote = SMOTE()\n",
    "\n",
    "X_sm, y_sm = smote.fit_sample(X_train, y_train)\n",
    "y_sm = y_sm.to_numpy()\n",
    "y_sm = pd.Series(data=y_sm.flatten())\n",
    "y_sm.value_counts()"
   ]
  },
  {
   "cell_type": "code",
   "execution_count": 123,
   "metadata": {},
   "outputs": [
    {
     "name": "stdout",
     "output_type": "stream",
     "text": [
      "The accuracy of the logistic_regression model is: 0.07 \n",
      "The kappa of the logistic regression model is: 0.00 \n",
      "              precision    recall  f1-score   support\n",
      "\n",
      "           1       0.01      0.98      0.02       118\n",
      "           0       1.00      0.06      0.11     15882\n",
      "\n",
      "    accuracy                           0.07     16000\n",
      "   macro avg       0.50      0.52      0.06     16000\n",
      "weighted avg       0.99      0.07      0.11     16000\n",
      "\n"
     ]
    },
    {
     "data": {
      "image/png": "[encoded data removed]",
      "text/plain": [
       "<Figure size 432x288 with 2 Axes>"
      ]
     },
     "metadata": {},
     "output_type": "display_data"
    }
   ],
   "source": [
    "\n",
    "\n",
    "classification = LogisticRegression(random_state=0, multi_class='ovr', max_iter=10000).fit(X_sm, y_sm.values.ravel())\n",
    "y_pred = classification.predict(X_test)\n",
    "print(\"The accuracy of the logistic_regression model is: %4.2f \"% (classification.score(X_test, y_test)))\n",
    "\n",
    "from sklearn.metrics import cohen_kappa_score\n",
    "print(\"The kappa of the logistic regression model is: %4.2f \" %(cohen_kappa_score(y_pred,y_test)) )\n",
    "\n",
    "from sklearn.metrics import classification_report\n",
    "print(classification_report(y_test, y_pred, labels=[1,0]))\n",
    "\n",
    "plot_confusion_matrix(classification, X_test, y_test)  # doctest: +SKIP\n",
    "plt.show()"
   ]
  },
  {
   "cell_type": "markdown",
   "metadata": {},
   "source": [
    "## Random Forest Classifer using SMOTE"
   ]
  },
  {
   "cell_type": "code",
   "execution_count": 124,
   "metadata": {},
   "outputs": [],
   "source": [
    "## importing Library\n",
    "from sklearn.ensemble import RandomForestClassifier\n",
    "from sklearn.datasets import make_classification"
   ]
  },
  {
   "cell_type": "code",
   "execution_count": 125,
   "metadata": {},
   "outputs": [],
   "source": [
    "## Taking the X,Y values from smote\n",
    "#X_train, X_test, y_train, y_test = train_test_split(X_sm, y_sm, test_size=0.2, random_state=56)\n",
    "\n",
    "#   svc = SVC(random_state=42)    svc.fit(X_train, y_train)\n",
    "clf = RandomForestClassifier(random_state=56).fit(X_sm, y_sm.values.ravel())"
   ]
  },
  {
   "cell_type": "code",
   "execution_count": 126,
   "metadata": {},
   "outputs": [],
   "source": [
    "predictions = clf.predict(X_test)"
   ]
  },
  {
   "cell_type": "code",
   "execution_count": 127,
   "metadata": {},
   "outputs": [
    {
     "name": "stdout",
     "output_type": "stream",
     "text": [
      "The accuracy of the logistic_regression model is: 0.99 \n",
      "The kappa of the logistic regression model is: -0.01 \n",
      "              precision    recall  f1-score   support\n",
      "\n",
      "           1       0.00      0.00      0.00       118\n",
      "           0       0.99      0.99      0.99     15882\n",
      "\n",
      "    accuracy                           0.99     16000\n",
      "   macro avg       0.50      0.50      0.50     16000\n",
      "weighted avg       0.99      0.99      0.99     16000\n",
      "\n"
     ]
    },
    {
     "data": {
      "image/png": "[encoded data removed]",
      "text/plain": [
       "<Figure size 432x288 with 2 Axes>"
      ]
     },
     "metadata": {},
     "output_type": "display_data"
    },
    {
     "name": "stdout",
     "output_type": "stream",
     "text": [
      "Feature: 0, Score: 0.05096\n",
      "Feature: 1, Score: 0.04951\n",
      "Feature: 2, Score: 0.01428\n",
      "Feature: 3, Score: 0.03496\n",
      "Feature: 4, Score: 0.00000\n",
      "Feature: 5, Score: 0.02466\n",
      "Feature: 6, Score: 0.03776\n",
      "Feature: 7, Score: 0.04688\n",
      "Feature: 8, Score: 0.03562\n",
      "Feature: 9, Score: 0.03293\n",
      "Feature: 10, Score: 0.07289\n",
      "Feature: 11, Score: 0.04686\n",
      "Feature: 12, Score: 0.05256\n",
      "Feature: 13, Score: 0.04294\n",
      "Feature: 14, Score: 0.03504\n",
      "Feature: 15, Score: 0.03531\n",
      "Feature: 16, Score: 0.04543\n",
      "Feature: 17, Score: 0.01663\n",
      "Feature: 18, Score: 0.05700\n",
      "Feature: 19, Score: 0.06511\n",
      "Feature: 20, Score: 0.05918\n",
      "Feature: 21, Score: 0.05562\n",
      "Feature: 22, Score: 0.04993\n",
      "Feature: 23, Score: 0.03794\n"
     ]
    },
    {
     "data": {
      "image/png": "[encoded data removed]",
      "text/plain": [
       "<Figure size 432x288 with 1 Axes>"
      ]
     },
     "metadata": {},
     "output_type": "display_data"
    }
   ],
   "source": [
    "y_pred = clf.predict(X_test)\n",
    "print(\"The accuracy of the logistic_regression model is: %4.2f \"% (clf.score(X_test, y_test)))\n",
    "\n",
    "from sklearn.metrics import cohen_kappa_score\n",
    "print(\"The kappa of the logistic regression model is: %4.2f \" %(cohen_kappa_score(y_pred,y_test)) )\n",
    "\n",
    "from sklearn.metrics import classification_report\n",
    "print(classification_report(y_test, y_pred, labels=[1,0]))\n",
    "\n",
    "plot_confusion_matrix(clf, X_test, y_test)  # doctest: +SKIP\n",
    "plt.show()\n",
    "\n",
    "\n",
    "# get importance\n",
    "\n",
    "importance = clf.feature_importances_\n",
    "\n",
    "# summarize feature importance\n",
    "\n",
    "for i,v in enumerate(importance):\n",
    "\tprint('Feature: %0d, Score: %.5f' % (i,v))\n",
    "    \n",
    "# plot feature importance\n",
    "\n",
    "from matplotlib import pyplot\n",
    "\n",
    "pyplot.bar([x for x in range(len(importance))], importance)\n",
    "pyplot.show()"
   ]
  },
  {
   "cell_type": "code",
   "execution_count": 230,
   "metadata": {},
   "outputs": [
    {
     "data": {
      "text/plain": [
       "(79998, 25)"
      ]
     },
     "execution_count": 230,
     "metadata": {},
     "output_type": "execute_result"
    }
   ],
   "source": [
    "final_dataset.shape"
   ]
  },
  {
   "cell_type": "markdown",
   "metadata": {},
   "source": [
    "## Isolation Forest"
   ]
  },
  {
   "cell_type": "code",
   "execution_count": 128,
   "metadata": {},
   "outputs": [],
   "source": [
    "from sklearn.ensemble import IsolationForest"
   ]
  },
  {
   "cell_type": "code",
   "execution_count": 129,
   "metadata": {},
   "outputs": [],
   "source": [
    "## Trying to seperate the legit cases and fraud cases\n",
    "inliers = final_dataset[final_dataset.label==0]\n",
    "inliers = inliers.drop(['label'], axis=1)\n",
    "outliers = final_dataset[final_dataset.label==1]\n",
    "outliers = outliers.drop(['label'], axis=1)\n",
    "inliers_train, inliers_test = train_test_split(inliers, test_size=0.30, random_state=42)"
   ]
  },
  {
   "cell_type": "code",
   "execution_count": 130,
   "metadata": {},
   "outputs": [
    {
     "data": {
      "text/html": [
       "<div>\n",
       "<style scoped>\n",
       "    .dataframe tbody tr th:only-of-type {\n",
       "        vertical-align: middle;\n",
       "    }\n",
       "\n",
       "    .dataframe tbody tr th {\n",
       "        vertical-align: top;\n",
       "    }\n",
       "\n",
       "    .dataframe thead th {\n",
       "        text-align: right;\n",
       "    }\n",
       "</style>\n",
       "<table border=\"1\" class=\"dataframe\">\n",
       "  <thead>\n",
       "    <tr style=\"text-align: right;\">\n",
       "      <th></th>\n",
       "      <th>claim_causetype_Collision</th>\n",
       "      <th>claim_causetype_Other</th>\n",
       "      <th>claim_causetype_Theft</th>\n",
       "      <th>claim_causetype_Weather</th>\n",
       "      <th>claim_causetype_missing</th>\n",
       "      <th>object_make_BMW</th>\n",
       "      <th>object_make_CITROEN</th>\n",
       "      <th>object_make_OPEL</th>\n",
       "      <th>object_make_OTHER</th>\n",
       "      <th>object_make_RENAULT</th>\n",
       "      <th>...</th>\n",
       "      <th>policy_profitability_Neutral</th>\n",
       "      <th>policy_profitability_Very high</th>\n",
       "      <th>policy_profitability_Very low</th>\n",
       "      <th>claim_location_urban_area</th>\n",
       "      <th>policy_fleet_flag</th>\n",
       "      <th>policy_insured_amount</th>\n",
       "      <th>diff_days_between_claim_occ_report</th>\n",
       "      <th>claim_amount_claimed_total_new</th>\n",
       "      <th>Age_of_vehicle</th>\n",
       "      <th>time_since_claim</th>\n",
       "    </tr>\n",
       "  </thead>\n",
       "  <tbody>\n",
       "    <tr>\n",
       "      <th>27037</th>\n",
       "      <td>0</td>\n",
       "      <td>0</td>\n",
       "      <td>0</td>\n",
       "      <td>0</td>\n",
       "      <td>0</td>\n",
       "      <td>0</td>\n",
       "      <td>0</td>\n",
       "      <td>0</td>\n",
       "      <td>0</td>\n",
       "      <td>0</td>\n",
       "      <td>...</td>\n",
       "      <td>0</td>\n",
       "      <td>1</td>\n",
       "      <td>0</td>\n",
       "      <td>1</td>\n",
       "      <td>0</td>\n",
       "      <td>62301.000000</td>\n",
       "      <td>44.0</td>\n",
       "      <td>3643.0</td>\n",
       "      <td>4.0</td>\n",
       "      <td>11.660746</td>\n",
       "    </tr>\n",
       "    <tr>\n",
       "      <th>37280</th>\n",
       "      <td>1</td>\n",
       "      <td>0</td>\n",
       "      <td>0</td>\n",
       "      <td>0</td>\n",
       "      <td>0</td>\n",
       "      <td>0</td>\n",
       "      <td>1</td>\n",
       "      <td>0</td>\n",
       "      <td>0</td>\n",
       "      <td>0</td>\n",
       "      <td>...</td>\n",
       "      <td>0</td>\n",
       "      <td>0</td>\n",
       "      <td>0</td>\n",
       "      <td>1</td>\n",
       "      <td>0</td>\n",
       "      <td>60009.746802</td>\n",
       "      <td>18.0</td>\n",
       "      <td>447.0</td>\n",
       "      <td>14.0</td>\n",
       "      <td>6.562763</td>\n",
       "    </tr>\n",
       "    <tr>\n",
       "      <th>69183</th>\n",
       "      <td>1</td>\n",
       "      <td>0</td>\n",
       "      <td>0</td>\n",
       "      <td>0</td>\n",
       "      <td>0</td>\n",
       "      <td>0</td>\n",
       "      <td>0</td>\n",
       "      <td>1</td>\n",
       "      <td>0</td>\n",
       "      <td>0</td>\n",
       "      <td>...</td>\n",
       "      <td>0</td>\n",
       "      <td>1</td>\n",
       "      <td>0</td>\n",
       "      <td>0</td>\n",
       "      <td>0</td>\n",
       "      <td>60009.746802</td>\n",
       "      <td>4.0</td>\n",
       "      <td>473.0</td>\n",
       "      <td>2.0</td>\n",
       "      <td>7.671615</td>\n",
       "    </tr>\n",
       "    <tr>\n",
       "      <th>37807</th>\n",
       "      <td>1</td>\n",
       "      <td>0</td>\n",
       "      <td>0</td>\n",
       "      <td>0</td>\n",
       "      <td>0</td>\n",
       "      <td>0</td>\n",
       "      <td>0</td>\n",
       "      <td>0</td>\n",
       "      <td>0</td>\n",
       "      <td>0</td>\n",
       "      <td>...</td>\n",
       "      <td>0</td>\n",
       "      <td>1</td>\n",
       "      <td>0</td>\n",
       "      <td>0</td>\n",
       "      <td>1</td>\n",
       "      <td>60009.746802</td>\n",
       "      <td>33.0</td>\n",
       "      <td>106.0</td>\n",
       "      <td>6.0</td>\n",
       "      <td>7.731849</td>\n",
       "    </tr>\n",
       "    <tr>\n",
       "      <th>36773</th>\n",
       "      <td>0</td>\n",
       "      <td>1</td>\n",
       "      <td>0</td>\n",
       "      <td>0</td>\n",
       "      <td>0</td>\n",
       "      <td>0</td>\n",
       "      <td>0</td>\n",
       "      <td>0</td>\n",
       "      <td>0</td>\n",
       "      <td>0</td>\n",
       "      <td>...</td>\n",
       "      <td>0</td>\n",
       "      <td>0</td>\n",
       "      <td>0</td>\n",
       "      <td>0</td>\n",
       "      <td>1</td>\n",
       "      <td>38280.000000</td>\n",
       "      <td>6.0</td>\n",
       "      <td>21460.0</td>\n",
       "      <td>8.0</td>\n",
       "      <td>9.705880</td>\n",
       "    </tr>\n",
       "  </tbody>\n",
       "</table>\n",
       "<p>5 rows × 24 columns</p>\n",
       "</div>"
      ],
      "text/plain": [
       "       claim_causetype_Collision  claim_causetype_Other  \\\n",
       "27037                          0                      0   \n",
       "37280                          1                      0   \n",
       "69183                          1                      0   \n",
       "37807                          1                      0   \n",
       "36773                          0                      1   \n",
       "\n",
       "       claim_causetype_Theft  claim_causetype_Weather  \\\n",
       "27037                      0                        0   \n",
       "37280                      0                        0   \n",
       "69183                      0                        0   \n",
       "37807                      0                        0   \n",
       "36773                      0                        0   \n",
       "\n",
       "       claim_causetype_missing  object_make_BMW  object_make_CITROEN  \\\n",
       "27037                        0                0                    0   \n",
       "37280                        0                0                    1   \n",
       "69183                        0                0                    0   \n",
       "37807                        0                0                    0   \n",
       "36773                        0                0                    0   \n",
       "\n",
       "       object_make_OPEL  object_make_OTHER  object_make_RENAULT  ...  \\\n",
       "27037                 0                  0                    0  ...   \n",
       "37280                 0                  0                    0  ...   \n",
       "69183                 1                  0                    0  ...   \n",
       "37807                 0                  0                    0  ...   \n",
       "36773                 0                  0                    0  ...   \n",
       "\n",
       "       policy_profitability_Neutral  policy_profitability_Very high  \\\n",
       "27037                             0                               1   \n",
       "37280                             0                               0   \n",
       "69183                             0                               1   \n",
       "37807                             0                               1   \n",
       "36773                             0                               0   \n",
       "\n",
       "       policy_profitability_Very low  claim_location_urban_area  \\\n",
       "27037                              0                          1   \n",
       "37280                              0                          1   \n",
       "69183                              0                          0   \n",
       "37807                              0                          0   \n",
       "36773                              0                          0   \n",
       "\n",
       "       policy_fleet_flag  policy_insured_amount  \\\n",
       "27037                  0           62301.000000   \n",
       "37280                  0           60009.746802   \n",
       "69183                  0           60009.746802   \n",
       "37807                  1           60009.746802   \n",
       "36773                  1           38280.000000   \n",
       "\n",
       "       diff_days_between_claim_occ_report  claim_amount_claimed_total_new  \\\n",
       "27037                                44.0                          3643.0   \n",
       "37280                                18.0                           447.0   \n",
       "69183                                 4.0                           473.0   \n",
       "37807                                33.0                           106.0   \n",
       "36773                                 6.0                         21460.0   \n",
       "\n",
       "       Age_of_vehicle  time_since_claim  \n",
       "27037             4.0         11.660746  \n",
       "37280            14.0          6.562763  \n",
       "69183             2.0          7.671615  \n",
       "37807             6.0          7.731849  \n",
       "36773             8.0          9.705880  \n",
       "\n",
       "[5 rows x 24 columns]"
      ]
     },
     "execution_count": 130,
     "metadata": {},
     "output_type": "execute_result"
    }
   ],
   "source": [
    "inliers_train.head()"
   ]
  },
  {
   "cell_type": "code",
   "execution_count": 131,
   "metadata": {},
   "outputs": [
    {
     "data": {
      "text/plain": [
       "(55568, 24)"
      ]
     },
     "execution_count": 131,
     "metadata": {},
     "output_type": "execute_result"
    }
   ],
   "source": [
    "inliers_train.shape"
   ]
  },
  {
   "cell_type": "code",
   "execution_count": 213,
   "metadata": {},
   "outputs": [
    {
     "data": {
      "text/html": [
       "<div>\n",
       "<style scoped>\n",
       "    .dataframe tbody tr th:only-of-type {\n",
       "        vertical-align: middle;\n",
       "    }\n",
       "\n",
       "    .dataframe tbody tr th {\n",
       "        vertical-align: top;\n",
       "    }\n",
       "\n",
       "    .dataframe thead th {\n",
       "        text-align: right;\n",
       "    }\n",
       "</style>\n",
       "<table border=\"1\" class=\"dataframe\">\n",
       "  <thead>\n",
       "    <tr style=\"text-align: right;\">\n",
       "      <th></th>\n",
       "      <th>claim_causetype_Collision</th>\n",
       "      <th>claim_causetype_Other</th>\n",
       "      <th>claim_causetype_Theft</th>\n",
       "      <th>claim_causetype_Weather</th>\n",
       "      <th>claim_causetype_missing</th>\n",
       "      <th>object_make_BMW</th>\n",
       "      <th>object_make_CITROEN</th>\n",
       "      <th>object_make_OPEL</th>\n",
       "      <th>object_make_OTHER</th>\n",
       "      <th>object_make_RENAULT</th>\n",
       "      <th>...</th>\n",
       "      <th>policy_profitability_Neutral</th>\n",
       "      <th>policy_profitability_Very high</th>\n",
       "      <th>policy_profitability_Very low</th>\n",
       "      <th>claim_location_urban_area</th>\n",
       "      <th>policy_fleet_flag</th>\n",
       "      <th>policy_insured_amount</th>\n",
       "      <th>diff_days_between_claim_occ_report</th>\n",
       "      <th>claim_amount_claimed_total_new</th>\n",
       "      <th>Age_of_vehicle</th>\n",
       "      <th>time_since_claim</th>\n",
       "    </tr>\n",
       "  </thead>\n",
       "  <tbody>\n",
       "    <tr>\n",
       "      <th>76083</th>\n",
       "      <td>1</td>\n",
       "      <td>0</td>\n",
       "      <td>0</td>\n",
       "      <td>0</td>\n",
       "      <td>0</td>\n",
       "      <td>0</td>\n",
       "      <td>0</td>\n",
       "      <td>0</td>\n",
       "      <td>0</td>\n",
       "      <td>0</td>\n",
       "      <td>...</td>\n",
       "      <td>0</td>\n",
       "      <td>0</td>\n",
       "      <td>0</td>\n",
       "      <td>1</td>\n",
       "      <td>0</td>\n",
       "      <td>60009.746802</td>\n",
       "      <td>5.0</td>\n",
       "      <td>375.0</td>\n",
       "      <td>1.0</td>\n",
       "      <td>10.874967</td>\n",
       "    </tr>\n",
       "    <tr>\n",
       "      <th>65522</th>\n",
       "      <td>0</td>\n",
       "      <td>0</td>\n",
       "      <td>0</td>\n",
       "      <td>1</td>\n",
       "      <td>0</td>\n",
       "      <td>0</td>\n",
       "      <td>1</td>\n",
       "      <td>0</td>\n",
       "      <td>0</td>\n",
       "      <td>0</td>\n",
       "      <td>...</td>\n",
       "      <td>0</td>\n",
       "      <td>1</td>\n",
       "      <td>0</td>\n",
       "      <td>0</td>\n",
       "      <td>0</td>\n",
       "      <td>60009.746802</td>\n",
       "      <td>67.0</td>\n",
       "      <td>202.0</td>\n",
       "      <td>5.0</td>\n",
       "      <td>8.241100</td>\n",
       "    </tr>\n",
       "    <tr>\n",
       "      <th>62455</th>\n",
       "      <td>0</td>\n",
       "      <td>1</td>\n",
       "      <td>0</td>\n",
       "      <td>0</td>\n",
       "      <td>0</td>\n",
       "      <td>0</td>\n",
       "      <td>0</td>\n",
       "      <td>1</td>\n",
       "      <td>0</td>\n",
       "      <td>0</td>\n",
       "      <td>...</td>\n",
       "      <td>1</td>\n",
       "      <td>0</td>\n",
       "      <td>0</td>\n",
       "      <td>1</td>\n",
       "      <td>0</td>\n",
       "      <td>60009.746802</td>\n",
       "      <td>3.0</td>\n",
       "      <td>4324.0</td>\n",
       "      <td>0.0</td>\n",
       "      <td>11.608726</td>\n",
       "    </tr>\n",
       "    <tr>\n",
       "      <th>58411</th>\n",
       "      <td>1</td>\n",
       "      <td>0</td>\n",
       "      <td>0</td>\n",
       "      <td>0</td>\n",
       "      <td>0</td>\n",
       "      <td>0</td>\n",
       "      <td>0</td>\n",
       "      <td>0</td>\n",
       "      <td>0</td>\n",
       "      <td>0</td>\n",
       "      <td>...</td>\n",
       "      <td>1</td>\n",
       "      <td>0</td>\n",
       "      <td>0</td>\n",
       "      <td>0</td>\n",
       "      <td>0</td>\n",
       "      <td>60009.746802</td>\n",
       "      <td>8.0</td>\n",
       "      <td>203.0</td>\n",
       "      <td>1.0</td>\n",
       "      <td>11.833234</td>\n",
       "    </tr>\n",
       "    <tr>\n",
       "      <th>23503</th>\n",
       "      <td>1</td>\n",
       "      <td>0</td>\n",
       "      <td>0</td>\n",
       "      <td>0</td>\n",
       "      <td>0</td>\n",
       "      <td>0</td>\n",
       "      <td>0</td>\n",
       "      <td>0</td>\n",
       "      <td>0</td>\n",
       "      <td>0</td>\n",
       "      <td>...</td>\n",
       "      <td>1</td>\n",
       "      <td>0</td>\n",
       "      <td>0</td>\n",
       "      <td>1</td>\n",
       "      <td>1</td>\n",
       "      <td>58857.000000</td>\n",
       "      <td>4.0</td>\n",
       "      <td>68.0</td>\n",
       "      <td>2.0</td>\n",
       "      <td>9.963244</td>\n",
       "    </tr>\n",
       "  </tbody>\n",
       "</table>\n",
       "<p>5 rows × 24 columns</p>\n",
       "</div>"
      ],
      "text/plain": [
       "       claim_causetype_Collision  claim_causetype_Other  \\\n",
       "76083                          1                      0   \n",
       "65522                          0                      0   \n",
       "62455                          0                      1   \n",
       "58411                          1                      0   \n",
       "23503                          1                      0   \n",
       "\n",
       "       claim_causetype_Theft  claim_causetype_Weather  \\\n",
       "76083                      0                        0   \n",
       "65522                      0                        1   \n",
       "62455                      0                        0   \n",
       "58411                      0                        0   \n",
       "23503                      0                        0   \n",
       "\n",
       "       claim_causetype_missing  object_make_BMW  object_make_CITROEN  \\\n",
       "76083                        0                0                    0   \n",
       "65522                        0                0                    1   \n",
       "62455                        0                0                    0   \n",
       "58411                        0                0                    0   \n",
       "23503                        0                0                    0   \n",
       "\n",
       "       object_make_OPEL  object_make_OTHER  object_make_RENAULT  ...  \\\n",
       "76083                 0                  0                    0  ...   \n",
       "65522                 0                  0                    0  ...   \n",
       "62455                 1                  0                    0  ...   \n",
       "58411                 0                  0                    0  ...   \n",
       "23503                 0                  0                    0  ...   \n",
       "\n",
       "       policy_profitability_Neutral  policy_profitability_Very high  \\\n",
       "76083                             0                               0   \n",
       "65522                             0                               1   \n",
       "62455                             1                               0   \n",
       "58411                             1                               0   \n",
       "23503                             1                               0   \n",
       "\n",
       "       policy_profitability_Very low  claim_location_urban_area  \\\n",
       "76083                              0                          1   \n",
       "65522                              0                          0   \n",
       "62455                              0                          1   \n",
       "58411                              0                          0   \n",
       "23503                              0                          1   \n",
       "\n",
       "       policy_fleet_flag  policy_insured_amount  \\\n",
       "76083                  0           60009.746802   \n",
       "65522                  0           60009.746802   \n",
       "62455                  0           60009.746802   \n",
       "58411                  0           60009.746802   \n",
       "23503                  1           58857.000000   \n",
       "\n",
       "       diff_days_between_claim_occ_report  claim_amount_claimed_total_new  \\\n",
       "76083                                 5.0                           375.0   \n",
       "65522                                67.0                           202.0   \n",
       "62455                                 3.0                          4324.0   \n",
       "58411                                 8.0                           203.0   \n",
       "23503                                 4.0                            68.0   \n",
       "\n",
       "       Age_of_vehicle  time_since_claim  \n",
       "76083             1.0         10.874967  \n",
       "65522             5.0          8.241100  \n",
       "62455             0.0         11.608726  \n",
       "58411             1.0         11.833234  \n",
       "23503             2.0          9.963244  \n",
       "\n",
       "[5 rows x 24 columns]"
      ]
     },
     "execution_count": 213,
     "metadata": {},
     "output_type": "execute_result"
    }
   ],
   "source": [
    "inliers_test.head()"
   ]
  },
  {
   "cell_type": "code",
   "execution_count": 133,
   "metadata": {},
   "outputs": [
    {
     "data": {
      "text/plain": [
       "(23815, 24)"
      ]
     },
     "execution_count": 133,
     "metadata": {},
     "output_type": "execute_result"
    }
   ],
   "source": [
    "inliers_test.shape"
   ]
  },
  {
   "cell_type": "code",
   "execution_count": 211,
   "metadata": {},
   "outputs": [],
   "source": [
    "## using the model to predict the accuracy of legit cases and fraud cases\n",
    "model = IsolationForest()\n",
    "model.fit(inliers_train)\n",
    "inlier_pred_test = model.predict(inliers_test)\n",
    "outlier_pred = model.predict(outliers)"
   ]
  },
  {
   "cell_type": "code",
   "execution_count": 212,
   "metadata": {
    "scrolled": true
   },
   "outputs": [
    {
     "name": "stdout",
     "output_type": "stream",
     "text": [
      "Accuracy in Detecting Legit Cases: 0.6516901112744069\n",
      "Accuracy in Detecting Fraud Cases: 0.416260162601626\n"
     ]
    }
   ],
   "source": [
    "print(\"Accuracy in Detecting Legit Cases:\", list(inlier_pred_test).count(1)/inlier_pred_test.shape[0])\n",
    "print(\"Accuracy in Detecting Fraud Cases:\", list(outlier_pred).count(-1)/outlier_pred.shape[0])"
   ]
  },
  {
   "cell_type": "code",
   "execution_count": 219,
   "metadata": {},
   "outputs": [
    {
     "name": "stdout",
     "output_type": "stream",
     "text": [
      "              precision    recall  f1-score   support\n",
      "\n",
      "           1       0.00      0.00      0.00         0\n",
      "          -1       1.00      0.42      0.59       615\n",
      "\n",
      "    accuracy                           0.42       615\n",
      "   macro avg       0.50      0.21      0.29       615\n",
      "weighted avg       1.00      0.42      0.59       615\n",
      "\n"
     ]
    }
   ],
   "source": [
    "print(classification_report(np.ones(615)* -1,outlier_pred, labels=[1,-1]))"
   ]
  },
  {
   "cell_type": "code",
   "execution_count": 228,
   "metadata": {},
   "outputs": [],
   "source": [
    "#Checking the model with validation set\n",
    "validation_data = pd.read_csv('validation_dataset_dummified.csv')"
   ]
  },
  {
   "cell_type": "code",
   "execution_count": 233,
   "metadata": {},
   "outputs": [],
   "source": [
    "validation_data = validation_data.drop('Unnamed: 0',axis=1)"
   ]
  },
  {
   "cell_type": "code",
   "execution_count": 234,
   "metadata": {},
   "outputs": [
    {
     "data": {
      "text/plain": [
       "(20000, 25)"
      ]
     },
     "execution_count": 234,
     "metadata": {},
     "output_type": "execute_result"
    }
   ],
   "source": [
    "validation_data.shape"
   ]
  },
  {
   "cell_type": "code",
   "execution_count": 235,
   "metadata": {},
   "outputs": [],
   "source": [
    "checking = model.predict(validation_data.drop('label',axis = 1))"
   ]
  },
  {
   "cell_type": "code",
   "execution_count": 237,
   "metadata": {},
   "outputs": [
    {
     "data": {
      "text/plain": [
       "array([ 1,  1,  1, ...,  1,  1, -1])"
      ]
     },
     "execution_count": 237,
     "metadata": {},
     "output_type": "execute_result"
    }
   ],
   "source": [
    "checking"
   ]
  },
  {
   "cell_type": "code",
   "execution_count": 243,
   "metadata": {},
   "outputs": [],
   "source": [
    "y_test = validation_data['label'].apply(lambda x: -1 if x == 1 else 1)"
   ]
  },
  {
   "cell_type": "code",
   "execution_count": 244,
   "metadata": {},
   "outputs": [
    {
     "data": {
      "text/plain": [
       " 1    19864\n",
       "-1      136\n",
       "Name: label, dtype: int64"
      ]
     },
     "execution_count": 244,
     "metadata": {},
     "output_type": "execute_result"
    }
   ],
   "source": [
    "y_test.value_counts()"
   ]
  },
  {
   "cell_type": "code",
   "execution_count": 245,
   "metadata": {},
   "outputs": [
    {
     "name": "stdout",
     "output_type": "stream",
     "text": [
      "              precision    recall  f1-score   support\n",
      "\n",
      "          -1       0.01      0.46      0.02       136\n",
      "           1       0.99      0.63      0.77     19864\n",
      "\n",
      "    accuracy                           0.62     20000\n",
      "   macro avg       0.50      0.54      0.39     20000\n",
      "weighted avg       0.99      0.62      0.76     20000\n",
      "\n"
     ]
    }
   ],
   "source": [
    "print(classification_report(y_test,checking))"
   ]
  },
  {
   "cell_type": "code",
   "execution_count": null,
   "metadata": {},
   "outputs": [],
   "source": [
    "## 46 % are really frauds"
   ]
  },
  {
   "cell_type": "markdown",
   "metadata": {},
   "source": [
    "## LocalOutlierfactor"
   ]
  },
  {
   "cell_type": "code",
   "execution_count": 136,
   "metadata": {},
   "outputs": [],
   "source": [
    "## using Localoutlierfactor for prediction\n",
    "from sklearn.neighbors import LocalOutlierFactor\n",
    "\n",
    "model = LocalOutlierFactor(novelty=True)\n",
    "model.fit(inliers_train)\n",
    "inlier_pred_test = model.predict(inliers_test)\n",
    "outlier_pred = model.predict(outliers)"
   ]
  },
  {
   "cell_type": "code",
   "execution_count": 137,
   "metadata": {},
   "outputs": [
    {
     "name": "stdout",
     "output_type": "stream",
     "text": [
      "Accuracy in Detecting Legit Cases: 0.975015746378333\n",
      "Accuracy in Detecting Fraud Cases: 0.032520325203252036\n"
     ]
    }
   ],
   "source": [
    "print(\"Accuracy in Detecting Legit Cases:\", list(inlier_pred_test).count(1)/inlier_pred_test.shape[0])\n",
    "print(\"Accuracy in Detecting Fraud Cases:\", list(outlier_pred).count(-1)/outlier_pred.shape[0])"
   ]
  },
  {
   "cell_type": "markdown",
   "metadata": {},
   "source": [
    "## Tranforming the data using standard scaler"
   ]
  },
  {
   "cell_type": "code",
   "execution_count": 138,
   "metadata": {},
   "outputs": [],
   "source": [
    "## Change the label to fraud and non - fraud\n",
    "y = numericals['label']\n",
    "x = pd.concat((categoricals,numericals),axis = 1).drop(columns = ['label','Fraud_Non_fraud'],axis=1)"
   ]
  },
  {
   "cell_type": "code",
   "execution_count": 139,
   "metadata": {},
   "outputs": [],
   "source": [
    "## standard scaler\n",
    "from sklearn.preprocessing import StandardScaler\n",
    "transformer = StandardScaler().fit(x)\n",
    "scaled_x = transformer.transform(x)"
   ]
  },
  {
   "cell_type": "code",
   "execution_count": 140,
   "metadata": {},
   "outputs": [
    {
     "name": "stdout",
     "output_type": "stream",
     "text": [
      "The accuracy of the logistic_regression model is: 0.99  \n",
      "\n",
      "The kappa of the logistic regression model is: 0.00  \n",
      "\n",
      "              precision    recall  f1-score   support\n",
      "\n",
      "           0       0.99      1.00      1.00     15868\n",
      "           1       0.00      0.00      0.00       132\n",
      "\n",
      "    accuracy                           0.99     16000\n",
      "   macro avg       0.50      0.50      0.50     16000\n",
      "weighted avg       0.98      0.99      0.99     16000\n",
      "\n"
     ]
    },
    {
     "name": "stderr",
     "output_type": "stream",
     "text": [
      "/Users/vikas/opt/anaconda3/lib/python3.7/site-packages/sklearn/metrics/_classification.py:1221: UndefinedMetricWarning: Precision and F-score are ill-defined and being set to 0.0 in labels with no predicted samples. Use `zero_division` parameter to control this behavior.\n",
      "  _warn_prf(average, modifier, msg_start, len(result))\n"
     ]
    },
    {
     "data": {
      "image/png": "[encoded data removed]",
      "text/plain": [
       "<Figure size 432x288 with 2 Axes>"
      ]
     },
     "metadata": {},
     "output_type": "display_data"
    }
   ],
   "source": [
    "X_train_scale, X_test_scale, y_train_scale, y_test_scale = train_test_split(scaled_x, y, test_size=0.2, random_state=100)\n",
    "\n",
    "reg_scale = LogisticRegression(random_state=0, solver='lbfgs', multi_class='ovr').fit(X_train_scale, y_train_scale)\n",
    "y_pred_scale = reg_scale.predict(X_test_scale)\n",
    "\n",
    "print(\"The accuracy of the logistic_regression model is: %4.2f \"% (reg_scale.score(X_test_scale, y_test_scale)),'\\n')\n",
    "print(\"The kappa of the logistic regression model is: %4.2f \" %(cohen_kappa_score(y_pred_scale,y_test_scale)),'\\n' )\n",
    "print(classification_report(y_test_scale,y_pred_scale))\n",
    "confusion_matrix(y_test, predictions)\n",
    "plot_confusion_matrix(classification, X_test, y_test)  \n",
    "plt.show()"
   ]
  },
  {
   "cell_type": "markdown",
   "metadata": {},
   "source": [
    "## KNN-Model using smote data"
   ]
  },
  {
   "cell_type": "code",
   "execution_count": 141,
   "metadata": {},
   "outputs": [],
   "source": [
    "from sklearn.neighbors import KNeighborsClassifier\n",
    "from sklearn.model_selection import cross_val_score\n",
    "\n",
    "neighbors = list(range(1,9,2)) # Creating odd list K for KNN, avoiding evens incase of ties\n",
    "\n",
    "cv_scores = [ ] #list that will hold cv scores"
   ]
  },
  {
   "cell_type": "code",
   "execution_count": 142,
   "metadata": {},
   "outputs": [],
   "source": [
    "X_train, X_test, y_train, y_test = train_test_split(X_sm, y_sm, test_size=0.2, random_state=56)"
   ]
  },
  {
   "cell_type": "code",
   "execution_count": 143,
   "metadata": {},
   "outputs": [
    {
     "data": {
      "text/plain": [
       "<function matplotlib.pyplot.show(*args, **kw)>"
      ]
     },
     "execution_count": 143,
     "metadata": {},
     "output_type": "execute_result"
    },
    {
     "data": {
      "image/png": "[encoded data removed]",
      "text/plain": [
       "<Figure size 432x288 with 1 Axes>"
      ]
     },
     "metadata": {},
     "output_type": "display_data"
    }
   ],
   "source": [
    "#perform 10-fold cross-validation\n",
    "for K in neighbors:\n",
    "    knn = KNeighborsClassifier(n_neighbors = K)\n",
    "    scores = cross_val_score(knn,X_sm,y_sm.values.ravel(),cv = 10,scoring =\"accuracy\")\n",
    "    cv_scores.append(scores.mean())\n",
    "    #Plot the cv_scores results\n",
    "sns.lineplot(x = neighbors, y = cv_scores)\n",
    "plt.ylim(0.5,1)\n",
    "plt.show"
   ]
  },
  {
   "cell_type": "code",
   "execution_count": 144,
   "metadata": {},
   "outputs": [],
   "source": [
    "neigh = KNeighborsClassifier(n_neighbors=1).fit(X_sm, y_sm.values.ravel())"
   ]
  },
  {
   "cell_type": "code",
   "execution_count": 145,
   "metadata": {},
   "outputs": [
    {
     "name": "stdout",
     "output_type": "stream",
     "text": [
      "The accuracy of the logistic_regression model is: 1.00 \n",
      "The kappa of the logistic regression model is: 1.00 \n",
      "              precision    recall  f1-score   support\n",
      "\n",
      "           1       1.00      1.00      1.00     12814\n",
      "           0       1.00      1.00      1.00     12587\n",
      "\n",
      "    accuracy                           1.00     25401\n",
      "   macro avg       1.00      1.00      1.00     25401\n",
      "weighted avg       1.00      1.00      1.00     25401\n",
      "\n"
     ]
    },
    {
     "data": {
      "image/png": "[encoded data removed]",
      "text/plain": [
       "<Figure size 432x288 with 2 Axes>"
      ]
     },
     "metadata": {},
     "output_type": "display_data"
    }
   ],
   "source": [
    "y_pred = neigh.predict(X_test)\n",
    "print(\"The accuracy of the logistic_regression model is: %4.2f \"% (neigh.score(X_test, y_test)))\n",
    "\n",
    "from sklearn.metrics import cohen_kappa_score\n",
    "print(\"The kappa of the logistic regression model is: %4.2f \" %(cohen_kappa_score(y_pred,y_test)) )\n",
    "\n",
    "from sklearn.metrics import classification_report\n",
    "print(classification_report(y_test, y_pred, labels=[1,0]))\n",
    "\n",
    "plot_confusion_matrix(clf, X_test, y_test)  # doctest: +SKIP\n",
    "plt.show()"
   ]
  },
  {
   "cell_type": "markdown",
   "metadata": {},
   "source": [
    "## Using the validation data"
   ]
  },
  {
   "cell_type": "code",
   "execution_count": 152,
   "metadata": {},
   "outputs": [
    {
     "data": {
      "text/plain": [
       "(79998, 18)"
      ]
     },
     "execution_count": 152,
     "metadata": {},
     "output_type": "execute_result"
    }
   ],
   "source": [
    "train_data.shape"
   ]
  },
  {
   "cell_type": "code",
   "execution_count": 153,
   "metadata": {},
   "outputs": [
    {
     "data": {
      "text/plain": [
       "Index(['sys_claimid', 'claim_causetype', 'claim_location_urban_area',\n",
       "       'object_make', 'ph_firstname', 'ph_gender', 'ph_name',\n",
       "       'policy_fleet_flag', 'policy_insured_amount', 'policy_profitability',\n",
       "       'len_claimid', 'diff_days_between_claim_occ_report',\n",
       "       'claim_amount_claimed_total_new', 'is_duplicate', 'Age_of_vehicle',\n",
       "       'time_since_claim', 'label', 'Fraud'],\n",
       "      dtype='object')"
      ]
     },
     "execution_count": 153,
     "metadata": {},
     "output_type": "execute_result"
    }
   ],
   "source": [
    "train_data.columns"
   ]
  },
  {
   "cell_type": "code",
   "execution_count": 156,
   "metadata": {},
   "outputs": [],
   "source": [
    "col_to_drop = ['len_claimid','Fraud','is_duplicate']"
   ]
  },
  {
   "cell_type": "code",
   "execution_count": 158,
   "metadata": {},
   "outputs": [],
   "source": [
    "train_data.drop(columns = col_to_drop ,axis=1,inplace=True)"
   ]
  },
  {
   "cell_type": "code",
   "execution_count": 159,
   "metadata": {},
   "outputs": [
    {
     "data": {
      "text/plain": [
       "(79998, 15)"
      ]
     },
     "execution_count": 159,
     "metadata": {},
     "output_type": "execute_result"
    }
   ],
   "source": [
    "train_data.shape"
   ]
  },
  {
   "cell_type": "code",
   "execution_count": 185,
   "metadata": {},
   "outputs": [],
   "source": [
    "## Converting dataframe into csv file\n",
    "train_data.to_csv('data_for_analysis.csv')"
   ]
  },
  {
   "cell_type": "code",
   "execution_count": 223,
   "metadata": {},
   "outputs": [],
   "source": [
    "val_data = pd.read_csv('cleaned_validation_data.csv')"
   ]
  },
  {
   "cell_type": "code",
   "execution_count": 224,
   "metadata": {},
   "outputs": [
    {
     "data": {
      "text/html": [
       "<div>\n",
       "<style scoped>\n",
       "    .dataframe tbody tr th:only-of-type {\n",
       "        vertical-align: middle;\n",
       "    }\n",
       "\n",
       "    .dataframe tbody tr th {\n",
       "        vertical-align: top;\n",
       "    }\n",
       "\n",
       "    .dataframe thead th {\n",
       "        text-align: right;\n",
       "    }\n",
       "</style>\n",
       "<table border=\"1\" class=\"dataframe\">\n",
       "  <thead>\n",
       "    <tr style=\"text-align: right;\">\n",
       "      <th></th>\n",
       "      <th>Unnamed: 0</th>\n",
       "      <th>sys_claimid</th>\n",
       "      <th>claim_causetype</th>\n",
       "      <th>claim_location_urban_area</th>\n",
       "      <th>object_make</th>\n",
       "      <th>ph_firstname</th>\n",
       "      <th>ph_gender</th>\n",
       "      <th>ph_name</th>\n",
       "      <th>policy_fleet_flag</th>\n",
       "      <th>policy_insured_amount</th>\n",
       "      <th>policy_profitability</th>\n",
       "      <th>label</th>\n",
       "      <th>diff_days_between_claim_occ_report</th>\n",
       "      <th>claim_amount_claimed_total_new</th>\n",
       "      <th>Age_of_vehicle</th>\n",
       "      <th>time_since_claim</th>\n",
       "    </tr>\n",
       "  </thead>\n",
       "  <tbody>\n",
       "    <tr>\n",
       "      <th>0</th>\n",
       "      <td>4493</td>\n",
       "      <td>MTR-845197269-02</td>\n",
       "      <td>Animals</td>\n",
       "      <td>0</td>\n",
       "      <td>VOLKSWAGEN</td>\n",
       "      <td>Simon</td>\n",
       "      <td>M</td>\n",
       "      <td>Baker</td>\n",
       "      <td>1</td>\n",
       "      <td>43777.0</td>\n",
       "      <td>High</td>\n",
       "      <td>0</td>\n",
       "      <td>6.0</td>\n",
       "      <td>9388.0</td>\n",
       "      <td>4.0</td>\n",
       "      <td>10.160373</td>\n",
       "    </tr>\n",
       "    <tr>\n",
       "      <th>1</th>\n",
       "      <td>708</td>\n",
       "      <td>MTR-277591109-02</td>\n",
       "      <td>Collision</td>\n",
       "      <td>0</td>\n",
       "      <td>AUDI</td>\n",
       "      <td>Melissa</td>\n",
       "      <td>other</td>\n",
       "      <td>Newcomb</td>\n",
       "      <td>0</td>\n",
       "      <td>NaN</td>\n",
       "      <td>High</td>\n",
       "      <td>0</td>\n",
       "      <td>6.0</td>\n",
       "      <td>360.0</td>\n",
       "      <td>5.0</td>\n",
       "      <td>10.160373</td>\n",
       "    </tr>\n",
       "    <tr>\n",
       "      <th>2</th>\n",
       "      <td>18898</td>\n",
       "      <td>MTR-783277250-02</td>\n",
       "      <td>Collision</td>\n",
       "      <td>0</td>\n",
       "      <td>OTHER</td>\n",
       "      <td>Kathy</td>\n",
       "      <td>F</td>\n",
       "      <td>Thapa</td>\n",
       "      <td>0</td>\n",
       "      <td>59590.0</td>\n",
       "      <td>Low</td>\n",
       "      <td>0</td>\n",
       "      <td>0.0</td>\n",
       "      <td>9349.0</td>\n",
       "      <td>0.0</td>\n",
       "      <td>10.160373</td>\n",
       "    </tr>\n",
       "    <tr>\n",
       "      <th>3</th>\n",
       "      <td>4646</td>\n",
       "      <td>MTR-128255363-02</td>\n",
       "      <td>Collision</td>\n",
       "      <td>1</td>\n",
       "      <td>OPEL</td>\n",
       "      <td>Christian</td>\n",
       "      <td>other</td>\n",
       "      <td>Graham</td>\n",
       "      <td>1</td>\n",
       "      <td>50808.0</td>\n",
       "      <td>Very high</td>\n",
       "      <td>0</td>\n",
       "      <td>2.0</td>\n",
       "      <td>4063.0</td>\n",
       "      <td>1.0</td>\n",
       "      <td>10.160373</td>\n",
       "    </tr>\n",
       "    <tr>\n",
       "      <th>4</th>\n",
       "      <td>14657</td>\n",
       "      <td>MTR-251228076-02</td>\n",
       "      <td>Collision</td>\n",
       "      <td>0</td>\n",
       "      <td>VOLKSWAGEN</td>\n",
       "      <td>Jonathan</td>\n",
       "      <td>M</td>\n",
       "      <td>Ortega</td>\n",
       "      <td>0</td>\n",
       "      <td>NaN</td>\n",
       "      <td>Very high</td>\n",
       "      <td>0</td>\n",
       "      <td>1.0</td>\n",
       "      <td>79.0</td>\n",
       "      <td>0.0</td>\n",
       "      <td>10.160373</td>\n",
       "    </tr>\n",
       "  </tbody>\n",
       "</table>\n",
       "</div>"
      ],
      "text/plain": [
       "   Unnamed: 0       sys_claimid claim_causetype  claim_location_urban_area  \\\n",
       "0        4493  MTR-845197269-02         Animals                          0   \n",
       "1         708  MTR-277591109-02       Collision                          0   \n",
       "2       18898  MTR-783277250-02       Collision                          0   \n",
       "3        4646  MTR-128255363-02       Collision                          1   \n",
       "4       14657  MTR-251228076-02       Collision                          0   \n",
       "\n",
       "  object_make ph_firstname ph_gender  ph_name  policy_fleet_flag  \\\n",
       "0  VOLKSWAGEN        Simon         M    Baker                  1   \n",
       "1        AUDI      Melissa     other  Newcomb                  0   \n",
       "2       OTHER        Kathy         F    Thapa                  0   \n",
       "3        OPEL    Christian     other   Graham                  1   \n",
       "4  VOLKSWAGEN     Jonathan         M   Ortega                  0   \n",
       "\n",
       "   policy_insured_amount policy_profitability  label  \\\n",
       "0                43777.0                 High      0   \n",
       "1                    NaN                 High      0   \n",
       "2                59590.0                  Low      0   \n",
       "3                50808.0            Very high      0   \n",
       "4                    NaN            Very high      0   \n",
       "\n",
       "   diff_days_between_claim_occ_report  claim_amount_claimed_total_new  \\\n",
       "0                                 6.0                          9388.0   \n",
       "1                                 6.0                           360.0   \n",
       "2                                 0.0                          9349.0   \n",
       "3                                 2.0                          4063.0   \n",
       "4                                 1.0                            79.0   \n",
       "\n",
       "   Age_of_vehicle  time_since_claim  \n",
       "0             4.0         10.160373  \n",
       "1             5.0         10.160373  \n",
       "2             0.0         10.160373  \n",
       "3             1.0         10.160373  \n",
       "4             0.0         10.160373  "
      ]
     },
     "execution_count": 224,
     "metadata": {},
     "output_type": "execute_result"
    }
   ],
   "source": [
    "val_data.head()"
   ]
  },
  {
   "cell_type": "code",
   "execution_count": 225,
   "metadata": {},
   "outputs": [
    {
     "data": {
      "text/plain": [
       "Index(['Unnamed: 0', 'sys_claimid', 'claim_causetype',\n",
       "       'claim_location_urban_area', 'object_make', 'ph_firstname', 'ph_gender',\n",
       "       'ph_name', 'policy_fleet_flag', 'policy_insured_amount',\n",
       "       'policy_profitability', 'label', 'diff_days_between_claim_occ_report',\n",
       "       'claim_amount_claimed_total_new', 'Age_of_vehicle', 'time_since_claim'],\n",
       "      dtype='object')"
      ]
     },
     "execution_count": 225,
     "metadata": {},
     "output_type": "execute_result"
    }
   ],
   "source": [
    "val_data.columns"
   ]
  },
  {
   "cell_type": "code",
   "execution_count": 226,
   "metadata": {},
   "outputs": [],
   "source": [
    "val_data = val_data.drop('Unnamed: 0',axis=1)"
   ]
  },
  {
   "cell_type": "code",
   "execution_count": 227,
   "metadata": {},
   "outputs": [
    {
     "data": {
      "text/plain": [
       "(20000, 15)"
      ]
     },
     "execution_count": 227,
     "metadata": {},
     "output_type": "execute_result"
    }
   ],
   "source": [
    "val_data.shape"
   ]
  },
  {
   "cell_type": "markdown",
   "metadata": {},
   "source": [
    "## LightGBM"
   ]
  },
  {
   "cell_type": "code",
   "execution_count": null,
   "metadata": {},
   "outputs": [],
   "source": [
    "pip install lightgbm"
   ]
  },
  {
   "cell_type": "code",
   "execution_count": null,
   "metadata": {},
   "outputs": [],
   "source": [
    "conda install lightgbm"
   ]
  },
  {
   "cell_type": "code",
   "execution_count": 170,
   "metadata": {},
   "outputs": [
    {
     "name": "stderr",
     "output_type": "stream",
     "text": [
      "/Users/vikas/opt/anaconda3/lib/python3.7/site-packages/lightgbm/__init__.py:48: UserWarning: Starting from version 2.2.1, the library file in distribution wheels for macOS is built by the Apple Clang (Xcode_8.3.3) compiler.\n",
      "This means that in case of installing LightGBM from PyPI via the ``pip install lightgbm`` command, you don't need to install the gcc compiler anymore.\n",
      "Instead of that, you need to install the OpenMP library, which is required for running LightGBM on the system with the Apple Clang compiler.\n",
      "You can install the OpenMP library by the following command: ``brew install libomp``.\n",
      "  \"You can install the OpenMP library by the following command: ``brew install libomp``.\", UserWarning)\n"
     ]
    }
   ],
   "source": [
    "import lightgbm as lgb"
   ]
  },
  {
   "cell_type": "code",
   "execution_count": 171,
   "metadata": {},
   "outputs": [],
   "source": [
    "from sklearn.model_selection import train_test_split, cross_val_score\n",
    "\n",
    "from sklearn import metrics\n",
    "from sklearn.metrics import auc\n",
    "from sklearn.metrics import roc_curve\n",
    "from sklearn.metrics import log_loss\n",
    "from sklearn.metrics import roc_auc_score\n",
    "from sklearn.metrics import average_precision_score\n",
    "\n",
    "import datetime\n",
    "\n",
    "from sklearn import model_selection\n",
    "import warnings\n",
    "warnings.filterwarnings('ignore')"
   ]
  },
  {
   "cell_type": "code",
   "execution_count": 172,
   "metadata": {},
   "outputs": [],
   "source": [
    "#converting all categorical features to \"category type\" for LGBM to work\n",
    "for c in train_data.columns:\n",
    "    if ((train_data[c].dtypes == \"object\") | (train_data[c].dtypes == \"bool\") ):\n",
    "      #print(c)\n",
    "      train_data[c] = train_data[c].astype('category')\n",
    "\n",
    "for c in val_data.columns:\n",
    "    if ((val_data[c].dtypes == \"object\") | (val_data[c].dtypes == \"bool\") ):\n",
    "      #print(c)\n",
    "      val_data[c] = val_data[c].astype('category')"
   ]
  },
  {
   "cell_type": "code",
   "execution_count": 173,
   "metadata": {},
   "outputs": [],
   "source": [
    "# Train test 80-20 random split (startified random sampling on fraud rate)\n",
    "X_train, X_test, y_train, y_test  = train_test_split(train_data.drop(columns=[\"sys_claimid\",\"label\"]),train_data.label, test_size=0.20,stratify = train_data.label, random_state=44)\n",
    "\n",
    "X_train, X_test, y_train, y_test = X_train.reset_index(drop = True), X_test.reset_index(drop = True), y_train.reset_index(drop = True), y_test.reset_index(drop = True)\n",
    "\n"
   ]
  },
  {
   "cell_type": "markdown",
   "metadata": {},
   "source": [
    "# LGBM using \"scale post weight\" for handling imbalance"
   ]
  },
  {
   "cell_type": "code",
   "execution_count": 202,
   "metadata": {},
   "outputs": [
    {
     "name": "stdout",
     "output_type": "stream",
     "text": [
      "scale pos weight value: 11.361216298106365\n",
      "Train : 0.6751727126993186\n",
      "Test : 0.634811259934732\n",
      " Validation : 0.66326183488901\n"
     ]
    }
   ],
   "source": [
    "#LGBM using \"scale post weight\" for handling imbalance\n",
    "\n",
    "#calculation for scale pos weight\n",
    "# scale pos weight = sqrt(count of negative class/count of positive class) or (count of negative class/count of positive class)\n",
    "import math \n",
    "print(\"scale pos weight value:\",math.sqrt((X_train.shape[0]-y_train.sum())/y_train.sum()))\n",
    "\n",
    "#LGBM using \"scale post weight\" for handling imbalance\n",
    "params = {\n",
    "    'task': 'train',\n",
    "    'boosting_type': 'gbdt',\n",
    "    'objective': 'binary',\n",
    "    'metric': { 'auc'},\n",
    "    'num_leaves': 2, \n",
    "    'bagging_fraction': 0.5,\n",
    " 'bagging_freq': 5,\n",
    " 'feature_fraction': 0.5,\n",
    " 'learning_rate': 0.01,\n",
    " 'max_bins': 5,\n",
    " 'min_child_weight': 90,\n",
    " 'min_data_in_leaf': 500,\n",
    " 'scale_pos_weight':11.361216298106365\n",
    "\n",
    "}\n",
    "\n",
    "d_train = lgb.Dataset(X_train, label=y_train)\n",
    "clf = lgb.train(params, d_train, 100) #code will run for 100 iterations\n",
    "\n",
    "#Prediction\n",
    "y_pred_train=clf.predict(X_train)\n",
    "y_pred_test=clf.predict(X_test)\n",
    "y_pred_val=clf.predict(val_data.drop(columns=[\"sys_claimid\",\"label\"]))\n",
    "\n",
    "#checking AUC\n",
    "print(\"Train :\", roc_auc_score(y_train, y_pred_train))\n",
    "print(\"Test :\", roc_auc_score(y_test, y_pred_test))\n",
    "print(\" Validation :\", roc_auc_score(val_data.label, y_pred_val))\n",
    "\n"
   ]
  },
  {
   "cell_type": "code",
   "execution_count": 201,
   "metadata": {},
   "outputs": [
    {
     "data": {
      "text/plain": [
       "array([0.06049021, 0.05018396, 0.04677184, ..., 0.05166319, 0.04798207,\n",
       "       0.0442097 ])"
      ]
     },
     "execution_count": 201,
     "metadata": {},
     "output_type": "execute_result"
    }
   ],
   "source": [
    "y_pred_test"
   ]
  },
  {
   "cell_type": "code",
   "execution_count": 204,
   "metadata": {},
   "outputs": [],
   "source": [
    "prediction_1 = np.where(y_pred_test > 0.5,1,0)"
   ]
  },
  {
   "cell_type": "code",
   "execution_count": 205,
   "metadata": {},
   "outputs": [
    {
     "name": "stdout",
     "output_type": "stream",
     "text": [
      "              precision    recall  f1-score   support\n",
      "\n",
      "           1       0.00      0.00      0.00       123\n",
      "           0       0.99      1.00      1.00     15877\n",
      "\n",
      "    accuracy                           0.99     16000\n",
      "   macro avg       0.50      0.50      0.50     16000\n",
      "weighted avg       0.98      0.99      0.99     16000\n",
      "\n"
     ]
    }
   ],
   "source": [
    "print(classification_report(y_test, prediction_1, labels=[1,0]))"
   ]
  },
  {
   "cell_type": "markdown",
   "metadata": {},
   "source": [
    "## LGBM model without using \"scale post weight\" "
   ]
  },
  {
   "cell_type": "code",
   "execution_count": 208,
   "metadata": {},
   "outputs": [
    {
     "name": "stdout",
     "output_type": "stream",
     "text": [
      "Train : 0.6316327354255497\n",
      "Test : 0.6356136682863333\n",
      "VAL : 0.6435596615811043\n"
     ]
    }
   ],
   "source": [
    "# using optimal params as per prior understanding of algorithm. (Also did some hit and trial to get these params)\n",
    "#Can do more detailed search as a next step.\n",
    "params = {\n",
    "    'task': 'train',\n",
    "    'boosting_type': 'gbdt',\n",
    "    'objective': 'binary',\n",
    "    'metric': { 'auc'},\n",
    "    'num_leaves': 2, \n",
    "    'bagging_fraction': 0.5,\n",
    " 'bagging_freq': 5,\n",
    " 'feature_fraction': 0.5,\n",
    " 'learning_rate': 0.01,\n",
    " 'max_bins': 5,\n",
    " 'min_child_weight': 50,\n",
    " 'min_data_in_leaf': 500\n",
    "}\n",
    "\n",
    "\n",
    "d_train = lgb.Dataset(X_train, label=y_train)\n",
    "clf = lgb.train(params, d_train, 100) #code will run for 100 iterations\n",
    "\n",
    "#Prediction\n",
    "y_pred_train=clf.predict(X_train)\n",
    "y_pred_test=clf.predict(X_test)\n",
    "y_pred_val=clf.predict(val_data.drop(columns=[\"sys_claimid\",\"label\"]))\n",
    "\n",
    "#checking AUC\n",
    "print(\"Train :\", roc_auc_score(y_train, y_pred_train))\n",
    "print(\"Test :\", roc_auc_score(y_test, y_pred_test))\n",
    "print(\"VAL :\", roc_auc_score(val_data.label, y_pred_val))"
   ]
  },
  {
   "cell_type": "code",
   "execution_count": 209,
   "metadata": {},
   "outputs": [],
   "source": [
    "prediction_2 = np.where(y_pred_test > 0.5,1,0)"
   ]
  },
  {
   "cell_type": "code",
   "execution_count": 210,
   "metadata": {},
   "outputs": [
    {
     "name": "stdout",
     "output_type": "stream",
     "text": [
      "              precision    recall  f1-score   support\n",
      "\n",
      "           1       0.00      0.00      0.00       123\n",
      "           0       0.99      1.00      1.00     15877\n",
      "\n",
      "    accuracy                           0.99     16000\n",
      "   macro avg       0.50      0.50      0.50     16000\n",
      "weighted avg       0.98      0.99      0.99     16000\n",
      "\n"
     ]
    }
   ],
   "source": [
    "print(classification_report(y_test, prediction_2, labels=[1,0]))"
   ]
  },
  {
   "cell_type": "markdown",
   "metadata": {},
   "source": [
    "## Features important as per LGBM model"
   ]
  },
  {
   "cell_type": "code",
   "execution_count": 176,
   "metadata": {},
   "outputs": [
    {
     "data": {
      "image/png": "[encoded data removed]",
      "text/plain": [
       "<Figure size 432x288 with 1 Axes>"
      ]
     },
     "metadata": {},
     "output_type": "display_data"
    }
   ],
   "source": [
    "# Let us check Important features from the model \n",
    "import matplotlib\n",
    "import matplotlib.pyplot as plt\n",
    "lgb.plot_importance(clf, max_num_features=10, importance_type='gain')\n",
    "plt.show()"
   ]
  },
  {
   "cell_type": "code",
   "execution_count": null,
   "metadata": {},
   "outputs": [],
   "source": [
    "## Using the validation dataset with 20000 new IDs to valiadte the fraud"
   ]
  },
  {
   "cell_type": "code",
   "execution_count": 177,
   "metadata": {},
   "outputs": [
    {
     "data": {
      "text/html": [
       "<div>\n",
       "<style scoped>\n",
       "    .dataframe tbody tr th:only-of-type {\n",
       "        vertical-align: middle;\n",
       "    }\n",
       "\n",
       "    .dataframe tbody tr th {\n",
       "        vertical-align: top;\n",
       "    }\n",
       "\n",
       "    .dataframe thead tr th {\n",
       "        text-align: left;\n",
       "    }\n",
       "</style>\n",
       "<table border=\"1\" class=\"dataframe\">\n",
       "  <thead>\n",
       "    <tr>\n",
       "      <th></th>\n",
       "      <th>sys_claimid</th>\n",
       "      <th>fraud</th>\n",
       "      <th>predicted_probability_of_fraud</th>\n",
       "    </tr>\n",
       "  </thead>\n",
       "  <tbody>\n",
       "    <tr>\n",
       "      <th>0</th>\n",
       "      <td>MTR-845197269-02</td>\n",
       "      <td>0</td>\n",
       "      <td>0.006363</td>\n",
       "    </tr>\n",
       "    <tr>\n",
       "      <th>1</th>\n",
       "      <td>MTR-277591109-02</td>\n",
       "      <td>0</td>\n",
       "      <td>0.007530</td>\n",
       "    </tr>\n",
       "    <tr>\n",
       "      <th>2</th>\n",
       "      <td>MTR-783277250-02</td>\n",
       "      <td>0</td>\n",
       "      <td>0.007036</td>\n",
       "    </tr>\n",
       "    <tr>\n",
       "      <th>3</th>\n",
       "      <td>MTR-128255363-02</td>\n",
       "      <td>0</td>\n",
       "      <td>0.006325</td>\n",
       "    </tr>\n",
       "    <tr>\n",
       "      <th>4</th>\n",
       "      <td>MTR-251228076-02</td>\n",
       "      <td>0</td>\n",
       "      <td>0.007185</td>\n",
       "    </tr>\n",
       "  </tbody>\n",
       "</table>\n",
       "</div>"
      ],
      "text/plain": [
       "        sys_claimid fraud predicted_probability_of_fraud\n",
       "0  MTR-845197269-02     0                       0.006363\n",
       "1  MTR-277591109-02     0                       0.007530\n",
       "2  MTR-783277250-02     0                       0.007036\n",
       "3  MTR-128255363-02     0                       0.006325\n",
       "4  MTR-251228076-02     0                       0.007185"
      ]
     },
     "execution_count": 177,
     "metadata": {},
     "output_type": "execute_result"
    }
   ],
   "source": [
    "# if the predicted probability is > 0.008(cutoff is found out based on hit and trial using confusion matrix shown below) then 1 else 0 \n",
    "# Scoring using final LGBM Model\n",
    "#Prediction\n",
    "\n",
    "y_pred_scoring_1 = pd.DataFrame(np.where(y_pred_val>0.008,1,0))\n",
    "y_pred_scoring_2=pd.DataFrame(y_pred_val)\n",
    "\n",
    "#adding claim id \n",
    "y_pred_scoring=pd.DataFrame(pd.concat([val_data.sys_claimid,y_pred_scoring_1,y_pred_scoring_2], axis=1))\n",
    "y_pred_scoring.columns = [[\"sys_claimid\",\"fraud\",\"predicted_probability_of_fraud\"]]\n",
    "#\n",
    "y_pred_scoring.head()"
   ]
  },
  {
   "cell_type": "code",
   "execution_count": 178,
   "metadata": {},
   "outputs": [
    {
     "name": "stdout",
     "output_type": "stream",
     "text": [
      "Predicted      0      1\n",
      "Actual                 \n",
      "0          45379  18127\n",
      "1            251    241\n"
     ]
    }
   ],
   "source": [
    "#Trying to find the decision point by hit and trial method on Train data. Choose \".0076\" as it was giving decent Recall\n",
    "i = 0.008\n",
    "y_pred_train_cm = np.where(y_pred_train>i,1,0)\n",
    "\n",
    "# Confusion Matrix\n",
    "confusion_matrix = pd.crosstab(y_train, y_pred_train_cm, rownames=['Actual'], colnames=['Predicted'])\n",
    "print (confusion_matrix)"
   ]
  },
  {
   "cell_type": "code",
   "execution_count": 186,
   "metadata": {},
   "outputs": [
    {
     "name": "stdout",
     "output_type": "stream",
     "text": [
      "Train recall: 0.4898373983739837\n",
      "Train precision: 0.013120644599303136\n"
     ]
    }
   ],
   "source": [
    "#precision recall calculation train - 0.008\n",
    "recall= 241/(241+251)\n",
    "print(\"Train recall:\",recall)\n",
    "precision = 241/(241+18127)\n",
    "print(\"Train precision:\",precision)"
   ]
  },
  {
   "cell_type": "code",
   "execution_count": 181,
   "metadata": {},
   "outputs": [
    {
     "name": "stdout",
     "output_type": "stream",
     "text": [
      "Predicted      0     1\n",
      "Actual                \n",
      "0          11267  4610\n",
      "1             61    62\n"
     ]
    }
   ],
   "source": [
    "# Confusion matrix in Test Data\n",
    "i = 0.008\n",
    "y_pred_test_cm = np.where(y_pred_test>i,1,0)\n",
    "#Confusion matrix\n",
    "from sklearn.metrics import confusion_matrix\n",
    "\n",
    "confusion_matrix = pd.crosstab(y_test, y_pred_test_cm, rownames=['Actual'], colnames=['Predicted'])\n",
    "print (confusion_matrix)"
   ]
  },
  {
   "cell_type": "code",
   "execution_count": 187,
   "metadata": {},
   "outputs": [
    {
     "name": "stdout",
     "output_type": "stream",
     "text": [
      "Test recall: 0.5040650406504065\n",
      "Test precision: 0.013270547945205479\n"
     ]
    }
   ],
   "source": [
    "#precision recall calculation test\n",
    "recall= 62/(61+62)\n",
    "print(\"Test recall:\",recall)\n",
    "precision = 62/(62+4610)\n",
    "print(\"Test precision:\",precision)"
   ]
  },
  {
   "cell_type": "code",
   "execution_count": 183,
   "metadata": {},
   "outputs": [
    {
     "name": "stdout",
     "output_type": "stream",
     "text": [
      "Predicted      0     1\n",
      "Actual                \n",
      "0          14055  5809\n",
      "1             61    75\n"
     ]
    }
   ],
   "source": [
    "#confusion matix for validation data\n",
    "\n",
    "i = 0.008\n",
    "y_pred_val_cm = np.where(y_pred_val>i,1,0)\n",
    "#Confusion matrix\n",
    "from sklearn.metrics import confusion_matrix\n",
    "\n",
    "confusion_matrix = pd.crosstab(val_data.label, y_pred_val_cm, rownames=['Actual'], colnames=['Predicted'])\n",
    "print (confusion_matrix)"
   ]
  },
  {
   "cell_type": "code",
   "execution_count": 188,
   "metadata": {},
   "outputs": [
    {
     "name": "stdout",
     "output_type": "stream",
     "text": [
      "Validation recall: 0.5514705882352942\n",
      "Validation precision: 0.01274643099932019\n"
     ]
    }
   ],
   "source": [
    "#precision recall calculation validation\n",
    "recall= 75/(75+61)\n",
    "print(\"Validation recall:\",recall)\n",
    "precision = 75/(75+5809)\n",
    "print(\"Validation precision:\",precision)"
   ]
  },
  {
   "cell_type": "code",
   "execution_count": null,
   "metadata": {},
   "outputs": [],
   "source": []
  }
 ],
 "metadata": {
  "kernelspec": {
   "display_name": "Python 3",
   "language": "python",
   "name": "python3"
  },
  "language_info": {
   "codemirror_mode": {
    "name": "ipython",
    "version": 3
   },
   "file_extension": ".py",
   "mimetype": "text/x-python",
   "name": "python",
   "nbconvert_exporter": "python",
   "pygments_lexer": "ipython3",
   "version": "3.7.6"
  }
 },
 "nbformat": 4,
 "nbformat_minor": 4
}
